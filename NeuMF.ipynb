{
  "cells": [
    {
      "cell_type": "code",
      "execution_count": 1,
      "metadata": {
        "id": "QHJ3hxtDyg5g"
      },
      "outputs": [],
      "source": [
        "from scipy.sparse import coo_matrix\n",
        "import torch\n",
        "import torch.nn as nn\n",
        "import numpy as np\n",
        "from torch.utils.data import DataLoader, TensorDataset\n",
        "import pandas as pd\n",
        "import matplotlib.pyplot as plt\n",
        "import ast\n",
        "import pickle "
      ]
    },
    {
      "cell_type": "code",
      "source": [
        "'''visual_embd = {}\n",
        "with open(\"dict_1000_vit.pickle\", \"rb\") as f:\n",
        "    visual_embd = pickle.load(f) \n",
        "bp()\n",
        "synopsis_embd = {}\n",
        "with open(\"sentence_embeddings_mpnet.pickle\", \"rb\") as f:\n",
        "    synopsis_embd = pickle.load(f) \n",
        "bp()\n",
        "print(\"HEY\")'''"
      ],
      "metadata": {
        "id": "eHpu7ZO8TxCa"
      },
      "execution_count": null,
      "outputs": []
    },
    {
      "cell_type": "code",
      "execution_count": 2,
      "metadata": {
        "colab": {
          "base_uri": "https://localhost:8080/"
        },
        "id": "BCU4b3M8yuq-",
        "outputId": "9b885380-6d67-499d-f476-63a97ebe19c5"
      },
      "outputs": [
        {
          "output_type": "stream",
          "name": "stderr",
          "text": [
            "<ipython-input-2-7df933736d05>:6: FutureWarning: The error_bad_lines argument has been deprecated and will be removed in a future version. Use on_bad_lines in the future.\n",
            "\n",
            "\n",
            "  reviews_data = pd.read_csv(reviews_data_path, engine='python', sep=',', error_bad_lines=False)\n"
          ]
        }
      ],
      "source": [
        "animes_data_path = \"preprocessed_animes.csv\"\n",
        "profiles_data_path = \"preprocessed_profiles.csv\"\n",
        "reviews_data_path = \"preprocessed_reviews.csv\"\n",
        "animes_data = pd.read_csv(animes_data_path)\n",
        "profiles_data = pd.read_csv(profiles_data_path)\n",
        "reviews_data = pd.read_csv(reviews_data_path, engine='python', sep=',', error_bad_lines=False)\n",
        "\n",
        "animes = animes_data.copy()\n",
        "profiles = profiles_data.copy()\n",
        "reviews = reviews_data.copy()"
      ]
    },
    {
      "cell_type": "code",
      "execution_count": 3,
      "metadata": {
        "id": "uE3FQGSiy01z"
      },
      "outputs": [],
      "source": [
        "np.random.seed(0)\n",
        "unique_AnimeID = reviews['anime_uid'].unique().tolist()\n",
        "unique_users = reviews['profile'].unique()\n",
        "j = 0\n",
        "user_old2new_id_dict = dict()\n",
        "for u in unique_users:\n",
        "    user_old2new_id_dict[u] = j\n",
        "    j += 1\n",
        "j = 0\n",
        "movie_old2new_id_dict = dict()\n",
        "movie_new2old_id_dict = dict()\n",
        "for i in unique_AnimeID:\n",
        "    movie_old2new_id_dict[i] = j\n",
        "    movie_new2old_id_dict[j] = i\n",
        "    j += 1"
      ]
    },
    {
      "cell_type": "code",
      "execution_count": 4,
      "metadata": {
        "id": "_1MJzy0lzh-Y"
      },
      "outputs": [],
      "source": [
        "user_list = reviews['profile'].values\n",
        "movie_list = reviews['anime_uid'].values\n",
        "for j in range(len(reviews)):\n",
        "    user_list[j] = user_old2new_id_dict[user_list[j]]\n",
        "    movie_list[j] = movie_old2new_id_dict[movie_list[j]]\n",
        "reviews['profile'] = user_list\n",
        "reviews['anime_uid'] = movie_list\n",
        "\n",
        "# generate train_df with 70% samples and test_df with 30% samples, and there should have no overlap between them.\n",
        "train_index = np.random.random(len(reviews)) <= 0.7\n",
        "train_df = reviews[train_index]\n",
        "test_df = reviews[~train_index]\n",
        "\n",
        "# generate train_mat and test_mat\n",
        "num_user = len(reviews['profile'].unique())\n",
        "num_items = len(reviews['anime_uid'].unique())\n",
        "\n",
        "train_mat = coo_matrix((train_df['score'].values, (train_df['profile'].values, train_df['anime_uid'].values)), shape=(num_user, num_items)).astype(float).toarray()\n",
        "test_mat = coo_matrix((test_df['score'].values, (test_df['profile'].values, test_df['anime_uid'].values)), shape=(num_user, num_items)).astype(float).toarray()"
      ]
    },
    {
      "cell_type": "code",
      "execution_count": 5,
      "metadata": {
        "id": "L2rLfCdUPezs"
      },
      "outputs": [],
      "source": [
        "def MF_PreTrained_Embeddings(latent_factors, num_epochs):\n",
        "  P = np.random.rand(num_user, latent_factors)\n",
        "  Q = np.random.rand(latent_factors, num_items)\n",
        "\n",
        "  a = 0.01\n",
        "  b = 0.1\n",
        "  train_loss = []\n",
        "  test_loss = []\n",
        "  nonzero_indices_train = np.nonzero(train_mat)\n",
        "  nonzero_indices_test = np.nonzero(test_mat)\n",
        "\n",
        "  for epoch in range(num_epochs):\n",
        "      for i in range(num_user):\n",
        "          for j in range(num_items):\n",
        "              if train_mat[i, j] > 0:\n",
        "                  diff = train_mat[i, j] - np.dot(P[i, :], Q[:, j])\n",
        "                  P[i, :] += a * (diff * Q[:, j] - b * P[i, :])\n",
        "                  Q[:, j] += a * (diff * P[i, :] - b * Q[:, j])\n",
        "\n",
        "      predicted_matrix = np.dot(P, Q)\n",
        "      \n",
        "      rmse_train = np.sqrt(np.mean((predicted_matrix[nonzero_indices_train] - train_mat[nonzero_indices_train])**2))\n",
        "      rmse_test = np.sqrt(np.mean((predicted_matrix[nonzero_indices_test] - test_mat[nonzero_indices_test])**2))\n",
        "\n",
        "      train_loss.append(rmse_train)\n",
        "      test_loss.append(rmse_test)\n",
        "\n",
        "      print('Epoch', epoch + 1, 'of', num_epochs, end=': ')\n",
        "      print('RMSE Train Loss: {:.4f}'.format(rmse_train), end=', ')\n",
        "      print('RMSE Test Loss: {:.4f}'.format(rmse_test))\n",
        "    \n",
        "  return P, Q"
      ]
    },
    {
      "cell_type": "code",
      "execution_count": 6,
      "metadata": {
        "colab": {
          "base_uri": "https://localhost:8080/"
        },
        "id": "WhuX16IOg24e",
        "outputId": "31672812-6e94-43a5-d2f2-a2c85175e57d"
      },
      "outputs": [
        {
          "output_type": "stream",
          "name": "stdout",
          "text": [
            "Epoch 1 of 5: RMSE Train Loss: 1.8094, RMSE Test Loss: 2.0557\n",
            "Epoch 2 of 5: RMSE Train Loss: 1.5989, RMSE Test Loss: 1.9685\n",
            "Epoch 3 of 5: RMSE Train Loss: 1.4802, RMSE Test Loss: 1.9379\n",
            "Epoch 4 of 5: RMSE Train Loss: 1.3959, RMSE Test Loss: 1.9260\n",
            "Epoch 5 of 5: RMSE Train Loss: 1.3279, RMSE Test Loss: 1.9225\n"
          ]
        }
      ],
      "source": [
        "latent_factors_for_MF = 24\n",
        "num_epochs = 5\n",
        "P1, Q1 = MF_PreTrained_Embeddings(latent_factors_for_MF, num_epochs)"
      ]
    },
    {
      "cell_type": "code",
      "execution_count": 7,
      "metadata": {
        "id": "y22CtrRuMRkE"
      },
      "outputs": [],
      "source": [
        "import math \n",
        "\n",
        "popularity_list = [math.log(popularity, 2) + 0.000001 for popularity in animes['popularity'].tolist()]\n",
        "score = animes['score'].tolist()"
      ]
    },
    {
      "cell_type": "code",
      "execution_count": 8,
      "metadata": {
        "id": "nt7lQOw7k5d5"
      },
      "outputs": [],
      "source": [
        "indices_train = np.argwhere(train_mat > 0)\n",
        "train_df = {'user_id': [], 'item_id': [], 'rating': [], 'item_features': []}\n",
        "for index in indices_train:\n",
        "  train_df['user_id'].append(index[0])\n",
        "  train_df['item_id'].append(index[1])\n",
        "  train_df['rating'].append(train_mat[index[0], index[1]])\n",
        "  train_df['item_features'].append([1 / popularity_list[index[1]], score[index[1]] / 100])\n",
        "\n",
        "indices_test = np.argwhere(test_mat > 0)\n",
        "test_df = {'user_id': [], 'item_id': [], 'rating': [], 'item_features': []}\n",
        "for index in indices_test:\n",
        "  test_df['user_id'].append(index[0])\n",
        "  test_df['item_id'].append(index[1])\n",
        "  test_df['rating'].append(test_mat[index[0], index[1]])\n",
        "  test_df['item_features'].append([1 / popularity_list[index[1]], score[index[1]] / 100])"
      ]
    },
    {
      "cell_type": "code",
      "execution_count": 9,
      "metadata": {
        "colab": {
          "base_uri": "https://localhost:8080/"
        },
        "id": "EbGe-NCul2pe",
        "outputId": "54037b97-50a7-413a-a931-cf3571f0e2fd"
      },
      "outputs": [
        {
          "output_type": "stream",
          "name": "stdout",
          "text": [
            "   user_id  item_id  rating                               item_features\n",
            "0        0        0     8.0               [0.14006480387583592, 0.0882]\n",
            "1        0       69     6.0               [0.08490645695377619, 0.0788]\n",
            "2        0      106     7.0                [0.1042080160150738, 0.0791]\n",
            "3        0      119     8.0  [0.08835499833417422, 0.07919999999999999]\n",
            "4        0      167     7.0               [0.08674556677079649, 0.0796]\n",
            "   user_id  item_id  rating                  item_features\n",
            "0        0        1     8.0  [0.20801455440644562, 0.0883]\n",
            "1        0       94     6.0   [0.08625950625710395, 0.079]\n",
            "2        0      147     9.0  [0.08992088617901264, 0.0794]\n",
            "3        0      196     7.0  [0.08455551647372916, 0.0799]\n",
            "4        0      237     7.0  [0.12637607214413166, 0.0802]\n"
          ]
        }
      ],
      "source": [
        "train_df = pd.DataFrame(train_df)\n",
        "print(train_df.head())\n",
        "\n",
        "test_df = pd.DataFrame(test_df)\n",
        "print(test_df.head())"
      ]
    },
    {
      "cell_type": "code",
      "execution_count": 10,
      "metadata": {
        "id": "qKauyEDQkMb4"
      },
      "outputs": [],
      "source": [
        "from torch.utils.data import DataLoader, TensorDataset\n",
        "train_user_ids = torch.LongTensor(train_df['user_id'].values)\n",
        "train_item_ids = torch.LongTensor(train_df['item_id'].values)\n",
        "train_ratings = torch.FloatTensor(train_df['rating'].values)\n",
        "train_item_features = torch.FloatTensor(train_df['item_features'])\n",
        "\n",
        "train_dataset = TensorDataset(train_user_ids, train_item_ids, train_ratings, train_item_features)\n",
        "batch_size = 256\n",
        "\n",
        "# Create a DataLoader that generates batches of data\n",
        "train_dataloader = DataLoader(train_dataset, batch_size=batch_size, shuffle=True)\n",
        "\n",
        "test_user_ids = torch.LongTensor(test_df['user_id'].values)\n",
        "test_item_ids = torch.LongTensor(test_df['item_id'].values)\n",
        "test_ratings = torch.FloatTensor(test_df['rating'].values)\n",
        "test_item_features = torch.FloatTensor(test_df['item_features'])\n",
        "\n",
        "test_dataset = TensorDataset(test_user_ids, test_item_ids, test_ratings, test_item_features)\n",
        "\n",
        "# Create a DataLoader that generates batches of data\n",
        "test_dataloader = DataLoader(test_dataset, batch_size=batch_size, shuffle=True)"
      ]
    },
    {
      "cell_type": "code",
      "execution_count": 11,
      "metadata": {
        "id": "26tbumAE0Law"
      },
      "outputs": [],
      "source": [
        "import torch\n",
        "import torch.nn as nn\n",
        "import torch.nn.functional as F\n",
        "\n",
        "class NCF(nn.Module):\n",
        "    def __init__(self, num_users, num_items, embedding_dim, hidden_dim, item_features_dim, pretrained_user_embs, pretrained_item_embs):\n",
        "        super(NCF, self).__init__()\n",
        "        self.num_users = num_users\n",
        "        self.num_items = num_items\n",
        "        self.embedding_dim = embedding_dim\n",
        "        self.hidden_dim = hidden_dim\n",
        "        self.item_features_dim = item_features_dim\n",
        "        \n",
        "        # User and item embeddings\n",
        "        self.user_embed = nn.Embedding(num_users, embedding_dim)\n",
        "        self.item_embed = nn.Embedding(num_items, embedding_dim)\n",
        "        \n",
        "        self.fc1 = nn.Linear(embedding_dim * 2 + item_features_dim, hidden_dim)\n",
        "        self.fc2 = nn.Linear(hidden_dim, 1)\n",
        "        \n",
        "        if pretrained_user_embs is not None:\n",
        "            self.user_embed.weight.data.copy_(torch.from_numpy(pretrained_user_embs))\n",
        "        if pretrained_item_embs is not None:\n",
        "            self.item_embed.weight.data.copy_(torch.from_numpy(pretrained_item_embs)) \n",
        "\n",
        "        \n",
        "    def forward(self, user, item, item_features):\n",
        "        # Embedding lookup\n",
        "        user_embed = self.user_embed(user)\n",
        "        item_embed = self.item_embed(item)\n",
        "        \n",
        "        # Concatenate the user and item embeddings\n",
        "        x = None\n",
        "        if self.item_features_dim == 0:\n",
        "          x = torch.cat([user_embed, item_embed], dim=1)\n",
        "        else:\n",
        "          x = torch.cat([user_embed, item_embed, item_features], dim=1)\n",
        "        \n",
        "        x = F.relu(self.fc1(x))\n",
        "        x = F.relu(self.fc2(x))\n",
        "        # Apply sigmoid function to output\n",
        "        x = torch.sigmoid(x) * 10\n",
        "        \n",
        "        return x.squeeze(), self.user_embed, self.item_embed\n"
      ]
    },
    {
      "cell_type": "code",
      "execution_count": 12,
      "metadata": {
        "id": "ON5Y2G2W4pYa"
      },
      "outputs": [],
      "source": [
        "from pandas._libs.tslibs.offsets import QuarterOffset\n",
        "# Define the model, loss function, and optimizer\n",
        "import matplotlib.pyplot as plt\n",
        "\n",
        "def train_NCF(item_features_dim, lr, num_epochs, hidden_dim, latent_factors, P, Q):\n",
        "  embedding_dim = latent_factors\n",
        "  \n",
        "  model = NCF(num_user, num_items, embedding_dim, hidden_dim, item_features_dim, P, Q)\n",
        "  loss_fn = nn.MSELoss()\n",
        "  optimizer = torch.optim.Adam(model.parameters(), lr=lr)\n",
        "  # Training loop\n",
        "  train_loss = []\n",
        "  test_loss = []\n",
        "  user_latent = None\n",
        "  item_latent = None\n",
        "\n",
        "  for epoch in range(num_epochs):\n",
        "      model.train()\n",
        "      running_train_loss = []\n",
        "      for batch in train_dataloader:\n",
        "          # Unpack the batch\n",
        "          user, item, rating, item_features = batch\n",
        "          \n",
        "          # Forward pass\n",
        "          rating_pred, user_embed, item_embed = model(user, item, item_features)\n",
        "          loss = loss_fn(rating_pred, rating)\n",
        "          running_train_loss.append(np.sqrt(loss.item()))\n",
        "          \n",
        "          # Backward pass and optimization\n",
        "          optimizer.zero_grad()\n",
        "          loss.backward()\n",
        "          optimizer.step()\n",
        "        \n",
        "      model.eval()\n",
        "      running_test_loss = []\n",
        "\n",
        "      with torch.no_grad():\n",
        "        for batch in test_dataloader:\n",
        "          user, item, rating, item_features = batch\n",
        "          rating_pred, _, _ = model(user, item, item_features)\n",
        "          loss = loss_fn(rating_pred, rating)\n",
        "          running_test_loss.append(np.sqrt(loss.item()))\n",
        "      \n",
        "      print('Epoch', epoch + 1, 'of', num_epochs, end=': ')\n",
        "      print('RMSE Train Loss: {:.4f}'.format(np.mean(running_train_loss)), end=', ')\n",
        "      print('RMSE Test Loss: {:.4f}'.format(np.mean(running_test_loss)))\n",
        "\n",
        "      train_loss.append(np.mean(running_train_loss))\n",
        "      test_loss.append(np.mean(running_test_loss))\n",
        "\n",
        "      if min(test_loss) == np.mean(running_test_loss):\n",
        "        user_latent = user_embed\n",
        "        item_latent = item_embed\n",
        "\n",
        "  x = [i + 1 for i in range(num_epochs)]\n",
        "  plt.plot(x, train_loss, label='train_loss')\n",
        "  plt.plot(x, test_loss, label='test_loss')\n",
        "  leg = plt.legend(loc='upper center')\n",
        "  plt.xticks([i + 1 for i in range(0, num_epochs, 3)]) \n",
        "  plt.show()\n",
        "\n",
        "  return user_latent, item_latent"
      ]
    },
    {
      "cell_type": "markdown",
      "metadata": {
        "id": "MtXr5O2Ie0M4"
      },
      "source": [
        "### Baseline NCF"
      ]
    },
    {
      "cell_type": "code",
      "execution_count": 57,
      "metadata": {
        "colab": {
          "base_uri": "https://localhost:8080/",
          "height": 600
        },
        "id": "OuGoK30ui46x",
        "outputId": "e44ebe2d-3782-4758-e948-e68e748ec365"
      },
      "outputs": [
        {
          "output_type": "stream",
          "name": "stdout",
          "text": [
            "Epoch 1 of 10: RMSE Train Loss: 2.1390, RMSE Test Loss: 2.0107\n",
            "Epoch 2 of 10: RMSE Train Loss: 1.8256, RMSE Test Loss: 1.9340\n",
            "Epoch 3 of 10: RMSE Train Loss: 1.6406, RMSE Test Loss: 1.9197\n",
            "Epoch 4 of 10: RMSE Train Loss: 1.5211, RMSE Test Loss: 1.9517\n",
            "Epoch 5 of 10: RMSE Train Loss: 1.4222, RMSE Test Loss: 1.9726\n",
            "Epoch 6 of 10: RMSE Train Loss: 1.3426, RMSE Test Loss: 2.0013\n",
            "Epoch 7 of 10: RMSE Train Loss: 1.2768, RMSE Test Loss: 2.0208\n",
            "Epoch 8 of 10: RMSE Train Loss: 1.2215, RMSE Test Loss: 2.0259\n",
            "Epoch 9 of 10: RMSE Train Loss: 1.1815, RMSE Test Loss: 2.0364\n",
            "Epoch 10 of 10: RMSE Train Loss: 1.1524, RMSE Test Loss: 2.0643\n"
          ]
        },
        {
          "output_type": "display_data",
          "data": {
            "text/plain": [
              "<Figure size 640x480 with 1 Axes>"
            ],
            "image/png": "[encoded data removed]"
          },
          "metadata": {}
        }
      ],
      "source": [
        "item_features_dim = 0\n",
        "lr = 0.01\n",
        "num_epochs = 10\n",
        "hidden_dim = 64\n",
        "latent_factors = 32\n",
        "\n",
        "U, V = train_NCF(item_features_dim, lr, num_epochs, hidden_dim, latent_factors, None, None)"
      ]
    },
    {
      "cell_type": "markdown",
      "metadata": {
        "id": "gugKjuLPe3X7"
      },
      "source": [
        "### NCF + MF Hybrid (Uses pretrained embeddings of MF)"
      ]
    },
    {
      "cell_type": "code",
      "execution_count": null,
      "metadata": {
        "colab": {
          "base_uri": "https://localhost:8080/",
          "height": 617
        },
        "id": "rEXCz6j8Rpmm",
        "outputId": "3116d653-4b56-4622-b8ac-63e10af0b732"
      },
      "outputs": [
        {
          "output_type": "stream",
          "name": "stdout",
          "text": [
            "Epoch 1 of 10: RMSE Train Loss: 2.1230, RMSE Test Loss: 2.0793\n",
            "Epoch 2 of 10: RMSE Train Loss: 1.9145, RMSE Test Loss: 1.9517\n",
            "Epoch 3 of 10: RMSE Train Loss: 1.7294, RMSE Test Loss: 1.8839\n",
            "Epoch 4 of 10: RMSE Train Loss: 1.6228, RMSE Test Loss: 1.8570\n",
            "Epoch 5 of 10: RMSE Train Loss: 1.5637, RMSE Test Loss: 1.8552\n",
            "Epoch 6 of 10: RMSE Train Loss: 1.5254, RMSE Test Loss: 1.8561\n",
            "Epoch 7 of 10: RMSE Train Loss: 1.4964, RMSE Test Loss: 1.8647\n",
            "Epoch 8 of 10: RMSE Train Loss: 1.4708, RMSE Test Loss: 1.8641\n",
            "Epoch 9 of 10: RMSE Train Loss: 1.4473, RMSE Test Loss: 1.8687\n",
            "Epoch 10 of 10: RMSE Train Loss: 1.4275, RMSE Test Loss: 1.8721\n"
          ]
        },
        {
          "output_type": "display_data",
          "data": {
            "text/plain": [
              "<Figure size 640x480 with 1 Axes>"
            ],
            "image/png": "[encoded data removed]"
          },
          "metadata": {}
        },
        {
          "output_type": "execute_result",
          "data": {
            "text/plain": [
              "(Embedding(10692, 24), Embedding(6787, 24))"
            ]
          },
          "metadata": {},
          "execution_count": 281
        }
      ],
      "source": [
        "item_features_dim = 0\n",
        "lr = 0.0005\n",
        "num_epochs = 10\n",
        "latent_factors = latent_factors_for_MF\n",
        "hidden_dim = 64\n",
        "train_NCF(item_features_dim, lr, num_epochs, hidden_dim, latent_factors, P1, Q1.T)"
      ]
    },
    {
      "cell_type": "markdown",
      "metadata": {
        "id": "KNNhxVMmfAq8"
      },
      "source": [
        "### NCF + Item Features"
      ]
    },
    {
      "cell_type": "code",
      "execution_count": 61,
      "metadata": {
        "colab": {
          "base_uri": "https://localhost:8080/",
          "height": 960
        },
        "id": "OnRIkcMUSJba",
        "outputId": "09f8b7ee-da3a-4a23-8aa4-4e92f12a1ee7"
      },
      "outputs": [
        {
          "output_type": "stream",
          "name": "stdout",
          "text": [
            "Epoch 1 of 30: RMSE Train Loss: 2.3516, RMSE Test Loss: 2.2307\n",
            "Epoch 2 of 30: RMSE Train Loss: 2.1892, RMSE Test Loss: 2.1857\n",
            "Epoch 3 of 30: RMSE Train Loss: 2.1210, RMSE Test Loss: 2.1403\n",
            "Epoch 4 of 30: RMSE Train Loss: 2.0474, RMSE Test Loss: 2.0959\n",
            "Epoch 5 of 30: RMSE Train Loss: 1.9745, RMSE Test Loss: 2.0683\n",
            "Epoch 6 of 30: RMSE Train Loss: 1.9063, RMSE Test Loss: 2.0436\n",
            "Epoch 7 of 30: RMSE Train Loss: 1.8442, RMSE Test Loss: 2.0241\n",
            "Epoch 8 of 30: RMSE Train Loss: 1.7878, RMSE Test Loss: 2.0103\n",
            "Epoch 9 of 30: RMSE Train Loss: 1.7346, RMSE Test Loss: 2.0077\n",
            "Epoch 10 of 30: RMSE Train Loss: 1.6875, RMSE Test Loss: 1.9951\n",
            "Epoch 11 of 30: RMSE Train Loss: 1.6442, RMSE Test Loss: 1.9916\n",
            "Epoch 12 of 30: RMSE Train Loss: 1.6024, RMSE Test Loss: 1.9920\n",
            "Epoch 13 of 30: RMSE Train Loss: 1.5650, RMSE Test Loss: 1.9908\n",
            "Epoch 14 of 30: RMSE Train Loss: 1.5305, RMSE Test Loss: 1.9882\n",
            "Epoch 15 of 30: RMSE Train Loss: 1.4978, RMSE Test Loss: 1.9933\n",
            "Epoch 16 of 30: RMSE Train Loss: 1.4679, RMSE Test Loss: 1.9912\n",
            "Epoch 17 of 30: RMSE Train Loss: 1.4399, RMSE Test Loss: 1.9981\n",
            "Epoch 18 of 30: RMSE Train Loss: 1.4157, RMSE Test Loss: 2.0023\n",
            "Epoch 19 of 30: RMSE Train Loss: 1.3935, RMSE Test Loss: 2.0047\n",
            "Epoch 20 of 30: RMSE Train Loss: 1.3673, RMSE Test Loss: 2.0119\n",
            "Epoch 21 of 30: RMSE Train Loss: 1.3486, RMSE Test Loss: 2.0167\n",
            "Epoch 22 of 30: RMSE Train Loss: 1.3288, RMSE Test Loss: 2.0188\n",
            "Epoch 23 of 30: RMSE Train Loss: 1.3099, RMSE Test Loss: 2.0223\n",
            "Epoch 24 of 30: RMSE Train Loss: 1.2917, RMSE Test Loss: 2.0305\n",
            "Epoch 25 of 30: RMSE Train Loss: 1.2744, RMSE Test Loss: 2.0346\n",
            "Epoch 26 of 30: RMSE Train Loss: 1.2586, RMSE Test Loss: 2.0396\n",
            "Epoch 27 of 30: RMSE Train Loss: 1.2444, RMSE Test Loss: 2.0464\n",
            "Epoch 28 of 30: RMSE Train Loss: 1.2303, RMSE Test Loss: 2.0540\n",
            "Epoch 29 of 30: RMSE Train Loss: 1.2161, RMSE Test Loss: 2.0569\n",
            "Epoch 30 of 30: RMSE Train Loss: 1.2025, RMSE Test Loss: 2.0610\n"
          ]
        },
        {
          "output_type": "display_data",
          "data": {
            "text/plain": [
              "<Figure size 640x480 with 1 Axes>"
            ],
            "image/png": "[encoded data removed]"
          },
          "metadata": {}
        },
        {
          "output_type": "execute_result",
          "data": {
            "text/plain": [
              "(Embedding(10692, 24), Embedding(6787, 24))"
            ]
          },
          "metadata": {},
          "execution_count": 61
        }
      ],
      "source": [
        "item_features_dim = 2\n",
        "lr=0.001\n",
        "num_epochs = 30\n",
        "latent_factors = latent_factors_for_MF\n",
        "train_NCF(item_features_dim, lr, num_epochs, hidden_dim, latent_factors, None, None)"
      ]
    },
    {
      "cell_type": "code",
      "execution_count": 51,
      "metadata": {
        "id": "EnpLdBh-6eMk"
      },
      "outputs": [],
      "source": [
        "import torch\n",
        "import torch.nn as nn\n",
        "\n",
        "class NeuMF(nn.Module):\n",
        "    def __init__(self, num_users, num_items, U, V, P, Q, embedding_dim=32, mf_latent=24, layers=[8, 4, 2], dropout=0.3):\n",
        "        super(NeuMF, self).__init__()\n",
        "        \n",
        "        self.user_emb = nn.Embedding(num_users, embedding_dim)\n",
        "        self.item_emb = nn.Embedding(num_items, embedding_dim)\n",
        "\n",
        "        self.user_emb2 = nn.Embedding(num_users, mf_latent)\n",
        "        self.item_emb2 = nn.Embedding(num_items, mf_latent)\n",
        "        \n",
        "        self.mlp_layers = []\n",
        "        in_dim = 2 * embedding_dim\n",
        "        for layer_size in layers:\n",
        "            self.mlp_layers.append(nn.Linear(in_dim, layer_size))\n",
        "            self.mlp_layers.append(nn.ReLU())\n",
        "            self.mlp_layers.append(nn.Dropout(p=dropout))\n",
        "            in_dim = layer_size\n",
        "        \n",
        "        self.mf_user = nn.Linear(mf_latent, mf_latent)\n",
        "        self.mf_item = nn.Linear(mf_latent, mf_latent)\n",
        "        \n",
        "        self.pred_layer = nn.Linear(in_dim + mf_latent, 1)\n",
        "        \n",
        "        if U is not None:\n",
        "            self.user_emb.weight.data.copy_(U.weight.data)\n",
        "        if V is not None:\n",
        "            self.item_emb.weight.data.copy_(V.weight.data)\n",
        "        if P is not None:\n",
        "            self.user_emb2.weight.data.copy_(torch.from_numpy(P))\n",
        "        if Q is not None:\n",
        "            self.item_emb2.weight.data.copy_(torch.from_numpy(Q))\n",
        "        \n",
        "    def forward(self, user, item):\n",
        "        user_emb = self.user_emb(user)\n",
        "        item_emb = self.item_emb(item)\n",
        "        \n",
        "        mlp_in = torch.cat([user_emb, item_emb], dim=1)\n",
        "        for layer in self.mlp_layers:\n",
        "            mlp_in = layer(mlp_in)\n",
        "        \n",
        "        mf_user_emb = self.user_emb2(user)\n",
        "        mf_item_emb = self.item_emb2(item)\n",
        "\n",
        "        mf_in = mf_user_emb * mf_item_emb\n",
        "        \n",
        "        pred_in = torch.cat([mlp_in, mf_in], dim=1)\n",
        "        prediction = torch.sigmoid(self.pred_layer(pred_in)) * 10\n",
        "        \n",
        "        return prediction.squeeze()"
      ]
    },
    {
      "cell_type": "code",
      "execution_count": 40,
      "metadata": {
        "id": "Hqx6KuZy6hIE"
      },
      "outputs": [],
      "source": [
        "def train_NeuMF(lr, num_epochs, latent_factors, U, V, P, Q):\n",
        "  embedding_dim = latent_factors\n",
        "  model = NeuMF(num_user, num_items, U, V, P, Q, embedding_dim)\n",
        "  loss_fn = nn.MSELoss()\n",
        "  optimizer = torch.optim.Adam(model.parameters(), lr=lr)\n",
        "\n",
        "  train_loss = []\n",
        "  test_loss = []\n",
        "  for epoch in range(num_epochs):\n",
        "      model.train()\n",
        "      running_train_loss = []\n",
        "      for batch in train_dataloader:\n",
        "          user, item, rating, item_features = batch\n",
        "          \n",
        "          rating_pred = model(user, item)\n",
        "          loss = loss_fn(rating_pred, rating)\n",
        "          running_train_loss.append(np.sqrt(loss.item()))\n",
        "          \n",
        "          optimizer.zero_grad()\n",
        "          loss.backward()\n",
        "          optimizer.step()\n",
        "        \n",
        "      model.eval()\n",
        "      running_test_loss = []\n",
        "\n",
        "      with torch.no_grad():\n",
        "        for batch in test_dataloader:\n",
        "          user, item, rating, item_features = batch\n",
        "          rating_pred = model(user, item)\n",
        "          loss = loss_fn(rating_pred, rating)\n",
        "          running_test_loss.append(np.sqrt(loss.item()))\n",
        "      \n",
        "      print('Epoch', epoch + 1, 'of', num_epochs, end=': ')\n",
        "      print('RMSE Train Loss: {:.4f}'.format(np.mean(running_train_loss)), end=', ')\n",
        "      print('RMSE Test Loss: {:.4f}'.format(np.mean(running_test_loss)))\n",
        "\n",
        "      train_loss.append(np.mean(running_train_loss))\n",
        "      test_loss.append(np.mean(running_test_loss))\n",
        "\n",
        "  x = [i + 1 for i in range(num_epochs)]\n",
        "  plt.plot(x, train_loss, label='train_loss')\n",
        "  plt.plot(x, test_loss, label='test_loss')\n",
        "  leg = plt.legend(loc='upper center')\n",
        "  plt.xticks([i + 1 for i in range(0, num_epochs, 3)]) \n",
        "  plt.show()"
      ]
    },
    {
      "cell_type": "code",
      "execution_count": 60,
      "metadata": {
        "colab": {
          "base_uri": "https://localhost:8080/",
          "height": 600
        },
        "id": "2Ratp7A-9Jn4",
        "outputId": "1408c0a5-86ae-4e67-db90-7280184bc198"
      },
      "outputs": [
        {
          "output_type": "stream",
          "name": "stdout",
          "text": [
            "Epoch 1 of 10: RMSE Train Loss: 2.0922, RMSE Test Loss: 2.0501\n",
            "Epoch 2 of 10: RMSE Train Loss: 1.8538, RMSE Test Loss: 1.9634\n",
            "Epoch 3 of 10: RMSE Train Loss: 1.7110, RMSE Test Loss: 1.8966\n",
            "Epoch 4 of 10: RMSE Train Loss: 1.5884, RMSE Test Loss: 1.8651\n",
            "Epoch 5 of 10: RMSE Train Loss: 1.4937, RMSE Test Loss: 1.8492\n",
            "Epoch 6 of 10: RMSE Train Loss: 1.4140, RMSE Test Loss: 1.8489\n",
            "Epoch 7 of 10: RMSE Train Loss: 1.3459, RMSE Test Loss: 1.8562\n",
            "Epoch 8 of 10: RMSE Train Loss: 1.2837, RMSE Test Loss: 1.8622\n",
            "Epoch 9 of 10: RMSE Train Loss: 1.2228, RMSE Test Loss: 1.8735\n",
            "Epoch 10 of 10: RMSE Train Loss: 1.1688, RMSE Test Loss: 1.8832\n"
          ]
        },
        {
          "output_type": "display_data",
          "data": {
            "text/plain": [
              "<Figure size 640x480 with 1 Axes>"
            ],
            "image/png": "[encoded data removed]"
          },
          "metadata": {}
        }
      ],
      "source": [
        "lr=0.001\n",
        "num_epochs = 10\n",
        "latent_factors = 32\n",
        "train_NeuMF(lr, num_epochs, latent_factors, U, V, P1, Q1.T)"
      ]
    }
  ],
  "metadata": {
    "colab": {
      "provenance": []
    },
    "kernelspec": {
      "display_name": "Python 3",
      "name": "python3"
    },
    "language_info": {
      "name": "python"
    }
  },
  "nbformat": 4,
  "nbformat_minor": 0
}
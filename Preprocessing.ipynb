{
  "nbformat": 4,
  "nbformat_minor": 0,
  "metadata": {
    "colab": {
      "provenance": []
    },
    "kernelspec": {
      "name": "python3",
      "display_name": "Python 3"
    },
    "language_info": {
      "name": "python"
    }
  },
  "cells": [
    {
      "cell_type": "code",
      "source": [
        "import pandas as pd\n",
        "import matplotlib.pyplot as plt\n",
        "import ast\n",
        "\n",
        "animes_data_path = \"./data/animes.csv\"\n",
        "profiles_data_path = \"./data/profiles.csv\"\n",
        "reviews_data_path = \"./data/reviews.csv\""
      ],
      "metadata": {
        "id": "F72yprRMoBxu"
      },
      "execution_count": null,
      "outputs": []
    },
    {
      "cell_type": "code",
      "source": [
        "animes = pd.read_csv(animes_data_path)\n",
        "profiles = pd.read_csv(profiles_data_path)\n",
        "reviews = pd.read_csv(reviews_data_path, engine='python', sep=',', error_bad_lines=False)"
      ],
      "metadata": {
        "colab": {
          "base_uri": "https://localhost:8080/"
        },
        "id": "WvJl1waKoDgl",
        "outputId": "39922bd4-9f32-4f3f-df8e-499d863cf500"
      },
      "execution_count": null,
      "outputs": [
        {
          "output_type": "stream",
          "name": "stderr",
          "text": [
            "<ipython-input-235-7f4491454ba1>:3: FutureWarning: The error_bad_lines argument has been deprecated and will be removed in a future version. Use on_bad_lines in the future.\n",
            "\n",
            "\n",
            "  reviews = pd.read_csv(reviews_data_path, engine='python', sep=',', error_bad_lines=False)\n"
          ]
        }
      ]
    },
    {
      "cell_type": "code",
      "source": [
        "# function to calculate sparsity given number of items, number of users, and number of ratings\n",
        "def sparsity(num_items, num_users, num_ratings):\n",
        "  return (num_items * num_users - num_ratings) / (num_users * num_items)"
      ],
      "metadata": {
        "id": "8lEB8W8AoE9y"
      },
      "execution_count": null,
      "outputs": []
    },
    {
      "cell_type": "code",
      "source": [
        "print(animes.shape)\n",
        "print(profiles.shape)\n",
        "print(reviews.shape)"
      ],
      "metadata": {
        "colab": {
          "base_uri": "https://localhost:8080/"
        },
        "id": "pivRmo1cvZAO",
        "outputId": "9811963b-aa5e-43c0-b555-52ff8bb77303"
      },
      "execution_count": null,
      "outputs": [
        {
          "output_type": "stream",
          "name": "stdout",
          "text": [
            "(19311, 12)\n",
            "(81727, 5)\n",
            "(192112, 7)\n"
          ]
        }
      ]
    },
    {
      "cell_type": "code",
      "source": [
        "# drop all duplicates by primary key\n",
        "animes.drop_duplicates('uid', keep = 'first', inplace=True, ignore_index = True)\n",
        "animes.reset_index(drop = True, inplace=True)\n",
        "\n",
        "profiles.drop_duplicates('profile', keep = 'first', inplace=True, ignore_index = True)\n",
        "profiles.reset_index(drop = True, inplace=True)\n",
        "\n",
        "reviews.drop_duplicates(subset = ['profile', 'uid'], keep = 'first', inplace=True, ignore_index = True)\n",
        "reviews.reset_index(drop = True, inplace=True)"
      ],
      "metadata": {
        "id": "fatUzNAMrPi_"
      },
      "execution_count": null,
      "outputs": []
    },
    {
      "cell_type": "code",
      "source": [
        "# shapes after dropping duplicates match exactly with what is given on the Kaggle dataset description\n",
        "print(animes.shape)\n",
        "print(profiles.shape)\n",
        "print(reviews.shape)"
      ],
      "metadata": {
        "colab": {
          "base_uri": "https://localhost:8080/"
        },
        "id": "bz7b0kJLvemv",
        "outputId": "52d309dc-0ca9-48d7-a564-effb794095a1"
      },
      "execution_count": null,
      "outputs": [
        {
          "output_type": "stream",
          "name": "stdout",
          "text": [
            "(16216, 12)\n",
            "(47885, 5)\n",
            "(130519, 7)\n"
          ]
        }
      ]
    },
    {
      "cell_type": "code",
      "source": [
        "# drop age column initially for base model setup\n",
        "profiles.drop(\"birthday\", axis='columns', inplace=True)\n",
        "profiles.reset_index(drop = True, inplace=True)\n",
        "\n",
        "# drop animes which are only Hentai, and (optionally) drop animes with only one episode (feel free to change and not have it dropped)\n",
        "animes = animes[animes.genre != \"['Hentai']\"]\n",
        "animes = animes[animes.episodes != 1]\n",
        "print(animes.shape)\n",
        "\n",
        "# drop all review entries that do not have the animes or profiles after the above preprocessing steps\n",
        "reviews = reviews[reviews.anime_uid.isin(animes.uid)]\n",
        "reviews = reviews[reviews.profile.isin(profiles.profile)]\n",
        "print(reviews.shape)"
      ],
      "metadata": {
        "colab": {
          "base_uri": "https://localhost:8080/"
        },
        "id": "b28VErsauPhl",
        "outputId": "b168107d-b2e1-4150-d2ec-4f31526e12bd"
      },
      "execution_count": null,
      "outputs": [
        {
          "output_type": "stream",
          "name": "stdout",
          "text": [
            "(7807, 12)\n",
            "(110295, 7)\n"
          ]
        }
      ]
    },
    {
      "cell_type": "code",
      "source": [
        "# remove all reviews of users who have given lesser than three reviews\n",
        "freq = reviews['profile'].value_counts()\n",
        "frequent_values = freq[freq >= 3].index\n",
        "reviews = reviews[reviews['profile'].isin(frequent_values)]\n",
        "print(reviews.shape)\n",
        "\n",
        "# Remove all users from profiles dataset who have given lesser than three reviews\n",
        "profiles = profiles[profiles.profile.isin(reviews.profile)]\n",
        "print(profiles.shape)\n",
        "\n",
        "# remove all animes after the above two preprocessing steps\n",
        "animes = animes[animes.uid.isin(reviews.anime_uid)]\n",
        "print(animes.shape)"
      ],
      "metadata": {
        "colab": {
          "base_uri": "https://localhost:8080/"
        },
        "id": "J_0GXsiA0qzT",
        "outputId": "34e27789-baff-4d4e-8376-74217187dfc1"
      },
      "execution_count": null,
      "outputs": [
        {
          "output_type": "stream",
          "name": "stdout",
          "text": [
            "(69189, 7)\n",
            "(9308, 4)\n",
            "(4138, 12)\n"
          ]
        }
      ]
    },
    {
      "cell_type": "code",
      "source": [
        "# current sparsity of the dataset after preprocessing\n",
        "print(sparsity(animes.shape[0], profiles.shape[0], reviews.shape[0]))"
      ],
      "metadata": {
        "colab": {
          "base_uri": "https://localhost:8080/"
        },
        "id": "ojfiY4Xr3S_X",
        "outputId": "860160c5-1c36-4b51-8bea-871316737ff6"
      },
      "execution_count": null,
      "outputs": [
        {
          "output_type": "stream",
          "name": "stdout",
          "text": [
            "0.9982036531664452\n"
          ]
        }
      ]
    },
    {
      "cell_type": "code",
      "source": [
        "# TODO: Impute gender with some probability in profiles dataset\n",
        "# TODO: Build user-item matrix after preprocessing is complete\n",
        "# Note: The matrix can be made less sparse by using favorite_animes column to assign more scores (before CBCF)"
      ],
      "metadata": {
        "id": "yil-HgA833we"
      },
      "execution_count": null,
      "outputs": []
    }
  ]
}
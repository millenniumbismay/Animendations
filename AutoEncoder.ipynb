{
  "nbformat": 4,
  "nbformat_minor": 0,
  "metadata": {
    "colab": {
      "provenance": []
    },
    "kernelspec": {
      "name": "python3",
      "display_name": "Python 3"
    },
    "language_info": {
      "name": "python"
    }
  },
  "cells": [
    {
      "cell_type": "code",
      "execution_count": null,
      "metadata": {
        "id": "C17UQhFV60s0"
      },
      "outputs": [],
      "source": [
        "import pandas as pd\n",
        "import matplotlib.pyplot as plt\n",
        "import ast\n",
        "\n",
        "animes_data_path = \"./preprocessed_data/preprocessed_animes.csv\"\n",
        "profiles_data_path = \"./preprocessed_data/preprocessed_profiles.csv\"\n",
        "reviews_data_path = \"./preprocessed_data/preprocessed_reviews.csv\""
      ]
    },
    {
      "cell_type": "code",
      "source": [
        "animes_data = pd.read_csv(animes_data_path)\n",
        "profiles_data = pd.read_csv(profiles_data_path)\n",
        "reviews_data = pd.read_csv(reviews_data_path, engine='python', sep=',', error_bad_lines=False)"
      ],
      "metadata": {
        "colab": {
          "base_uri": "https://localhost:8080/"
        },
        "id": "ySoGae3I8fQ3",
        "outputId": "ed324192-42bb-4b6d-b079-d9c08b32525c"
      },
      "execution_count": null,
      "outputs": [
        {
          "output_type": "stream",
          "name": "stderr",
          "text": [
            "<ipython-input-2-28a1db8bd131>:3: FutureWarning: The error_bad_lines argument has been deprecated and will be removed in a future version. Use on_bad_lines in the future.\n",
            "\n",
            "\n",
            "  reviews_data = pd.read_csv(\"preprocessed_reviews.csv\", engine='python', sep=',', error_bad_lines=False)\n"
          ]
        }
      ]
    },
    {
      "cell_type": "code",
      "source": [
        "animes = animes_data.copy()\n",
        "profiles = profiles_data.copy()\n",
        "reviews = reviews_data.copy()"
      ],
      "metadata": {
        "id": "pUUSCg1F8p7I"
      },
      "execution_count": null,
      "outputs": []
    },
    {
      "cell_type": "code",
      "source": [
        "from scipy.sparse import coo_matrix\n",
        "import torch\n",
        "import torch.nn as nn\n",
        "import numpy as np\n",
        "\n",
        "np.random.seed(0)\n",
        "unique_AnimeID = reviews['anime_uid'].unique()\n",
        "unique_users = reviews['profile'].unique()\n",
        "j = 0\n",
        "user_old2new_id_dict = dict()\n",
        "for u in unique_users:\n",
        "    user_old2new_id_dict[u] = j\n",
        "    j += 1\n",
        "j = 0\n",
        "movie_old2new_id_dict = dict()\n",
        "for i in unique_AnimeID:\n",
        "    movie_old2new_id_dict[i] = j\n",
        "    j += 1\n",
        "    \n",
        "# Then, use the generated dictionaries to reindex UserID and MovieID in the data_df\n",
        "user_list = reviews['profile'].values\n",
        "movie_list = reviews['anime_uid'].values\n",
        "for j in range(len(reviews)):\n",
        "    user_list[j] = user_old2new_id_dict[user_list[j]]\n",
        "    movie_list[j] = movie_old2new_id_dict[movie_list[j]]\n",
        "reviews['profile'] = user_list\n",
        "reviews['anime_uid'] = movie_list\n",
        "\n",
        "# generate train_df with 70% samples and test_df with 30% samples, and there should have no overlap between them.\n",
        "train_index = np.random.random(len(reviews)) <= 0.7\n",
        "train_df = reviews[train_index]\n",
        "test_df = reviews[~train_index]\n",
        "\n",
        "# generate train_mat and test_mat\n",
        "num_user = len(reviews['profile'].unique())\n",
        "num_items = len(reviews['anime_uid'].unique())\n",
        "\n",
        "train_mat = coo_matrix((train_df['score'].values, (train_df['profile'].values, train_df['anime_uid'].values)), shape=(num_user, num_items)).astype(float).toarray()\n",
        "test_mat = coo_matrix((test_df['score'].values, (test_df['profile'].values, test_df['anime_uid'].values)), shape=(num_user, num_items)).astype(float).toarray()\n",
        "train_data = torch.FloatTensor(train_mat)\n",
        "test_data = torch.FloatTensor(test_mat)"
      ],
      "metadata": {
        "id": "vPJVTmCF5uXr"
      },
      "execution_count": null,
      "outputs": []
    },
    {
      "cell_type": "code",
      "source": [
        "from torch.utils.data import DataLoader, TensorDataset\n",
        "batchSize = 64\n",
        "train_loader = DataLoader(TensorDataset(train_data), batch_size=batchSize, shuffle=False)\n",
        "test_loader = DataLoader(TensorDataset(test_data), batch_size=batchSize, shuffle=False)"
      ],
      "metadata": {
        "id": "MoK_NjRdRbQB"
      },
      "execution_count": null,
      "outputs": []
    },
    {
      "cell_type": "code",
      "source": [
        "# Load rating matrix\n",
        "encoding_dim = 100\n",
        "rating_scale = 10\n",
        "num_items = len(animes)\n",
        "\n",
        "class Autoencoder(nn.Module):\n",
        "    def __init__(self):\n",
        "        super(Autoencoder, self).__init__()\n",
        "        self.encoder = nn.Sequential(\n",
        "            nn.Linear(num_items, encoding_dim),\n",
        "            nn.ReLU())\n",
        "        \n",
        "        self.decoder = nn.Sequential(\n",
        "            nn.Linear(encoding_dim, num_items),\n",
        "            nn.Sigmoid())\n",
        "\n",
        "    def forward(self, x):\n",
        "        encoded = self.encoder(x)\n",
        "        # Sigmoid outputs 0 - 1 -> we need to scale to 1 - 10\n",
        "        decoded = rating_scale * self.decoder(encoded)\n",
        "        return decoded"
      ],
      "metadata": {
        "id": "_7g8vLz87dZd"
      },
      "execution_count": null,
      "outputs": []
    },
    {
      "cell_type": "code",
      "source": [
        "epochs = 50\n",
        "\n",
        "autoencoder_model = Autoencoder()\n",
        "criterion = nn.MSELoss()\n",
        "optimizer = torch.optim.Adam(autoencoder_model.parameters(), lr=0.0001)\n",
        "train_loss = []\n",
        "test_loss = []\n",
        "for epoch in range(epochs):\n",
        "    autoencoder_model.train()\n",
        "    running_train_loss = []\n",
        "    for data in train_loader:\n",
        "      optimizer.zero_grad()\n",
        "      decoded = autoencoder_model(data[0])\n",
        "      decoded[data[0] == 0] = 0\n",
        "      loss = criterion(decoded, data[0])\n",
        "      running_train_loss.append(np.sqrt(loss.detach().numpy()))\n",
        "      loss.backward()\n",
        "      optimizer.step()\n",
        "\n",
        "    autoencoder_model.eval()\n",
        "    running_test_loss = []\n",
        "    with torch.no_grad():\n",
        "        for data in test_loader:\n",
        "            decoded = autoencoder_model(data[0])\n",
        "            decoded[data[0] == 0] = 0\n",
        "            running_test_loss.append(np.sqrt(criterion(decoded, data[0])))\n",
        "    \n",
        "    print('Epoch', epoch + 1, 'of', epochs, end=': ')\n",
        "    print('RMSE Train Loss: {:.4f}'.format(np.mean(running_train_loss)), end=', ')\n",
        "    print('RMSE Test Loss: {:.4f}'.format(np.mean(running_test_loss)))\n",
        "\n",
        "    train_loss.append(np.mean(running_train_loss))\n",
        "    test_loss.append(np.mean(running_test_loss))"
      ],
      "metadata": {
        "colab": {
          "base_uri": "https://localhost:8080/"
        },
        "id": "1sDSBFoeDrmK",
        "outputId": "57bbd176-7be3-41bf-9a13-ca74f25e2658"
      },
      "execution_count": null,
      "outputs": [
        {
          "output_type": "stream",
          "name": "stdout",
          "text": [
            "Epoch 1 of 50: RMSE Train Loss: 0.0856, RMSE Test Loss: 0.0552\n",
            "Epoch 2 of 50: RMSE Train Loss: 0.0803, RMSE Test Loss: 0.0518\n",
            "Epoch 3 of 50: RMSE Train Loss: 0.0725, RMSE Test Loss: 0.0480\n",
            "Epoch 4 of 50: RMSE Train Loss: 0.0653, RMSE Test Loss: 0.0450\n",
            "Epoch 5 of 50: RMSE Train Loss: 0.0599, RMSE Test Loss: 0.0429\n",
            "Epoch 6 of 50: RMSE Train Loss: 0.0558, RMSE Test Loss: 0.0413\n",
            "Epoch 7 of 50: RMSE Train Loss: 0.0526, RMSE Test Loss: 0.0401\n",
            "Epoch 8 of 50: RMSE Train Loss: 0.0499, RMSE Test Loss: 0.0392\n",
            "Epoch 9 of 50: RMSE Train Loss: 0.0475, RMSE Test Loss: 0.0384\n",
            "Epoch 10 of 50: RMSE Train Loss: 0.0455, RMSE Test Loss: 0.0377\n",
            "Epoch 11 of 50: RMSE Train Loss: 0.0436, RMSE Test Loss: 0.0371\n",
            "Epoch 12 of 50: RMSE Train Loss: 0.0420, RMSE Test Loss: 0.0366\n",
            "Epoch 13 of 50: RMSE Train Loss: 0.0404, RMSE Test Loss: 0.0362\n",
            "Epoch 14 of 50: RMSE Train Loss: 0.0390, RMSE Test Loss: 0.0358\n",
            "Epoch 15 of 50: RMSE Train Loss: 0.0377, RMSE Test Loss: 0.0355\n",
            "Epoch 16 of 50: RMSE Train Loss: 0.0365, RMSE Test Loss: 0.0352\n",
            "Epoch 17 of 50: RMSE Train Loss: 0.0354, RMSE Test Loss: 0.0349\n",
            "Epoch 18 of 50: RMSE Train Loss: 0.0343, RMSE Test Loss: 0.0347\n",
            "Epoch 19 of 50: RMSE Train Loss: 0.0333, RMSE Test Loss: 0.0345\n",
            "Epoch 20 of 50: RMSE Train Loss: 0.0323, RMSE Test Loss: 0.0343\n",
            "Epoch 21 of 50: RMSE Train Loss: 0.0314, RMSE Test Loss: 0.0341\n",
            "Epoch 22 of 50: RMSE Train Loss: 0.0305, RMSE Test Loss: 0.0340\n",
            "Epoch 23 of 50: RMSE Train Loss: 0.0297, RMSE Test Loss: 0.0338\n",
            "Epoch 24 of 50: RMSE Train Loss: 0.0290, RMSE Test Loss: 0.0337\n",
            "Epoch 25 of 50: RMSE Train Loss: 0.0283, RMSE Test Loss: 0.0336\n",
            "Epoch 26 of 50: RMSE Train Loss: 0.0276, RMSE Test Loss: 0.0335\n",
            "Epoch 27 of 50: RMSE Train Loss: 0.0269, RMSE Test Loss: 0.0334\n",
            "Epoch 28 of 50: RMSE Train Loss: 0.0262, RMSE Test Loss: 0.0333\n",
            "Epoch 29 of 50: RMSE Train Loss: 0.0255, RMSE Test Loss: 0.0332\n",
            "Epoch 30 of 50: RMSE Train Loss: 0.0250, RMSE Test Loss: 0.0332\n",
            "Epoch 31 of 50: RMSE Train Loss: 0.0245, RMSE Test Loss: 0.0331\n",
            "Epoch 32 of 50: RMSE Train Loss: 0.0240, RMSE Test Loss: 0.0330\n",
            "Epoch 33 of 50: RMSE Train Loss: 0.0234, RMSE Test Loss: 0.0330\n",
            "Epoch 34 of 50: RMSE Train Loss: 0.0229, RMSE Test Loss: 0.0329\n",
            "Epoch 35 of 50: RMSE Train Loss: 0.0224, RMSE Test Loss: 0.0329\n",
            "Epoch 36 of 50: RMSE Train Loss: 0.0220, RMSE Test Loss: 0.0329\n",
            "Epoch 37 of 50: RMSE Train Loss: 0.0215, RMSE Test Loss: 0.0328\n",
            "Epoch 38 of 50: RMSE Train Loss: 0.0210, RMSE Test Loss: 0.0328\n",
            "Epoch 39 of 50: RMSE Train Loss: 0.0207, RMSE Test Loss: 0.0328\n",
            "Epoch 40 of 50: RMSE Train Loss: 0.0202, RMSE Test Loss: 0.0327\n",
            "Epoch 41 of 50: RMSE Train Loss: 0.0200, RMSE Test Loss: 0.0327\n",
            "Epoch 42 of 50: RMSE Train Loss: 0.0195, RMSE Test Loss: 0.0327\n",
            "Epoch 43 of 50: RMSE Train Loss: 0.0192, RMSE Test Loss: 0.0327\n",
            "Epoch 44 of 50: RMSE Train Loss: 0.0187, RMSE Test Loss: 0.0326\n",
            "Epoch 45 of 50: RMSE Train Loss: 0.0183, RMSE Test Loss: 0.0326\n",
            "Epoch 46 of 50: RMSE Train Loss: 0.0180, RMSE Test Loss: 0.0326\n",
            "Epoch 47 of 50: RMSE Train Loss: 0.0178, RMSE Test Loss: 0.0326\n",
            "Epoch 48 of 50: RMSE Train Loss: 0.0175, RMSE Test Loss: 0.0326\n",
            "Epoch 49 of 50: RMSE Train Loss: 0.0172, RMSE Test Loss: 0.0326\n",
            "Epoch 50 of 50: RMSE Train Loss: 0.0169, RMSE Test Loss: 0.0326\n"
          ]
        }
      ]
    },
    {
      "cell_type": "code",
      "source": [
        "import matplotlib.pyplot as plt\n",
        "x = [i + 1 for i in range(epochs)]\n",
        "plt.plot(x, train_loss, label='train_loss')\n",
        "plt.plot(x, test_loss, label='test_loss')\n",
        "leg = plt.legend(loc='upper center')\n",
        "plt.xticks([i + 1 for i in range(0, epochs, 2)]) \n",
        "plt.show()"
      ],
      "metadata": {
        "colab": {
          "base_uri": "https://localhost:8080/",
          "height": 430
        },
        "id": "-fzhTUpMIJjE",
        "outputId": "39860877-4a02-4965-8d95-5f14c0d3e6ea"
      },
      "execution_count": null,
      "outputs": [
        {
          "output_type": "display_data",
          "data": {
            "text/plain": [
              "<Figure size 640x480 with 1 Axes>"
            ],
            "image/png": "[encoded data removed]"
          },
          "metadata": {}
        }
      ]
    }
  ]
}

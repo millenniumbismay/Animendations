{
  "nbformat": 4,
  "nbformat_minor": 0,
  "metadata": {
    "colab": {
      "provenance": []
    },
    "kernelspec": {
      "name": "python3",
      "display_name": "Python 3"
    },
    "language_info": {
      "name": "python"
    }
  },
  "cells": [
    {
      "cell_type": "code",
      "execution_count": null,
      "metadata": {
        "id": "C17UQhFV60s0"
      },
      "outputs": [],
      "source": [
        "import pandas as pd\n",
        "import matplotlib.pyplot as plt\n",
        "import ast\n",
        "\n",
        "animes_data_path = \"./data/preprocessed_animes.csv\"\n",
        "profiles_data_path = \"./data/preprocessed_profiles.csv\"\n",
        "reviews_data_path = \"./data/preprocessed_reviews.csv\""
      ]
    },
    {
      "cell_type": "code",
      "source": [
        "animes_data = pd.read_csv(animes_data_path)\n",
        "profiles_data = pd.read_csv(profiles_data_path)\n",
        "reviews_data = pd.read_csv(reviews_data_path, engine='python', sep=',', error_bad_lines=False)"
      ],
      "metadata": {
        "colab": {
          "base_uri": "https://localhost:8080/"
        },
        "id": "ySoGae3I8fQ3",
        "outputId": "437f11e2-a7d6-4165-dc53-617ae4f5a228"
      },
      "execution_count": null,
      "outputs": [
        {
          "output_type": "stream",
          "name": "stderr",
          "text": [
            "<ipython-input-2-39739bd06a7d>:3: FutureWarning: The error_bad_lines argument has been deprecated and will be removed in a future version. Use on_bad_lines in the future.\n",
            "\n",
            "\n",
            "  reviews_data = pd.read_csv(reviews_data_path, engine='python', sep=',', error_bad_lines=False)\n"
          ]
        }
      ]
    },
    {
      "cell_type": "code",
      "source": [
        "animes = animes_data.copy()\n",
        "profiles = profiles_data.copy()\n",
        "reviews = reviews_data.copy()"
      ],
      "metadata": {
        "id": "pUUSCg1F8p7I"
      },
      "execution_count": null,
      "outputs": []
    },
    {
      "cell_type": "code",
      "source": [
        "import numpy as np\n",
        "\n",
        "data = []\n",
        "for review in range(0, len(reviews)):\n",
        "  data.append((reviews['profile'][review], reviews['anime_uid'][review], reviews['score'][review]))\n",
        "\n",
        "# Create mapping between original user IDs and new, ordered user IDs\n",
        "unique_users = list(set([d[0] for d in data]))\n",
        "user_mapping = {u: i for i, u in enumerate(unique_users)}\n",
        "\n",
        "unique_items = list(set([d[1] for d in data]))\n",
        "item_mapping = {u: i for i, u in enumerate(unique_items)}\n",
        "\n",
        "# Create user-item rating matrix\n",
        "num_users = len(profiles)\n",
        "num_items = len(animes)\n",
        "rating_matrix = np.zeros((num_users, num_items))\n",
        "for d in data:\n",
        "    user_id = d[0]\n",
        "    item_id = d[1]\n",
        "    rating = d[2]\n",
        "    rating_matrix[user_mapping[user_id], item_mapping[item_id]] = rating\n"
      ],
      "metadata": {
        "id": "QkJPhFew8qSZ"
      },
      "execution_count": null,
      "outputs": []
    },
    {
      "cell_type": "code",
      "source": [
        "from sklearn.model_selection import train_test_split\n",
        "import torch\n",
        "import torch.nn as nn\n",
        "import numpy as np\n",
        "train_data, test_data = train_test_split(rating_matrix, test_size=0.3, random_state=42)\n",
        "train_data = torch.FloatTensor(train_data)\n",
        "test_data = torch.FloatTensor(test_data)"
      ],
      "metadata": {
        "id": "hCldjQq0RUY4"
      },
      "execution_count": null,
      "outputs": []
    },
    {
      "cell_type": "code",
      "source": [
        "from torch.utils.data import DataLoader, TensorDataset\n",
        "batchSize = 32\n",
        "train_loader = DataLoader(TensorDataset(train_data), batch_size=batchSize, shuffle=True)\n",
        "test_loader = DataLoader(TensorDataset(test_data), batch_size=batchSize, shuffle=True)"
      ],
      "metadata": {
        "id": "MoK_NjRdRbQB"
      },
      "execution_count": null,
      "outputs": []
    },
    {
      "cell_type": "code",
      "source": [
        "# Load rating matrix\n",
        "rating_matrix = torch.tensor(rating_matrix, dtype=torch.float32)\n",
        "encoding_dim = 100\n",
        "rating_diff = 9\n",
        "\n",
        "class Autoencoder(nn.Module):\n",
        "    def __init__(self):\n",
        "        super(Autoencoder, self).__init__()\n",
        "        self.encoder = nn.Sequential(\n",
        "            nn.Linear(num_items, encoding_dim),\n",
        "            nn.ReLU())\n",
        "        self.decoder = nn.Sequential(\n",
        "            nn.Linear(encoding_dim, num_items),\n",
        "            nn.Sigmoid())\n",
        "\n",
        "    def forward(self, x):\n",
        "        encoded = self.encoder(x)\n",
        "        # Sigmoid outputs 0 - 1 -> we need to scale to 1 - 10\n",
        "        decoded = 9 * self.decoder(encoded) + 1\n",
        "        return decoded"
      ],
      "metadata": {
        "id": "_7g8vLz87dZd"
      },
      "execution_count": null,
      "outputs": []
    },
    {
      "cell_type": "code",
      "source": [
        "num_users = rating_matrix.shape[0]\n",
        "epochs = 20\n",
        "\n",
        "autoencoder_model = Autoencoder()\n",
        "criterion = nn.MSELoss()\n",
        "optimizer = torch.optim.Adam(autoencoder_model.parameters(), lr=0.0001)\n",
        "train_loss = []\n",
        "test_loss = []\n",
        "for epoch in range(epochs):\n",
        "    autoencoder_model.train()\n",
        "    running_train_loss = []\n",
        "    for data in train_loader:\n",
        "      optimizer.zero_grad()\n",
        "      decoded = autoencoder_model(data[0])\n",
        "      decoded[data[0] == 0] = 0\n",
        "      loss = criterion(decoded, data[0])\n",
        "      running_train_loss.append(np.sqrt(loss.detach().numpy()))\n",
        "      loss.backward()\n",
        "      optimizer.step()\n",
        "\n",
        "    autoencoder_model.eval()\n",
        "    running_test_loss = []\n",
        "    with torch.no_grad():\n",
        "        for data in test_loader:\n",
        "            decoded = autoencoder_model(data[0])\n",
        "            decoded[data[0] == 0] = 0\n",
        "            running_test_loss.append(np.sqrt(criterion(decoded, data[0])))\n",
        "    \n",
        "    print('Epoch', epoch + 1, 'of', epochs, end=': ')\n",
        "    print('RMSE Train Loss: {:.4f}'.format(np.mean(running_train_loss)), end=', ')\n",
        "    print('RMSE Test Loss: {:.4f}'.format(np.mean(running_test_loss)))\n",
        "\n",
        "    train_loss.append(np.mean(running_train_loss))\n",
        "    test_loss.append(np.mean(running_test_loss))"
      ],
      "metadata": {
        "colab": {
          "base_uri": "https://localhost:8080/"
        },
        "id": "1sDSBFoeDrmK",
        "outputId": "5a3ddb82-ea71-41fd-b65a-c13c60a12b95"
      },
      "execution_count": null,
      "outputs": [
        {
          "output_type": "stream",
          "name": "stdout",
          "text": [
            "Epoch 1 of 20: RMSE Train Loss: 0.0937, RMSE Test Loss: 0.0884\n",
            "Epoch 2 of 20: RMSE Train Loss: 0.0839, RMSE Test Loss: 0.0806\n",
            "Epoch 3 of 20: RMSE Train Loss: 0.0749, RMSE Test Loss: 0.0760\n",
            "Epoch 4 of 20: RMSE Train Loss: 0.0687, RMSE Test Loss: 0.0732\n",
            "Epoch 5 of 20: RMSE Train Loss: 0.0638, RMSE Test Loss: 0.0713\n",
            "Epoch 6 of 20: RMSE Train Loss: 0.0601, RMSE Test Loss: 0.0697\n",
            "Epoch 7 of 20: RMSE Train Loss: 0.0570, RMSE Test Loss: 0.0687\n",
            "Epoch 8 of 20: RMSE Train Loss: 0.0542, RMSE Test Loss: 0.0681\n",
            "Epoch 9 of 20: RMSE Train Loss: 0.0516, RMSE Test Loss: 0.0674\n",
            "Epoch 10 of 20: RMSE Train Loss: 0.0494, RMSE Test Loss: 0.0670\n",
            "Epoch 11 of 20: RMSE Train Loss: 0.0474, RMSE Test Loss: 0.0665\n",
            "Epoch 12 of 20: RMSE Train Loss: 0.0455, RMSE Test Loss: 0.0660\n",
            "Epoch 13 of 20: RMSE Train Loss: 0.0438, RMSE Test Loss: 0.0661\n",
            "Epoch 14 of 20: RMSE Train Loss: 0.0422, RMSE Test Loss: 0.0657\n",
            "Epoch 15 of 20: RMSE Train Loss: 0.0407, RMSE Test Loss: 0.0652\n",
            "Epoch 16 of 20: RMSE Train Loss: 0.0392, RMSE Test Loss: 0.0654\n",
            "Epoch 17 of 20: RMSE Train Loss: 0.0379, RMSE Test Loss: 0.0651\n",
            "Epoch 18 of 20: RMSE Train Loss: 0.0366, RMSE Test Loss: 0.0652\n",
            "Epoch 19 of 20: RMSE Train Loss: 0.0355, RMSE Test Loss: 0.0648\n",
            "Epoch 20 of 20: RMSE Train Loss: 0.0342, RMSE Test Loss: 0.0651\n"
          ]
        }
      ]
    },
    {
      "cell_type": "code",
      "source": [
        "import matplotlib.pyplot as plt\n",
        "x = [i + 1 for i in range(epochs)]\n",
        "plt.plot(x, train_loss, label='train_loss')\n",
        "plt.plot(x, test_loss, label='test_loss')\n",
        "leg = plt.legend(loc='upper center')\n",
        "plt.xticks(x) \n",
        "plt.show()"
      ],
      "metadata": {
        "colab": {
          "base_uri": "https://localhost:8080/",
          "height": 430
        },
        "id": "-fzhTUpMIJjE",
        "outputId": "82076fd2-71c8-4375-97d5-12e2712c04e6"
      },
      "execution_count": null,
      "outputs": [
        {
          "output_type": "display_data",
          "data": {
            "text/plain": [
              "<Figure size 640x480 with 1 Axes>"
            ],
            "image/png": "[encoded data removed]"
          },
          "metadata": {}
        }
      ]
    }
  ]
}
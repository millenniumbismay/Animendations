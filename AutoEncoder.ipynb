{
  "nbformat": 4,
  "nbformat_minor": 0,
  "metadata": {
    "colab": {
      "provenance": []
    },
    "kernelspec": {
      "name": "python3",
      "display_name": "Python 3"
    },
    "language_info": {
      "name": "python"
    }
  },
  "cells": [
    {
      "cell_type": "code",
      "execution_count": null,
      "metadata": {
        "id": "C17UQhFV60s0"
      },
      "outputs": [],
      "source": [
        "import pandas as pd\n",
        "import matplotlib.pyplot as plt\n",
        "import ast\n",
        "\n",
        "animes_data_path = \"./preprocessed_data/preprocessed_animes.csv\"\n",
        "profiles_data_path = \"./preprocessed_data/preprocessed_profiles.csv\"\n",
        "reviews_data_path = \"./preprocessed_data/preprocessed_reviews.csv\""
      ]
    },
    {
      "cell_type": "code",
      "source": [
        "animes_data = pd.read_csv(animes_data_path)\n",
        "profiles_data = pd.read_csv(profiles_data_path)\n",
        "reviews_data = pd.read_csv(reviews_data_path, engine='python', sep=',', error_bad_lines=False)"
      ],
      "metadata": {
        "colab": {
          "base_uri": "https://localhost:8080/"
        },
        "id": "ySoGae3I8fQ3",
        "outputId": "c8d27db6-f090-4e47-bb83-373a69267e65"
      },
      "execution_count": null,
      "outputs": [
        {
          "output_type": "stream",
          "name": "stderr",
          "text": [
            "<ipython-input-2-28a1db8bd131>:3: FutureWarning: The error_bad_lines argument has been deprecated and will be removed in a future version. Use on_bad_lines in the future.\n",
            "\n",
            "\n",
            "  reviews_data = pd.read_csv(\"preprocessed_reviews.csv\", engine='python', sep=',', error_bad_lines=False)\n"
          ]
        }
      ]
    },
    {
      "cell_type": "code",
      "source": [
        "animes = animes_data.copy()\n",
        "profiles = profiles_data.copy()\n",
        "reviews = reviews_data.copy()"
      ],
      "metadata": {
        "id": "pUUSCg1F8p7I"
      },
      "execution_count": null,
      "outputs": []
    },
    {
      "cell_type": "markdown",
      "source": [
        "## **Train-Test Split (0.7 - 0.3)**"
      ],
      "metadata": {
        "id": "tu2OoOFEi_MB"
      }
    },
    {
      "cell_type": "code",
      "source": [
        "from scipy.sparse import coo_matrix\n",
        "import torch\n",
        "import torch.nn as nn\n",
        "import numpy as np\n",
        "\n",
        "np.random.seed(0)\n",
        "unique_AnimeID = reviews['anime_uid'].unique()\n",
        "unique_users = reviews['profile'].unique()\n",
        "j = 0\n",
        "user_old2new_id_dict = dict()\n",
        "for u in unique_users:\n",
        "    user_old2new_id_dict[u] = j\n",
        "    j += 1\n",
        "j = 0\n",
        "movie_old2new_id_dict = dict()\n",
        "for i in unique_AnimeID:\n",
        "    movie_old2new_id_dict[i] = j\n",
        "    j += 1\n",
        "    \n",
        "# Then, use the generated dictionaries to reindex UserID and MovieID in the data_df\n",
        "user_list = reviews['profile'].values\n",
        "movie_list = reviews['anime_uid'].values\n",
        "for j in range(len(reviews)):\n",
        "    user_list[j] = user_old2new_id_dict[user_list[j]]\n",
        "    movie_list[j] = movie_old2new_id_dict[movie_list[j]]\n",
        "reviews['profile'] = user_list\n",
        "reviews['anime_uid'] = movie_list\n",
        "\n",
        "# generate train_df with 70% samples and test_df with 30% samples, and there should have no overlap between them.\n",
        "train_index = np.random.random(len(reviews)) <= 0.7\n",
        "train_df = reviews[train_index]\n",
        "test_df = reviews[~train_index]\n",
        "\n",
        "# generate train_mat and test_mat\n",
        "num_user = len(reviews['profile'].unique())\n",
        "num_items = len(reviews['anime_uid'].unique())\n",
        "\n",
        "train_mat = coo_matrix((train_df['score'].values, (train_df['profile'].values, train_df['anime_uid'].values)), shape=(num_user, num_items)).astype(float).toarray()\n",
        "test_mat = coo_matrix((test_df['score'].values, (test_df['profile'].values, test_df['anime_uid'].values)), shape=(num_user, num_items)).astype(float).toarray()\n",
        "train_data = torch.FloatTensor(train_mat)\n",
        "test_data = torch.FloatTensor(test_mat)"
      ],
      "metadata": {
        "id": "vPJVTmCF5uXr"
      },
      "execution_count": null,
      "outputs": []
    },
    {
      "cell_type": "code",
      "source": [
        "from torch.utils.data import DataLoader, TensorDataset\n",
        "batchSize = 512\n",
        "train_loader = DataLoader(TensorDataset(train_data), batch_size=batchSize, shuffle=False)\n",
        "test_loader = DataLoader(TensorDataset(test_data), batch_size=batchSize, shuffle=False)"
      ],
      "metadata": {
        "id": "MoK_NjRdRbQB"
      },
      "execution_count": null,
      "outputs": []
    },
    {
      "cell_type": "markdown",
      "source": [
        "## **Define Autoencoder model**"
      ],
      "metadata": {
        "id": "qka1THd_izKe"
      }
    },
    {
      "cell_type": "code",
      "source": [
        "# Load rating matrix\n",
        "encoding_dim = 100\n",
        "rating_scale = 10\n",
        "num_items = len(animes)\n",
        "\n",
        "class Autoencoder(nn.Module):\n",
        "    def __init__(self):\n",
        "        super(Autoencoder, self).__init__()\n",
        "        self.encoder = nn.Sequential(\n",
        "            nn.Linear(num_items, encoding_dim),\n",
        "            nn.ReLU(),\n",
        "            nn.Linear(encoding_dim, encoding_dim//2),\n",
        "            nn.ReLU())\n",
        "        \n",
        "        self.decoder = nn.Sequential(\n",
        "            nn.Linear(encoding_dim//2, encoding_dim),\n",
        "            nn.ReLU(),\n",
        "            nn.Linear(encoding_dim, num_items),\n",
        "            nn.Sigmoid())\n",
        "\n",
        "    def forward(self, x):\n",
        "        encoded = self.encoder(x)\n",
        "        # Sigmoid outputs 0 - 1 -> we need to scale to 1 - 10\n",
        "        decoded = rating_scale * self.decoder(encoded)\n",
        "        return decoded"
      ],
      "metadata": {
        "id": "_7g8vLz87dZd"
      },
      "execution_count": null,
      "outputs": []
    },
    {
      "cell_type": "markdown",
      "source": [
        "## **Train and Evaluate model**"
      ],
      "metadata": {
        "id": "jaR2Nveki4I7"
      }
    },
    {
      "cell_type": "code",
      "source": [
        "epochs = 50\n",
        "\n",
        "autoencoder_model = Autoencoder()\n",
        "criterion = nn.MSELoss()\n",
        "optimizer = torch.optim.RMSprop(autoencoder_model.parameters(), lr=0.0001)\n",
        "train_loss = []\n",
        "test_loss = []\n",
        "for epoch in range(epochs):\n",
        "    autoencoder_model.train()\n",
        "    running_train_loss = []\n",
        "    for data in train_loader:\n",
        "      optimizer.zero_grad()\n",
        "      decoded = autoencoder_model(data[0])\n",
        "      decoded[data[0] == 0] = 0\n",
        "      loss = criterion(decoded, data[0]) * torch.numel(data[0]) / torch.count_nonzero(data[0])\n",
        "      running_train_loss.append(np.sqrt(loss.item()))\n",
        "      loss.backward()\n",
        "      optimizer.step()\n",
        "    \n",
        "    autoencoder_model.eval()\n",
        "    running_test_loss = []\n",
        "    '''\n",
        "    with torch.no_grad():\n",
        "        for data in test_loader:\n",
        "            decoded = autoencoder_model(data[0])\n",
        "            decoded[data[0] == 0] = 0\n",
        "            running_test_loss.append(np.sqrt(criterion(decoded, data[0]))) '''\n",
        "            \n",
        "    with torch.no_grad():\n",
        "      for data_tr, data_te in zip(train_loader, test_loader):\n",
        "        decoded = autoencoder_model(data_tr[0])\n",
        "        decoded[data_te[0] == 0] = 0\n",
        "        loss = criterion(data_te[0], decoded) * torch.numel(data_te[0]) / torch.count_nonzero(data_te[0])\n",
        "        running_test_loss.append(np.sqrt(loss.detach().numpy()))\n",
        "    \n",
        "    print('Epoch', epoch + 1, 'of', epochs, end=': ')\n",
        "    print('RMSE Train Loss: {:.4f}'.format(np.mean(running_train_loss)), end=', ')\n",
        "    print('RMSE Test Loss: {:.4f}'.format(np.mean(running_test_loss)))\n",
        "\n",
        "    train_loss.append(np.mean(running_train_loss))\n",
        "    test_loss.append(np.mean(running_test_loss))"
      ],
      "metadata": {
        "colab": {
          "base_uri": "https://localhost:8080/"
        },
        "id": "1sDSBFoeDrmK",
        "outputId": "93a6b0f9-4fdc-4ef6-ce96-5cde8dde2650"
      },
      "execution_count": null,
      "outputs": [
        {
          "output_type": "stream",
          "name": "stdout",
          "text": [
            "Epoch 1 of 50: RMSE Train Loss: 3.1686, RMSE Test Loss: 3.1681\n",
            "Epoch 2 of 50: RMSE Train Loss: 3.0864, RMSE Test Loss: 3.0870\n",
            "Epoch 3 of 50: RMSE Train Loss: 2.9272, RMSE Test Loss: 2.9430\n",
            "Epoch 4 of 50: RMSE Train Loss: 2.7204, RMSE Test Loss: 2.7974\n",
            "Epoch 5 of 50: RMSE Train Loss: 2.5420, RMSE Test Loss: 2.6886\n",
            "Epoch 6 of 50: RMSE Train Loss: 2.4136, RMSE Test Loss: 2.6102\n",
            "Epoch 7 of 50: RMSE Train Loss: 2.3212, RMSE Test Loss: 2.5551\n",
            "Epoch 8 of 50: RMSE Train Loss: 2.2521, RMSE Test Loss: 2.5106\n",
            "Epoch 9 of 50: RMSE Train Loss: 2.1961, RMSE Test Loss: 2.4770\n",
            "Epoch 10 of 50: RMSE Train Loss: 2.1503, RMSE Test Loss: 2.4470\n",
            "Epoch 11 of 50: RMSE Train Loss: 2.1102, RMSE Test Loss: 2.4229\n",
            "Epoch 12 of 50: RMSE Train Loss: 2.0745, RMSE Test Loss: 2.3996\n",
            "Epoch 13 of 50: RMSE Train Loss: 2.0413, RMSE Test Loss: 2.3790\n",
            "Epoch 14 of 50: RMSE Train Loss: 2.0102, RMSE Test Loss: 2.3578\n",
            "Epoch 15 of 50: RMSE Train Loss: 1.9802, RMSE Test Loss: 2.3391\n",
            "Epoch 16 of 50: RMSE Train Loss: 1.9519, RMSE Test Loss: 2.3203\n",
            "Epoch 17 of 50: RMSE Train Loss: 1.9252, RMSE Test Loss: 2.3049\n",
            "Epoch 18 of 50: RMSE Train Loss: 1.9002, RMSE Test Loss: 2.2874\n",
            "Epoch 19 of 50: RMSE Train Loss: 1.8756, RMSE Test Loss: 2.2730\n",
            "Epoch 20 of 50: RMSE Train Loss: 1.8521, RMSE Test Loss: 2.2565\n",
            "Epoch 21 of 50: RMSE Train Loss: 1.8289, RMSE Test Loss: 2.2425\n",
            "Epoch 22 of 50: RMSE Train Loss: 1.8065, RMSE Test Loss: 2.2264\n",
            "Epoch 23 of 50: RMSE Train Loss: 1.7842, RMSE Test Loss: 2.2132\n",
            "Epoch 24 of 50: RMSE Train Loss: 1.7628, RMSE Test Loss: 2.1981\n",
            "Epoch 25 of 50: RMSE Train Loss: 1.7416, RMSE Test Loss: 2.1860\n",
            "Epoch 26 of 50: RMSE Train Loss: 1.7219, RMSE Test Loss: 2.1736\n",
            "Epoch 27 of 50: RMSE Train Loss: 1.7039, RMSE Test Loss: 2.1651\n",
            "Epoch 28 of 50: RMSE Train Loss: 1.6870, RMSE Test Loss: 2.1543\n",
            "Epoch 29 of 50: RMSE Train Loss: 1.6706, RMSE Test Loss: 2.1471\n",
            "Epoch 30 of 50: RMSE Train Loss: 1.6548, RMSE Test Loss: 2.1387\n",
            "Epoch 31 of 50: RMSE Train Loss: 1.6401, RMSE Test Loss: 2.1331\n",
            "Epoch 32 of 50: RMSE Train Loss: 1.6263, RMSE Test Loss: 2.1271\n",
            "Epoch 33 of 50: RMSE Train Loss: 1.6134, RMSE Test Loss: 2.1235\n",
            "Epoch 34 of 50: RMSE Train Loss: 1.6010, RMSE Test Loss: 2.1181\n",
            "Epoch 35 of 50: RMSE Train Loss: 1.5890, RMSE Test Loss: 2.1163\n",
            "Epoch 36 of 50: RMSE Train Loss: 1.5772, RMSE Test Loss: 2.1126\n",
            "Epoch 37 of 50: RMSE Train Loss: 1.5658, RMSE Test Loss: 2.1112\n",
            "Epoch 38 of 50: RMSE Train Loss: 1.5545, RMSE Test Loss: 2.1085\n",
            "Epoch 39 of 50: RMSE Train Loss: 1.5434, RMSE Test Loss: 2.1083\n",
            "Epoch 40 of 50: RMSE Train Loss: 1.5322, RMSE Test Loss: 2.1068\n",
            "Epoch 41 of 50: RMSE Train Loss: 1.5215, RMSE Test Loss: 2.1076\n",
            "Epoch 42 of 50: RMSE Train Loss: 1.5108, RMSE Test Loss: 2.1068\n",
            "Epoch 43 of 50: RMSE Train Loss: 1.5002, RMSE Test Loss: 2.1088\n",
            "Epoch 44 of 50: RMSE Train Loss: 1.4896, RMSE Test Loss: 2.1089\n",
            "Epoch 45 of 50: RMSE Train Loss: 1.4791, RMSE Test Loss: 2.1117\n",
            "Epoch 46 of 50: RMSE Train Loss: 1.4685, RMSE Test Loss: 2.1126\n",
            "Epoch 47 of 50: RMSE Train Loss: 1.4578, RMSE Test Loss: 2.1160\n",
            "Epoch 48 of 50: RMSE Train Loss: 1.4471, RMSE Test Loss: 2.1174\n",
            "Epoch 49 of 50: RMSE Train Loss: 1.4362, RMSE Test Loss: 2.1216\n",
            "Epoch 50 of 50: RMSE Train Loss: 1.4253, RMSE Test Loss: 2.1238\n"
          ]
        }
      ]
    },
    {
      "cell_type": "code",
      "source": [
        "import matplotlib.pyplot as plt\n",
        "x = [i + 1 for i in range(epochs)]\n",
        "plt.plot(x, train_loss, label='train_loss')\n",
        "plt.plot(x, test_loss, label='test_loss')\n",
        "leg = plt.legend(loc='upper center')\n",
        "plt.xticks([i + 1 for i in range(0, epochs, 5)]) \n",
        "plt.show()"
      ],
      "metadata": {
        "colab": {
          "base_uri": "https://localhost:8080/",
          "height": 434
        },
        "id": "-fzhTUpMIJjE",
        "outputId": "763c5f78-4bbe-4bc7-ac67-34ab88c85343"
      },
      "execution_count": 54,
      "outputs": [
        {
          "output_type": "display_data",
          "data": {
            "text/plain": [
              "<Figure size 640x480 with 1 Axes>"
            ],
            "image/png": "[encoded data removed]"
          },
          "metadata": {}
        }
      ]
    }
  ]
}

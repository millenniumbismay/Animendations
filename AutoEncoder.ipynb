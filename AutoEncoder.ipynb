{
  "nbformat": 4,
  "nbformat_minor": 0,
  "metadata": {
    "colab": {
      "provenance": []
    },
    "kernelspec": {
      "name": "python3",
      "display_name": "Python 3"
    },
    "language_info": {
      "name": "python"
    }
  },
  "cells": [
    {
      "cell_type": "code",
      "source": [
        "from google.colab import drive\n",
        "drive.mount('/content/drive')"
      ],
      "metadata": {
        "colab": {
          "base_uri": "https://localhost:8080/"
        },
        "id": "oNbWZRmZxJBk",
        "outputId": "1b136ded-2a9a-439c-f796-92a1136dc9c6"
      },
      "execution_count": 1,
      "outputs": [
        {
          "output_type": "stream",
          "name": "stdout",
          "text": [
            "Mounted at /content/drive\n"
          ]
        }
      ]
    },
    {
      "cell_type": "code",
      "source": [
        "%cd drive/MyDrive/CSCE670_ISR/project/Animendations\n",
        "!ls"
      ],
      "metadata": {
        "colab": {
          "base_uri": "https://localhost:8080/"
        },
        "id": "Rg5gh-kwxWy1",
        "outputId": "701b8ee1-a5a5-4245-f569-f129e014eb01"
      },
      "execution_count": 1,
      "outputs": [
        {
          "output_type": "stream",
          "name": "stdout",
          "text": [
            "/content/drive/MyDrive/CSCE670_ISR/project/Animendations\n",
            "'Animendations Project Proposal.pdf'   Item-item.ipynb\n",
            " app.py\t\t\t\t       LICENSE\n",
            " AutoEncoder.ipynb\t\t       preprocessed_data\n",
            " data\t\t\t\t       Preprocessing.ipynb\n",
            " Final_Preprocessing.ipynb\t       README.md\n"
          ]
        }
      ]
    },
    {
      "cell_type": "code",
      "execution_count": 2,
      "metadata": {
        "id": "C17UQhFV60s0"
      },
      "outputs": [],
      "source": [
        "import pandas as pd\n",
        "import matplotlib.pyplot as plt\n",
        "import ast\n",
        "\n",
        "animes_data_path = \"./preprocessed_data/new_preprocessed_animes.csv\"\n",
        "profiles_data_path = \"./preprocessed_data/preprocessed_profiles.csv\"\n",
        "reviews_data_path = \"./preprocessed_data/new_preprocessed_reviews.csv\""
      ]
    },
    {
      "cell_type": "code",
      "source": [
        "animes_data = pd.read_csv(animes_data_path)\n",
        "profiles_data = pd.read_csv(profiles_data_path)\n",
        "reviews_data = pd.read_csv(reviews_data_path, engine='python', sep=',', error_bad_lines=False)"
      ],
      "metadata": {
        "colab": {
          "base_uri": "https://localhost:8080/"
        },
        "id": "ySoGae3I8fQ3",
        "outputId": "f0756b3e-9de4-443d-c783-10f33bd7bfae"
      },
      "execution_count": 3,
      "outputs": [
        {
          "output_type": "stream",
          "name": "stderr",
          "text": [
            "<ipython-input-3-39739bd06a7d>:3: FutureWarning: The error_bad_lines argument has been deprecated and will be removed in a future version. Use on_bad_lines in the future.\n",
            "\n",
            "\n",
            "  reviews_data = pd.read_csv(reviews_data_path, engine='python', sep=',', error_bad_lines=False)\n"
          ]
        }
      ]
    },
    {
      "cell_type": "code",
      "source": [
        "animes = animes_data.copy()\n",
        "profiles = profiles_data.copy()\n",
        "reviews = reviews_data.copy()"
      ],
      "metadata": {
        "id": "pUUSCg1F8p7I"
      },
      "execution_count": 4,
      "outputs": []
    },
    {
      "cell_type": "markdown",
      "source": [
        "## **Train-Test Split (0.7 - 0.3)**"
      ],
      "metadata": {
        "id": "tu2OoOFEi_MB"
      }
    },
    {
      "cell_type": "code",
      "source": [
        "from scipy.sparse import coo_matrix\n",
        "import torch\n",
        "import torch.nn as nn\n",
        "import numpy as np\n",
        "\n",
        "np.random.seed(0)\n",
        "unique_AnimeID = reviews['anime_uid'].unique()\n",
        "unique_users = reviews['profile'].unique()\n",
        "j = 0\n",
        "user_old2new_id_dict = dict()\n",
        "for u in unique_users:\n",
        "    user_old2new_id_dict[u] = j\n",
        "    j += 1\n",
        "j = 0\n",
        "movie_old2new_id_dict = dict()\n",
        "for i in unique_AnimeID:\n",
        "    movie_old2new_id_dict[i] = j\n",
        "    j += 1\n",
        "    \n",
        "# Then, use the generated dictionaries to reindex UserID and MovieID in the data_df\n",
        "user_list = reviews['profile'].values\n",
        "movie_list = reviews['anime_uid'].values\n",
        "for j in range(len(reviews)):\n",
        "    user_list[j] = user_old2new_id_dict[user_list[j]]\n",
        "    movie_list[j] = movie_old2new_id_dict[movie_list[j]]\n",
        "reviews['profile'] = user_list\n",
        "reviews['anime_uid'] = movie_list\n",
        "\n",
        "# generate train_df with 70% samples and test_df with 30% samples, and there should have no overlap between them.\n",
        "train_index = np.random.random(len(reviews)) <= 0.7\n",
        "train_df = reviews[train_index]\n",
        "test_df = reviews[~train_index]\n",
        "\n",
        "# generate train_mat and test_mat\n",
        "num_user = len(reviews['profile'].unique())\n",
        "num_items = len(reviews['anime_uid'].unique())\n",
        "\n",
        "train_mat = coo_matrix((train_df['score'].values, (train_df['profile'].values, train_df['anime_uid'].values)), shape=(num_user, num_items)).astype(float).toarray()\n",
        "test_mat = coo_matrix((test_df['score'].values, (test_df['profile'].values, test_df['anime_uid'].values)), shape=(num_user, num_items)).astype(float).toarray()\n",
        "train_data = torch.FloatTensor(train_mat)\n",
        "test_data = torch.FloatTensor(test_mat)"
      ],
      "metadata": {
        "id": "vPJVTmCF5uXr"
      },
      "execution_count": 5,
      "outputs": []
    },
    {
      "cell_type": "code",
      "source": [
        "from torch.utils.data import DataLoader, TensorDataset\n",
        "batchSize = num_user\n",
        "train_loader = DataLoader(TensorDataset(train_data), batch_size=batchSize, shuffle=False)\n",
        "test_loader = DataLoader(TensorDataset(test_data), batch_size=batchSize, shuffle=False)"
      ],
      "metadata": {
        "id": "MoK_NjRdRbQB"
      },
      "execution_count": 6,
      "outputs": []
    },
    {
      "cell_type": "markdown",
      "source": [
        "## **Define Autoencoder model**"
      ],
      "metadata": {
        "id": "qka1THd_izKe"
      }
    },
    {
      "cell_type": "code",
      "source": [
        "print(list(train_loader)[0][0])"
      ],
      "metadata": {
        "colab": {
          "base_uri": "https://localhost:8080/"
        },
        "id": "n5mGpZ4XxuYu",
        "outputId": "3629831f-f769-4eff-cf19-ced9bfe2dfb7"
      },
      "execution_count": 7,
      "outputs": [
        {
          "output_type": "stream",
          "name": "stdout",
          "text": [
            "tensor([[8., 0., 0.,  ..., 0., 0., 0.],\n",
            "        [0., 0., 0.,  ..., 0., 0., 0.],\n",
            "        [0., 0., 7.,  ..., 0., 0., 0.],\n",
            "        ...,\n",
            "        [0., 0., 0.,  ..., 0., 0., 0.],\n",
            "        [0., 0., 0.,  ..., 0., 0., 0.],\n",
            "        [0., 0., 0.,  ..., 0., 0., 0.]])\n"
          ]
        }
      ]
    },
    {
      "cell_type": "code",
      "source": [
        "# # Load rating matrix\n",
        "# encoder_layers = [2048, 1024, 512, 128, 50]\n",
        "# encoding_dim = 100\n",
        "# rating_scale = 10\n",
        "# num_items = len(animes)\n",
        "\n",
        "# class Autoencoder(nn.Module):\n",
        "#     def __init__(self):\n",
        "#         super(Autoencoder, self).__init__()\n",
        "#         self.encoder = nn.Sequential(\n",
        "#             nn.Linear(num_items, encoding_dim),\n",
        "#             nn.ReLU(),\n",
        "#             nn.Linear(num_items, encoding_dim),\n",
        "#             nn.Linear(encoding_dim, encoding_dim//2),\n",
        "#             nn.ReLU())\n",
        "        \n",
        "#         self.decoder = nn.Sequential(\n",
        "#             nn.Linear(encoding_dim//2, encoding_dim),\n",
        "#             nn.ReLU(),\n",
        "#             nn.Linear(encoding_dim, num_items),\n",
        "#             nn.Sigmoid())\n",
        "\n",
        "#     def forward(self, x):\n",
        "#         encoded = self.encoder(x)\n",
        "#         # Sigmoid outputs 0 - 1 -> we need to scale to 1 - 10\n",
        "#         decoded = rating_scale * self.decoder(encoded)\n",
        "#         return decoded"
      ],
      "metadata": {
        "id": "_7g8vLz87dZd"
      },
      "execution_count": 30,
      "outputs": []
    },
    {
      "cell_type": "code",
      "source": [
        "# Load rating matrix\n",
        "encoder_layers = [1024, 512, 128]\n",
        "decoder_layers = [128, 512, 1024]\n",
        "encoding_dim = 50\n",
        "rating_scale = 10\n",
        "num_items = len(animes)\n",
        "\n",
        "class Autoencoder(nn.Module):\n",
        "    def __init__(self):\n",
        "        super(Autoencoder, self).__init__()\n",
        "        self.encoder = nn.Sequential(\n",
        "            nn.Linear(num_items, encoder_layers[0]),\n",
        "            nn.ReLU(),\n",
        "            nn.Dropout(p=0.25),\n",
        "            nn.Linear(encoder_layers[0], encoder_layers[1]),\n",
        "            nn.ReLU(),\n",
        "            nn.Dropout(p=0.15),\n",
        "            nn.Linear(encoder_layers[1], encoder_layers[2]),\n",
        "            nn.ReLU(),\n",
        "            nn.Dropout(p=0.1),\n",
        "            nn.Linear(encoder_layers[2], encoding_dim),\n",
        "            nn.ReLU()\n",
        "            )\n",
        "        \n",
        "        self.decoder = nn.Sequential(\n",
        "            nn.Linear(encoding_dim, decoder_layers[0]),\n",
        "            nn.ReLU(),\n",
        "            nn.Linear(decoder_layers[0], decoder_layers[1]),\n",
        "            nn.ReLU(),\n",
        "            nn.Linear(decoder_layers[1], decoder_layers[2]),\n",
        "            nn.ReLU(),\n",
        "            nn.Linear(decoder_layers[2], num_items),\n",
        "            nn.Sigmoid()\n",
        "            )\n",
        "\n",
        "    def forward(self, x):\n",
        "        encoded = self.encoder(x)\n",
        "        # Sigmoid outputs 0 - 1 -> we need to scale to 1 - 10\n",
        "        decoded = rating_scale * self.decoder(encoded)\n",
        "        return decoded"
      ],
      "metadata": {
        "id": "3nwGRk0ONy7a"
      },
      "execution_count": 14,
      "outputs": []
    },
    {
      "cell_type": "code",
      "source": [
        "encoding_dim//2"
      ],
      "metadata": {
        "colab": {
          "base_uri": "https://localhost:8080/"
        },
        "id": "NpL5HQorVivG",
        "outputId": "235ea1dc-9a92-4adf-dfab-2f04017ae137"
      },
      "execution_count": 12,
      "outputs": [
        {
          "output_type": "execute_result",
          "data": {
            "text/plain": [
              "25"
            ]
          },
          "metadata": {},
          "execution_count": 12
        }
      ]
    },
    {
      "cell_type": "markdown",
      "source": [
        "## **Train and Evaluate model**"
      ],
      "metadata": {
        "id": "jaR2Nveki4I7"
      }
    },
    {
      "cell_type": "code",
      "source": [
        "from torch.optim.lr_scheduler import ReduceLROnPlateau\n",
        "\n",
        "\n",
        "epochs = 50\n",
        "\n",
        "\n",
        "l_rate = [0.01]\n",
        "for lrt in l_rate:\n",
        "  autoencoder_model = Autoencoder()\n",
        "  criterion = nn.MSELoss()\n",
        "  print(\"------------------------------ lr = \" + str(lrt) + \"---------------------------------------------\")\n",
        "  #optimizer = torch.optim.Adam(autoencoder_model.parameters(), lr = 3e-04, weight_decay = 1e-5)\n",
        "  optimizer = torch.optim.Adam(autoencoder_model.parameters(), lr = lrt, weight_decay = 1e-5)\n",
        "\n",
        "  scheduler = ReduceLROnPlateau(optimizer, mode='min', factor=0.1, patience=3, verbose = True)\n",
        "\n",
        "  train_loss = []\n",
        "  test_loss = []\n",
        "  for epoch in range(epochs):\n",
        "      autoencoder_model.train()\n",
        "      running_train_loss = []\n",
        "      for data in train_loader:\n",
        "        optimizer.zero_grad()\n",
        "        decoded = autoencoder_model(data[0])\n",
        "        decoded[data[0] == 0] = 0\n",
        "        loss = criterion(decoded, data[0]) * torch.numel(data[0]) / torch.count_nonzero(data[0])\n",
        "        running_train_loss.append(np.sqrt(loss.item()))\n",
        "        loss.backward()\n",
        "        optimizer.step()\n",
        "        \n",
        "\n",
        "      \n",
        "      autoencoder_model.eval()\n",
        "      running_test_loss = []\n",
        "      '''\n",
        "      with torch.no_grad():\n",
        "          for data in test_loader:\n",
        "              decoded = autoencoder_model(data[0])\n",
        "              decoded[data[0] == 0] = 0\n",
        "              running_test_loss.append(np.sqrt(criterion(decoded, data[0]))) '''\n",
        "              \n",
        "      with torch.no_grad():\n",
        "        for data_tr, data_te in zip(train_loader, test_loader):\n",
        "          decoded = autoencoder_model(data_tr[0])\n",
        "          decoded[data_te[0] == 0] = 0\n",
        "          loss = criterion(data_te[0], decoded) * torch.numel(data_te[0]) / torch.count_nonzero(data_te[0])\n",
        "          running_test_loss.append(np.sqrt(loss.detach().numpy()))\n",
        "      scheduler.step(np.mean(running_test_loss))\n",
        "\n",
        "      # if((epoch+1)%3 == 0 or epoch == 0):\n",
        "      print('Epoch', epoch + 1, 'of', epochs, end=': ')\n",
        "      print('RMSE Train Loss: {:.4f}'.format(np.mean(running_train_loss)), end=', ')\n",
        "      print('RMSE Test Loss: {:.4f}'.format(np.mean(running_test_loss)))\n",
        "\n",
        "      train_loss.append(np.mean(running_train_loss))\n",
        "      test_loss.append(np.mean(running_test_loss))"
      ],
      "metadata": {
        "colab": {
          "base_uri": "https://localhost:8080/"
        },
        "id": "1sDSBFoeDrmK",
        "outputId": "1a054163-dc42-4e47-d7a0-034eec125c83"
      },
      "execution_count": 16,
      "outputs": [
        {
          "output_type": "stream",
          "name": "stdout",
          "text": [
            "------------------------------ lr = 0.01---------------------------------------------\n",
            "Epoch 1 of 50: RMSE Train Loss: 3.1637, RMSE Test Loss: 2.5537\n",
            "Epoch 2 of 50: RMSE Train Loss: 2.4014, RMSE Test Loss: 2.5483\n",
            "Epoch 3 of 50: RMSE Train Loss: 2.4806, RMSE Test Loss: 2.2063\n",
            "Epoch 4 of 50: RMSE Train Loss: 2.0185, RMSE Test Loss: 2.3606\n",
            "Epoch 5 of 50: RMSE Train Loss: 2.1381, RMSE Test Loss: 2.2615\n",
            "Epoch 6 of 50: RMSE Train Loss: 2.0262, RMSE Test Loss: 2.0969\n",
            "Epoch 7 of 50: RMSE Train Loss: 1.8746, RMSE Test Loss: 2.1734\n",
            "Epoch 8 of 50: RMSE Train Loss: 2.0019, RMSE Test Loss: 2.0874\n",
            "Epoch 9 of 50: RMSE Train Loss: 1.8738, RMSE Test Loss: 2.1165\n",
            "Epoch 10 of 50: RMSE Train Loss: 1.8696, RMSE Test Loss: 2.1314\n",
            "Epoch 11 of 50: RMSE Train Loss: 1.8694, RMSE Test Loss: 2.0793\n",
            "Epoch 12 of 50: RMSE Train Loss: 1.8056, RMSE Test Loss: 2.0255\n",
            "Epoch 13 of 50: RMSE Train Loss: 1.7456, RMSE Test Loss: 2.0228\n",
            "Epoch 14 of 50: RMSE Train Loss: 1.7120, RMSE Test Loss: 2.0727\n",
            "Epoch 15 of 50: RMSE Train Loss: 1.7127, RMSE Test Loss: 2.0153\n",
            "Epoch 16 of 50: RMSE Train Loss: 1.6700, RMSE Test Loss: 2.0075\n",
            "Epoch 17 of 50: RMSE Train Loss: 1.6496, RMSE Test Loss: 2.0338\n",
            "Epoch 18 of 50: RMSE Train Loss: 1.6398, RMSE Test Loss: 2.0276\n",
            "Epoch 19 of 50: RMSE Train Loss: 1.6149, RMSE Test Loss: 2.0244\n",
            "Epoch 00020: reducing learning rate of group 0 to 1.0000e-03.\n",
            "Epoch 20 of 50: RMSE Train Loss: 1.6100, RMSE Test Loss: 2.0374\n",
            "Epoch 21 of 50: RMSE Train Loss: 1.5969, RMSE Test Loss: 2.0363\n",
            "Epoch 22 of 50: RMSE Train Loss: 1.5907, RMSE Test Loss: 2.0328\n",
            "Epoch 23 of 50: RMSE Train Loss: 1.5810, RMSE Test Loss: 2.0282\n",
            "Epoch 00024: reducing learning rate of group 0 to 1.0000e-04.\n",
            "Epoch 24 of 50: RMSE Train Loss: 1.5768, RMSE Test Loss: 2.0233\n",
            "Epoch 25 of 50: RMSE Train Loss: 1.5709, RMSE Test Loss: 2.0228\n",
            "Epoch 26 of 50: RMSE Train Loss: 1.5796, RMSE Test Loss: 2.0224\n",
            "Epoch 27 of 50: RMSE Train Loss: 1.5674, RMSE Test Loss: 2.0219\n",
            "Epoch 00028: reducing learning rate of group 0 to 1.0000e-05.\n",
            "Epoch 28 of 50: RMSE Train Loss: 1.5711, RMSE Test Loss: 2.0215\n",
            "Epoch 29 of 50: RMSE Train Loss: 1.5680, RMSE Test Loss: 2.0215\n",
            "Epoch 30 of 50: RMSE Train Loss: 1.5706, RMSE Test Loss: 2.0214\n",
            "Epoch 31 of 50: RMSE Train Loss: 1.5669, RMSE Test Loss: 2.0214\n",
            "Epoch 00032: reducing learning rate of group 0 to 1.0000e-06.\n",
            "Epoch 32 of 50: RMSE Train Loss: 1.5727, RMSE Test Loss: 2.0213\n",
            "Epoch 33 of 50: RMSE Train Loss: 1.5701, RMSE Test Loss: 2.0213\n",
            "Epoch 34 of 50: RMSE Train Loss: 1.5643, RMSE Test Loss: 2.0213\n",
            "Epoch 35 of 50: RMSE Train Loss: 1.5655, RMSE Test Loss: 2.0213\n",
            "Epoch 00036: reducing learning rate of group 0 to 1.0000e-07.\n",
            "Epoch 36 of 50: RMSE Train Loss: 1.5674, RMSE Test Loss: 2.0213\n",
            "Epoch 37 of 50: RMSE Train Loss: 1.5684, RMSE Test Loss: 2.0213\n",
            "Epoch 38 of 50: RMSE Train Loss: 1.5707, RMSE Test Loss: 2.0213\n",
            "Epoch 39 of 50: RMSE Train Loss: 1.5650, RMSE Test Loss: 2.0213\n",
            "Epoch 00040: reducing learning rate of group 0 to 1.0000e-08.\n",
            "Epoch 40 of 50: RMSE Train Loss: 1.5684, RMSE Test Loss: 2.0213\n",
            "Epoch 41 of 50: RMSE Train Loss: 1.5737, RMSE Test Loss: 2.0213\n",
            "Epoch 42 of 50: RMSE Train Loss: 1.5687, RMSE Test Loss: 2.0213\n",
            "Epoch 43 of 50: RMSE Train Loss: 1.5662, RMSE Test Loss: 2.0213\n",
            "Epoch 44 of 50: RMSE Train Loss: 1.5762, RMSE Test Loss: 2.0213\n",
            "Epoch 45 of 50: RMSE Train Loss: 1.5693, RMSE Test Loss: 2.0213\n",
            "Epoch 46 of 50: RMSE Train Loss: 1.5716, RMSE Test Loss: 2.0213\n",
            "Epoch 47 of 50: RMSE Train Loss: 1.5746, RMSE Test Loss: 2.0213\n",
            "Epoch 48 of 50: RMSE Train Loss: 1.5692, RMSE Test Loss: 2.0213\n",
            "Epoch 49 of 50: RMSE Train Loss: 1.5662, RMSE Test Loss: 2.0213\n",
            "Epoch 50 of 50: RMSE Train Loss: 1.5696, RMSE Test Loss: 2.0213\n"
          ]
        }
      ]
    },
    {
      "cell_type": "code",
      "source": [
        "import matplotlib.pyplot as plt\n",
        "x = [i + 1 for i in range(epochs)]\n",
        "plt.plot(x, train_loss, label='train_loss')\n",
        "plt.plot(x, test_loss, label='test_loss')\n",
        "leg = plt.legend(loc='upper center')\n",
        "plt.xticks([i + 1 for i in range(0, epochs, 5)]) \n",
        "plt.show()"
      ],
      "metadata": {
        "colab": {
          "base_uri": "https://localhost:8080/",
          "height": 430
        },
        "id": "-fzhTUpMIJjE",
        "outputId": "82c06398-ccae-4414-ece5-8438f27b95cb"
      },
      "execution_count": 17,
      "outputs": [
        {
          "output_type": "display_data",
          "data": {
            "text/plain": [
              "<Figure size 640x480 with 1 Axes>"
            ],
            "image/png": "[encoded data removed]"
          },
          "metadata": {}
        }
      ]
    }
  ]
}
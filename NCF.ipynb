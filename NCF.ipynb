{
  "nbformat": 4,
  "nbformat_minor": 0,
  "metadata": {
    "colab": {
      "provenance": []
    },
    "kernelspec": {
      "name": "python3",
      "display_name": "Python 3"
    },
    "language_info": {
      "name": "python"
    }
  },
  "cells": [
    {
      "cell_type": "code",
      "execution_count": 1,
      "metadata": {
        "id": "QHJ3hxtDyg5g"
      },
      "outputs": [],
      "source": [
        "from scipy.sparse import coo_matrix\n",
        "import torch\n",
        "import torch.nn as nn\n",
        "import numpy as np\n",
        "from torch.utils.data import DataLoader, TensorDataset\n",
        "import pandas as pd\n",
        "import matplotlib.pyplot as plt\n",
        "import ast"
      ]
    },
    {
      "cell_type": "code",
      "source": [
        "animes_data_path = \"preprocessed_animes.csv\"\n",
        "profiles_data_path = \"preprocessed_profiles.csv\"\n",
        "reviews_data_path = \"preprocessed_reviews.csv\"\n",
        "animes_data = pd.read_csv(animes_data_path)\n",
        "profiles_data = pd.read_csv(profiles_data_path)\n",
        "reviews_data = pd.read_csv(reviews_data_path, engine='python', sep=',', error_bad_lines=False)\n",
        "\n",
        "animes = animes_data.copy()\n",
        "profiles = profiles_data.copy()\n",
        "reviews = reviews_data.copy()"
      ],
      "metadata": {
        "colab": {
          "base_uri": "https://localhost:8080/"
        },
        "id": "BCU4b3M8yuq-",
        "outputId": "4d2325ae-7c4a-4c58-ff75-7038c4c3ac85"
      },
      "execution_count": 2,
      "outputs": [
        {
          "output_type": "stream",
          "name": "stderr",
          "text": [
            "<ipython-input-2-7df933736d05>:6: FutureWarning: The error_bad_lines argument has been deprecated and will be removed in a future version. Use on_bad_lines in the future.\n",
            "\n",
            "\n",
            "  reviews_data = pd.read_csv(reviews_data_path, engine='python', sep=',', error_bad_lines=False)\n"
          ]
        }
      ]
    },
    {
      "cell_type": "code",
      "source": [
        "np.random.seed(0)\n",
        "unique_AnimeID = reviews['anime_uid'].unique()\n",
        "unique_users = reviews['profile'].unique()\n",
        "j = 0\n",
        "user_old2new_id_dict = dict()\n",
        "for u in unique_users:\n",
        "    user_old2new_id_dict[u] = j\n",
        "    j += 1\n",
        "j = 0\n",
        "movie_old2new_id_dict = dict()\n",
        "for i in unique_AnimeID:\n",
        "    movie_old2new_id_dict[i] = j\n",
        "    j += 1"
      ],
      "metadata": {
        "id": "uE3FQGSiy01z"
      },
      "execution_count": 3,
      "outputs": []
    },
    {
      "cell_type": "code",
      "source": [
        "user_list = reviews['profile'].values\n",
        "movie_list = reviews['anime_uid'].values\n",
        "for j in range(len(reviews)):\n",
        "    user_list[j] = user_old2new_id_dict[user_list[j]]\n",
        "    movie_list[j] = movie_old2new_id_dict[movie_list[j]]\n",
        "reviews['profile'] = user_list\n",
        "reviews['anime_uid'] = movie_list\n",
        "\n",
        "# generate train_df with 70% samples and test_df with 30% samples, and there should have no overlap between them.\n",
        "train_index = np.random.random(len(reviews)) <= 0.7\n",
        "train_df = reviews[train_index]\n",
        "test_df = reviews[~train_index]\n",
        "\n",
        "# generate train_mat and test_mat\n",
        "num_user = len(reviews['profile'].unique())\n",
        "num_items = len(reviews['anime_uid'].unique())\n",
        "\n",
        "train_mat = coo_matrix((train_df['score'].values, (train_df['profile'].values, train_df['anime_uid'].values)), shape=(num_user, num_items)).astype(float).toarray()\n",
        "test_mat = coo_matrix((test_df['score'].values, (test_df['profile'].values, test_df['anime_uid'].values)), shape=(num_user, num_items)).astype(float).toarray()"
      ],
      "metadata": {
        "id": "_1MJzy0lzh-Y"
      },
      "execution_count": 4,
      "outputs": []
    },
    {
      "cell_type": "code",
      "source": [
        "latent_factors = 30\n",
        "\n",
        "P = np.random.rand(num_user, latent_factors)\n",
        "Q = np.random.rand(latent_factors, num_items)\n",
        "\n",
        "a = 0.01\n",
        "b = 0.1\n",
        "train_loss = []\n",
        "test_loss = []\n",
        "nonzero_indices_train = np.nonzero(train_mat)\n",
        "nonzero_indices_test = np.nonzero(test_mat)\n",
        "\n",
        "num_epochs = 6\n",
        "for epoch in range(num_epochs):\n",
        "    for i in range(num_user):\n",
        "        for j in range(num_items):\n",
        "            if train_mat[i, j] > 0:\n",
        "                diff = train_mat[i, j] - np.dot(P[i, :], Q[:, j])\n",
        "                P[i, :] += a * (diff * Q[:, j] - b * P[i, :])\n",
        "                Q[:, j] += a * (diff * P[i, :] - b * Q[:, j])\n",
        "\n",
        "    predicted_matrix = np.dot(P, Q)\n",
        "    \n",
        "    rmse_train = np.sqrt(np.mean((predicted_matrix[nonzero_indices_train] - train_mat[nonzero_indices_train])**2))\n",
        "    rmse_test = np.sqrt(np.mean((predicted_matrix[nonzero_indices_test] - test_mat[nonzero_indices_test])**2))\n",
        "\n",
        "    train_loss.append(rmse_train)\n",
        "    test_loss.append(rmse_test)\n",
        "\n",
        "    print('Epoch', epoch + 1, 'of', num_epochs, end=': ')\n",
        "    print('RMSE Train Loss: {:.4f}'.format(rmse_train), end=', ')\n",
        "    print('RMSE Test Loss: {:.4f}'.format(rmse_test))"
      ],
      "metadata": {
        "colab": {
          "base_uri": "https://localhost:8080/"
        },
        "id": "L2rLfCdUPezs",
        "outputId": "8e221a4f-e4ec-4403-a9f8-5e1b589b76ee"
      },
      "execution_count": 5,
      "outputs": [
        {
          "output_type": "stream",
          "name": "stdout",
          "text": [
            "Epoch 1 of 6: RMSE Train Loss: 1.7963, RMSE Test Loss: 2.0552\n",
            "Epoch 2 of 6: RMSE Train Loss: 1.5772, RMSE Test Loss: 1.9703\n",
            "Epoch 3 of 6: RMSE Train Loss: 1.4526, RMSE Test Loss: 1.9418\n",
            "Epoch 4 of 6: RMSE Train Loss: 1.3615, RMSE Test Loss: 1.9306\n",
            "Epoch 5 of 6: RMSE Train Loss: 1.2864, RMSE Test Loss: 1.9272\n",
            "Epoch 6 of 6: RMSE Train Loss: 1.2200, RMSE Test Loss: 1.9278\n"
          ]
        }
      ]
    },
    {
      "cell_type": "code",
      "source": [
        "indices_train = np.argwhere(train_mat > 0)\n",
        "train_df = {'user_id': [], 'item_id': [], 'rating': []}\n",
        "for index in indices_train:\n",
        "  train_df['user_id'].append(index[0])\n",
        "  train_df['item_id'].append(index[1])\n",
        "  train_df['rating'].append(train_mat[index[0], index[1]])\n",
        "\n",
        "indices_test = np.argwhere(test_mat > 0)\n",
        "test_df = {'user_id': [], 'item_id': [], 'rating': []}\n",
        "for index in indices_test:\n",
        "  test_df['user_id'].append(index[0])\n",
        "  test_df['item_id'].append(index[1])\n",
        "  test_df['rating'].append(test_mat[index[0], index[1]])"
      ],
      "metadata": {
        "id": "nt7lQOw7k5d5"
      },
      "execution_count": 6,
      "outputs": []
    },
    {
      "cell_type": "code",
      "source": [
        "train_df = pd.DataFrame(train_df)\n",
        "print(train_df.head())\n",
        "\n",
        "test_df = pd.DataFrame(test_df)\n",
        "print(test_df.head())"
      ],
      "metadata": {
        "colab": {
          "base_uri": "https://localhost:8080/"
        },
        "id": "EbGe-NCul2pe",
        "outputId": "0a86bd8e-4176-4812-a122-3332f5ed87ab"
      },
      "execution_count": 7,
      "outputs": [
        {
          "output_type": "stream",
          "name": "stdout",
          "text": [
            "   user_id  item_id  rating\n",
            "0        0        0     8.0\n",
            "1        0       69     6.0\n",
            "2        0      106     7.0\n",
            "3        0      119     8.0\n",
            "4        0      167     7.0\n",
            "   user_id  item_id  rating\n",
            "0        0        1     8.0\n",
            "1        0       94     6.0\n",
            "2        0      147     9.0\n",
            "3        0      196     7.0\n",
            "4        0      237     7.0\n"
          ]
        }
      ]
    },
    {
      "cell_type": "code",
      "source": [
        "from torch.utils.data import DataLoader, TensorDataset\n",
        "train_user_ids = torch.LongTensor(train_df['user_id'].values)\n",
        "train_item_ids = torch.LongTensor(train_df['item_id'].values)\n",
        "train_ratings = torch.FloatTensor(train_df['rating'].values)\n",
        "\n",
        "train_dataset = TensorDataset(train_user_ids, train_item_ids, train_ratings)\n",
        "batch_size = 256\n",
        "\n",
        "# Create a DataLoader that generates batches of data\n",
        "train_dataloader = DataLoader(train_dataset, batch_size=batch_size, shuffle=True)\n",
        "\n",
        "\n",
        "test_user_ids = torch.LongTensor(test_df['user_id'].values)\n",
        "test_item_ids = torch.LongTensor(test_df['item_id'].values)\n",
        "test_ratings = torch.FloatTensor(test_df['rating'].values)\n",
        "\n",
        "test_dataset = TensorDataset(test_user_ids, test_item_ids, test_ratings)\n",
        "\n",
        "# Create a DataLoader that generates batches of data\n",
        "test_dataloader = DataLoader(test_dataset, batch_size=batch_size, shuffle=True)"
      ],
      "metadata": {
        "id": "qKauyEDQkMb4"
      },
      "execution_count": 8,
      "outputs": []
    },
    {
      "cell_type": "code",
      "source": [
        "import torch\n",
        "import torch.nn as nn\n",
        "import torch.nn.functional as F\n",
        "\n",
        "class NCF(nn.Module):\n",
        "    def __init__(self, num_users, num_items, embedding_dim, hidden_dim, pretrained_user_embs, pretrained_item_embs):\n",
        "        super(NCF, self).__init__()\n",
        "        self.num_users = num_users\n",
        "        self.num_items = num_items\n",
        "        self.embedding_dim = embedding_dim\n",
        "        self.hidden_dim = hidden_dim\n",
        "        \n",
        "        # User and item embeddings\n",
        "        self.user_embed = nn.Embedding(num_users, embedding_dim)\n",
        "        self.item_embed = nn.Embedding(num_items, embedding_dim)\n",
        "        \n",
        "        self.fc1 = nn.Linear(embedding_dim * 2, hidden_dim)\n",
        "        self.fc2 = nn.Linear(hidden_dim, hidden_dim // 2)\n",
        "        self.fc3 = nn.Linear(hidden_dim // 2, 1)\n",
        "\n",
        "        if pretrained_user_embs is not None:\n",
        "            self.user_embed.weight.data.copy_(torch.from_numpy(pretrained_user_embs))\n",
        "        if pretrained_item_embs is not None:\n",
        "            self.item_embed.weight.data.copy_(torch.from_numpy(pretrained_item_embs))\n",
        "\n",
        "        \n",
        "    def forward(self, user, item):\n",
        "        # Embedding lookup\n",
        "        user_embed = self.user_embed(user)\n",
        "        item_embed = self.item_embed(item)\n",
        "        \n",
        "        # Concatenate the user and item embeddings\n",
        "        x = torch.cat([user_embed, item_embed], dim=1)\n",
        "        \n",
        "        x = F.relu(self.fc1(x))\n",
        "        x = F.relu(self.fc2(x))\n",
        "        x = self.fc3(x)\n",
        "        \n",
        "        # Apply sigmoid function to output\n",
        "        x = torch.sigmoid(x) * 10\n",
        "        \n",
        "        return x.squeeze()\n"
      ],
      "metadata": {
        "id": "26tbumAE0Law"
      },
      "execution_count": 9,
      "outputs": []
    },
    {
      "cell_type": "code",
      "source": [
        "# Define the model, loss function, and optimizer\n",
        "embedding_dim = 30\n",
        "hidden_dim = 5\n",
        "model = NCF(num_user, num_items, embedding_dim, hidden_dim, P, Q.T)\n",
        "loss_fn = nn.MSELoss()\n",
        "lr = 0.0002\n",
        "optimizer = torch.optim.Adam(model.parameters(), lr=lr)\n",
        "num_epochs = 30\n",
        "# Training loop\n",
        "train_loss = []\n",
        "test_loss = []\n",
        "\n",
        "for epoch in range(num_epochs):\n",
        "    model.train()\n",
        "    running_train_loss = []\n",
        "    for batch in train_dataloader:\n",
        "        # Unpack the batch\n",
        "        user, item, rating = batch\n",
        "        \n",
        "        # Forward pass\n",
        "        rating_pred = model(user, item)\n",
        "        loss = loss_fn(rating_pred, rating)\n",
        "        running_train_loss.append(np.sqrt(loss.item()))\n",
        "        \n",
        "        # Backward pass and optimization\n",
        "        optimizer.zero_grad()\n",
        "        loss.backward()\n",
        "        optimizer.step()\n",
        "      \n",
        "    model.eval()\n",
        "    running_test_loss = []\n",
        "\n",
        "    with torch.no_grad():\n",
        "      for batch in test_dataloader:\n",
        "        user, item, rating = batch\n",
        "        rating_pred = model(user, item)\n",
        "        loss = loss_fn(rating_pred, rating)\n",
        "        running_test_loss.append(np.sqrt(loss.item()))\n",
        "    \n",
        "    print('Epoch', epoch + 1, 'of', num_epochs, end=': ')\n",
        "    print('RMSE Train Loss: {:.4f}'.format(np.mean(running_train_loss)), end=', ')\n",
        "    print('RMSE Test Loss: {:.4f}'.format(np.mean(running_test_loss)))\n",
        "\n",
        "    train_loss.append(np.mean(running_train_loss))\n",
        "    test_loss.append(np.mean(running_test_loss))"
      ],
      "metadata": {
        "colab": {
          "base_uri": "https://localhost:8080/"
        },
        "id": "ON5Y2G2W4pYa",
        "outputId": "1edf6d7d-97e9-4834-c944-c14f8a952d3c"
      },
      "execution_count": 48,
      "outputs": [
        {
          "output_type": "stream",
          "name": "stdout",
          "text": [
            "Epoch 1 of 30: RMSE Train Loss: 2.5997, RMSE Test Loss: 2.3430\n",
            "Epoch 2 of 30: RMSE Train Loss: 2.1696, RMSE Test Loss: 2.1463\n",
            "Epoch 3 of 30: RMSE Train Loss: 2.0871, RMSE Test Loss: 2.1236\n",
            "Epoch 4 of 30: RMSE Train Loss: 2.0538, RMSE Test Loss: 2.0992\n",
            "Epoch 5 of 30: RMSE Train Loss: 2.0131, RMSE Test Loss: 2.0647\n",
            "Epoch 6 of 30: RMSE Train Loss: 1.9584, RMSE Test Loss: 2.0191\n",
            "Epoch 7 of 30: RMSE Train Loss: 1.8893, RMSE Test Loss: 1.9717\n",
            "Epoch 8 of 30: RMSE Train Loss: 1.8139, RMSE Test Loss: 1.9300\n",
            "Epoch 9 of 30: RMSE Train Loss: 1.7477, RMSE Test Loss: 1.9043\n",
            "Epoch 10 of 30: RMSE Train Loss: 1.6958, RMSE Test Loss: 1.8868\n",
            "Epoch 11 of 30: RMSE Train Loss: 1.6550, RMSE Test Loss: 1.8749\n",
            "Epoch 12 of 30: RMSE Train Loss: 1.6220, RMSE Test Loss: 1.8683\n",
            "Epoch 13 of 30: RMSE Train Loss: 1.5928, RMSE Test Loss: 1.8608\n",
            "Epoch 14 of 30: RMSE Train Loss: 1.5692, RMSE Test Loss: 1.8592\n",
            "Epoch 15 of 30: RMSE Train Loss: 1.5498, RMSE Test Loss: 1.8565\n",
            "Epoch 16 of 30: RMSE Train Loss: 1.5317, RMSE Test Loss: 1.8554\n",
            "Epoch 17 of 30: RMSE Train Loss: 1.5177, RMSE Test Loss: 1.8566\n",
            "Epoch 18 of 30: RMSE Train Loss: 1.5040, RMSE Test Loss: 1.8575\n",
            "Epoch 19 of 30: RMSE Train Loss: 1.4918, RMSE Test Loss: 1.8565\n",
            "Epoch 20 of 30: RMSE Train Loss: 1.4814, RMSE Test Loss: 1.8600\n",
            "Epoch 21 of 30: RMSE Train Loss: 1.4731, RMSE Test Loss: 1.8614\n",
            "Epoch 22 of 30: RMSE Train Loss: 1.4632, RMSE Test Loss: 1.8631\n",
            "Epoch 23 of 30: RMSE Train Loss: 1.4553, RMSE Test Loss: 1.8649\n",
            "Epoch 24 of 30: RMSE Train Loss: 1.4492, RMSE Test Loss: 1.8647\n",
            "Epoch 25 of 30: RMSE Train Loss: 1.4441, RMSE Test Loss: 1.8664\n",
            "Epoch 26 of 30: RMSE Train Loss: 1.4360, RMSE Test Loss: 1.8696\n",
            "Epoch 27 of 30: RMSE Train Loss: 1.4300, RMSE Test Loss: 1.8706\n",
            "Epoch 28 of 30: RMSE Train Loss: 1.4253, RMSE Test Loss: 1.8732\n",
            "Epoch 29 of 30: RMSE Train Loss: 1.4202, RMSE Test Loss: 1.8750\n",
            "Epoch 30 of 30: RMSE Train Loss: 1.4166, RMSE Test Loss: 1.8801\n"
          ]
        }
      ]
    },
    {
      "cell_type": "code",
      "source": [
        "import matplotlib.pyplot as plt\n",
        "x = [i + 1 for i in range(num_epochs)]\n",
        "plt.plot(x, train_loss, label='train_loss')\n",
        "plt.plot(x, test_loss, label='test_loss')\n",
        "leg = plt.legend(loc='upper center')\n",
        "plt.xticks([i + 1 for i in range(0, num_epochs, 3)]) \n",
        "plt.show()"
      ],
      "metadata": {
        "colab": {
          "base_uri": "https://localhost:8080/",
          "height": 430
        },
        "id": "gzysxVP4wO5O",
        "outputId": "c52a84a4-131b-42ab-8ddd-4440b52a645b"
      },
      "execution_count": 49,
      "outputs": [
        {
          "output_type": "display_data",
          "data": {
            "text/plain": [
              "<Figure size 640x480 with 1 Axes>"
            ],
            "image/png": "[encoded data removed]"
          },
          "metadata": {}
        }
      ]
    }
  ]
}
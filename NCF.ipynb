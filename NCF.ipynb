{
  "nbformat": 4,
  "nbformat_minor": 0,
  "metadata": {
    "colab": {
      "provenance": []
    },
    "kernelspec": {
      "name": "python3",
      "display_name": "Python 3"
    },
    "language_info": {
      "name": "python"
    }
  },
  "cells": [
    {
      "cell_type": "code",
      "execution_count": 1,
      "metadata": {
        "id": "QHJ3hxtDyg5g"
      },
      "outputs": [],
      "source": [
        "from scipy.sparse import coo_matrix\n",
        "import torch\n",
        "import torch.nn as nn\n",
        "import numpy as np\n",
        "from torch.utils.data import DataLoader, TensorDataset\n",
        "import pandas as pd\n",
        "import matplotlib.pyplot as plt\n",
        "import ast\n",
        "import pickle "
      ]
    },
    {
      "cell_type": "code",
      "source": [
        "animes_data_path = \"preprocessed_animes.csv\"\n",
        "profiles_data_path = \"preprocessed_profiles.csv\"\n",
        "reviews_data_path = \"preprocessed_reviews.csv\"\n",
        "animes_data = pd.read_csv(animes_data_path)\n",
        "profiles_data = pd.read_csv(profiles_data_path)\n",
        "reviews_data = pd.read_csv(reviews_data_path, engine='python', sep=',', error_bad_lines=False)\n",
        "\n",
        "animes = animes_data.copy()\n",
        "profiles = profiles_data.copy()\n",
        "reviews = reviews_data.copy()"
      ],
      "metadata": {
        "colab": {
          "base_uri": "https://localhost:8080/"
        },
        "id": "BCU4b3M8yuq-",
        "outputId": "4a9a231e-d294-4c9a-af5c-f64809f27a6b"
      },
      "execution_count": 57,
      "outputs": [
        {
          "output_type": "stream",
          "name": "stderr",
          "text": [
            "<ipython-input-57-7df933736d05>:6: FutureWarning: The error_bad_lines argument has been deprecated and will be removed in a future version. Use on_bad_lines in the future.\n",
            "\n",
            "\n",
            "  reviews_data = pd.read_csv(reviews_data_path, engine='python', sep=',', error_bad_lines=False)\n"
          ]
        }
      ]
    },
    {
      "cell_type": "code",
      "source": [
        "np.random.seed(0)\n",
        "unique_AnimeID = reviews['anime_uid'].unique().tolist()\n",
        "unique_users = reviews['profile'].unique()\n",
        "j = 0\n",
        "user_old2new_id_dict = dict()\n",
        "for u in unique_users:\n",
        "    user_old2new_id_dict[u] = j\n",
        "    j += 1\n",
        "j = 0\n",
        "movie_old2new_id_dict = dict()\n",
        "movie_new2old_id_dict = dict()\n",
        "for i in unique_AnimeID:\n",
        "    movie_old2new_id_dict[i] = j\n",
        "    movie_new2old_id_dict[j] = i\n",
        "    j += 1"
      ],
      "metadata": {
        "id": "uE3FQGSiy01z"
      },
      "execution_count": 3,
      "outputs": []
    },
    {
      "cell_type": "code",
      "source": [
        "user_list = reviews['profile'].values\n",
        "movie_list = reviews['anime_uid'].values\n",
        "for j in range(len(reviews)):\n",
        "    user_list[j] = user_old2new_id_dict[user_list[j]]\n",
        "    movie_list[j] = movie_old2new_id_dict[movie_list[j]]\n",
        "reviews['profile'] = user_list\n",
        "reviews['anime_uid'] = movie_list\n",
        "\n",
        "# generate train_df with 70% samples and test_df with 30% samples, and there should have no overlap between them.\n",
        "train_index = np.random.random(len(reviews)) <= 0.7\n",
        "train_df = reviews[train_index]\n",
        "test_df = reviews[~train_index]\n",
        "\n",
        "# generate train_mat and test_mat\n",
        "num_user = len(reviews['profile'].unique())\n",
        "num_items = len(reviews['anime_uid'].unique())\n",
        "\n",
        "train_mat = coo_matrix((train_df['score'].values, (train_df['profile'].values, train_df['anime_uid'].values)), shape=(num_user, num_items)).astype(float).toarray()\n",
        "test_mat = coo_matrix((test_df['score'].values, (test_df['profile'].values, test_df['anime_uid'].values)), shape=(num_user, num_items)).astype(float).toarray()"
      ],
      "metadata": {
        "id": "_1MJzy0lzh-Y"
      },
      "execution_count": 4,
      "outputs": []
    },
    {
      "cell_type": "code",
      "source": [
        "def MF_PreTrained_Embeddings(latent_factors):\n",
        "  P = np.random.rand(num_user, latent_factors)\n",
        "  Q = np.random.rand(latent_factors, num_items)\n",
        "\n",
        "  a = 0.01\n",
        "  b = 0.1\n",
        "  train_loss = []\n",
        "  test_loss = []\n",
        "  nonzero_indices_train = np.nonzero(train_mat)\n",
        "  nonzero_indices_test = np.nonzero(test_mat)\n",
        "\n",
        "  num_epochs = 5\n",
        "  for epoch in range(num_epochs):\n",
        "      for i in range(num_user):\n",
        "          for j in range(num_items):\n",
        "              if train_mat[i, j] > 0:\n",
        "                  diff = train_mat[i, j] - np.dot(P[i, :], Q[:, j])\n",
        "                  P[i, :] += a * (diff * Q[:, j] - b * P[i, :])\n",
        "                  Q[:, j] += a * (diff * P[i, :] - b * Q[:, j])\n",
        "\n",
        "      predicted_matrix = np.dot(P, Q)\n",
        "      \n",
        "      rmse_train = np.sqrt(np.mean((predicted_matrix[nonzero_indices_train] - train_mat[nonzero_indices_train])**2))\n",
        "      rmse_test = np.sqrt(np.mean((predicted_matrix[nonzero_indices_test] - test_mat[nonzero_indices_test])**2))\n",
        "\n",
        "      train_loss.append(rmse_train)\n",
        "      test_loss.append(rmse_test)\n",
        "\n",
        "      print('Epoch', epoch + 1, 'of', num_epochs, end=': ')\n",
        "      print('RMSE Train Loss: {:.4f}'.format(rmse_train), end=', ')\n",
        "      print('RMSE Test Loss: {:.4f}'.format(rmse_test))\n",
        "    \n",
        "  return P, Q"
      ],
      "metadata": {
        "id": "L2rLfCdUPezs"
      },
      "execution_count": 5,
      "outputs": []
    },
    {
      "cell_type": "code",
      "source": [
        "latent_factors_for_MF = 30\n",
        "P1, Q1 = MF_PreTrained_Embeddings(latent_factors_for_MF)"
      ],
      "metadata": {
        "colab": {
          "base_uri": "https://localhost:8080/"
        },
        "id": "WhuX16IOg24e",
        "outputId": "043431bf-664d-4656-f858-a0187d814a04"
      },
      "execution_count": 133,
      "outputs": [
        {
          "output_type": "stream",
          "name": "stdout",
          "text": [
            "Epoch 1 of 5: RMSE Train Loss: 1.8021, RMSE Test Loss: 2.0576\n",
            "Epoch 2 of 5: RMSE Train Loss: 1.5839, RMSE Test Loss: 1.9752\n",
            "Epoch 3 of 5: RMSE Train Loss: 1.4589, RMSE Test Loss: 1.9473\n",
            "Epoch 4 of 5: RMSE Train Loss: 1.3677, RMSE Test Loss: 1.9364\n",
            "Epoch 5 of 5: RMSE Train Loss: 1.2928, RMSE Test Loss: 1.9333\n"
          ]
        }
      ]
    },
    {
      "cell_type": "code",
      "source": [
        "animes['popularity']"
      ],
      "metadata": {
        "colab": {
          "base_uri": "https://localhost:8080/"
        },
        "id": "gtVbRqv3PY-7",
        "outputId": "0bbd52e0-bfd4-4dfb-f92a-1c6f2a85166b"
      },
      "execution_count": 58,
      "outputs": [
        {
          "output_type": "execute_result",
          "data": {
            "text/plain": [
              "0        141\n",
              "1         28\n",
              "2         98\n",
              "3          4\n",
              "4        502\n",
              "        ... \n",
              "6782    2382\n",
              "6783    1648\n",
              "6784    1547\n",
              "6785    2154\n",
              "6786     883\n",
              "Name: popularity, Length: 6787, dtype: int64"
            ]
          },
          "metadata": {},
          "execution_count": 58
        }
      ]
    },
    {
      "cell_type": "code",
      "source": [
        "import math \n",
        "\n",
        "popularity_list = [math.log(popularity, 2) + 0.01 for popularity in animes['popularity'].tolist()]\n",
        "score = animes['score'].tolist()"
      ],
      "metadata": {
        "id": "y22CtrRuMRkE"
      },
      "execution_count": 143,
      "outputs": []
    },
    {
      "cell_type": "code",
      "source": [
        "indices_train = np.argwhere(train_mat > 0)\n",
        "train_df = {'user_id': [], 'item_id': [], 'rating': [], 'item_features': []}\n",
        "for index in indices_train:\n",
        "  train_df['user_id'].append(index[0])\n",
        "  train_df['item_id'].append(index[1])\n",
        "  train_df['rating'].append(train_mat[index[0], index[1]])\n",
        "  train_df['item_features'].append([1 / popularity_list[index[1]], score[index[1]]])\n",
        "\n",
        "indices_test = np.argwhere(test_mat > 0)\n",
        "test_df = {'user_id': [], 'item_id': [], 'rating': [], 'item_features': []}\n",
        "for index in indices_test:\n",
        "  test_df['user_id'].append(index[0])\n",
        "  test_df['item_id'].append(index[1])\n",
        "  test_df['rating'].append(test_mat[index[0], index[1]])\n",
        "  test_df['item_features'].append([1 / popularity_list[index[1]], score[index[1]]])"
      ],
      "metadata": {
        "id": "nt7lQOw7k5d5"
      },
      "execution_count": 71,
      "outputs": []
    },
    {
      "cell_type": "code",
      "source": [
        "train_df = pd.DataFrame(train_df)\n",
        "print(train_df.head())\n",
        "\n",
        "test_df = pd.DataFrame(test_df)\n",
        "print(test_df.head())"
      ],
      "metadata": {
        "colab": {
          "base_uri": "https://localhost:8080/"
        },
        "id": "EbGe-NCul2pe",
        "outputId": "ef73cae0-6271-40f8-8bc7-3c3c4b18145d"
      },
      "execution_count": 72,
      "outputs": [
        {
          "output_type": "stream",
          "name": "stdout",
          "text": [
            "   user_id  item_id  rating                item_features\n",
            "0        0        0     8.0   [0.1398689163431889, 8.82]\n",
            "1        0       69     6.0  [0.08483443424437374, 7.88]\n",
            "2        0      106     7.0  [0.10409954679068978, 7.91]\n",
            "3        0      119     8.0  [0.08827700898407186, 7.92]\n",
            "4        0      167     7.0  [0.08667039156668174, 7.96]\n",
            "   user_id  item_id  rating                item_features\n",
            "0        0        1     8.0   [0.2075827951603111, 8.83]\n",
            "1        0       94     6.0   [0.08618517078860513, 7.9]\n",
            "2        0      147     9.0  [0.08984010923514645, 7.94]\n",
            "3        0      196     7.0  [0.08448408766066523, 7.99]\n",
            "4        0      237     7.0   [0.1262165805380088, 8.02]\n"
          ]
        }
      ]
    },
    {
      "cell_type": "code",
      "source": [
        "from torch.utils.data import DataLoader, TensorDataset\n",
        "train_user_ids = torch.LongTensor(train_df['user_id'].values)\n",
        "train_item_ids = torch.LongTensor(train_df['item_id'].values)\n",
        "train_ratings = torch.FloatTensor(train_df['rating'].values)\n",
        "train_item_features = torch.FloatTensor(train_df['item_features'])\n",
        "\n",
        "train_dataset = TensorDataset(train_user_ids, train_item_ids, train_ratings, train_item_features)\n",
        "batch_size = 256\n",
        "\n",
        "# Create a DataLoader that generates batches of data\n",
        "train_dataloader = DataLoader(train_dataset, batch_size=batch_size, shuffle=True)\n",
        "\n",
        "test_user_ids = torch.LongTensor(test_df['user_id'].values)\n",
        "test_item_ids = torch.LongTensor(test_df['item_id'].values)\n",
        "test_ratings = torch.FloatTensor(test_df['rating'].values)\n",
        "test_item_features = torch.FloatTensor(test_df['item_features'])\n",
        "\n",
        "test_dataset = TensorDataset(test_user_ids, test_item_ids, test_ratings, test_item_features)\n",
        "\n",
        "# Create a DataLoader that generates batches of data\n",
        "test_dataloader = DataLoader(test_dataset, batch_size=batch_size, shuffle=True)"
      ],
      "metadata": {
        "id": "qKauyEDQkMb4"
      },
      "execution_count": 73,
      "outputs": []
    },
    {
      "cell_type": "code",
      "source": [
        "import torch\n",
        "import torch.nn as nn\n",
        "import torch.nn.functional as F\n",
        "\n",
        "class NCF(nn.Module):\n",
        "    def __init__(self, num_users, num_items, embedding_dim, hidden_dim, item_features_dim, pretrained_user_embs, pretrained_item_embs):\n",
        "        super(NCF, self).__init__()\n",
        "        self.num_users = num_users\n",
        "        self.num_items = num_items\n",
        "        self.embedding_dim = embedding_dim\n",
        "        self.hidden_dim = hidden_dim\n",
        "        self.item_features_dim = item_features_dim\n",
        "        \n",
        "        # User and item embeddings\n",
        "        self.user_embed = nn.Embedding(num_users, embedding_dim)\n",
        "        self.item_embed = nn.Embedding(num_items, embedding_dim)\n",
        "        \n",
        "        self.fc1 = nn.Linear(embedding_dim * 2 + item_features_dim, hidden_dim)\n",
        "        self.fc2 = nn.Linear(hidden_dim, hidden_dim // 2)\n",
        "        self.fc3 = nn.Linear(hidden_dim // 2, 1)\n",
        "        \n",
        "        if pretrained_user_embs is not None:\n",
        "            self.user_embed.weight.data.copy_(torch.from_numpy(pretrained_user_embs))\n",
        "        if pretrained_item_embs is not None:\n",
        "            self.item_embed.weight.data.copy_(torch.from_numpy(pretrained_item_embs)) \n",
        "\n",
        "        \n",
        "    def forward(self, user, item, item_features):\n",
        "        # Embedding lookup\n",
        "        user_embed = self.user_embed(user)\n",
        "        item_embed = self.item_embed(item)\n",
        "        \n",
        "        # Concatenate the user and item embeddings\n",
        "        x = None\n",
        "        if self.item_features_dim == 0:\n",
        "          x = torch.cat([user_embed, item_embed], dim=1)\n",
        "        else:\n",
        "          x = torch.cat([user_embed, item_embed, item_features], dim=1)\n",
        "        \n",
        "        x = F.relu(self.fc1(x))\n",
        "        x = F.relu(self.fc2(x))\n",
        "        x = F.relu(self.fc3(x))\n",
        "        # Apply sigmoid function to output\n",
        "        x = torch.sigmoid(x) * 10\n",
        "        \n",
        "        return x.squeeze()\n"
      ],
      "metadata": {
        "id": "26tbumAE0Law"
      },
      "execution_count": 128,
      "outputs": []
    },
    {
      "cell_type": "code",
      "source": [
        "from pandas._libs.tslibs.offsets import QuarterOffset\n",
        "# Define the model, loss function, and optimizer\n",
        "import matplotlib.pyplot as plt\n",
        "\n",
        "def train_NCF(item_features_dim, lr, num_epochs, hidden_dim, latent_factors, P, Q):\n",
        "  embedding_dim = latent_factors\n",
        "  \n",
        "  model = NCF(num_user, num_items, embedding_dim, hidden_dim, item_features_dim, P, Q)\n",
        "  loss_fn = nn.MSELoss()\n",
        "  optimizer = torch.optim.Adam(model.parameters(), lr=lr)\n",
        "  # Training loop\n",
        "  train_loss = []\n",
        "  test_loss = []\n",
        "  for epoch in range(num_epochs):\n",
        "      model.train()\n",
        "      running_train_loss = []\n",
        "      for batch in train_dataloader:\n",
        "          # Unpack the batch\n",
        "          user, item, rating, item_features = batch\n",
        "          \n",
        "          # Forward pass\n",
        "          rating_pred = model(user, item, item_features)\n",
        "          loss = loss_fn(rating_pred, rating)\n",
        "          running_train_loss.append(np.sqrt(loss.item()))\n",
        "          \n",
        "          # Backward pass and optimization\n",
        "          optimizer.zero_grad()\n",
        "          loss.backward()\n",
        "          optimizer.step()\n",
        "        \n",
        "      model.eval()\n",
        "      running_test_loss = []\n",
        "\n",
        "      with torch.no_grad():\n",
        "        for batch in test_dataloader:\n",
        "          user, item, rating, item_features = batch\n",
        "          rating_pred = model(user, item, item_features)\n",
        "          loss = loss_fn(rating_pred, rating)\n",
        "          running_test_loss.append(np.sqrt(loss.item()))\n",
        "      \n",
        "      print('Epoch', epoch + 1, 'of', num_epochs, end=': ')\n",
        "      print('RMSE Train Loss: {:.4f}'.format(np.mean(running_train_loss)), end=', ')\n",
        "      print('RMSE Test Loss: {:.4f}'.format(np.mean(running_test_loss)))\n",
        "\n",
        "      train_loss.append(np.mean(running_train_loss))\n",
        "      test_loss.append(np.mean(running_test_loss))\n",
        "\n",
        "  x = [i + 1 for i in range(num_epochs)]\n",
        "  plt.plot(x, train_loss, label='train_loss')\n",
        "  plt.plot(x, test_loss, label='test_loss')\n",
        "  leg = plt.legend(loc='upper center')\n",
        "  plt.xticks([i + 1 for i in range(0, num_epochs, 3)]) \n",
        "  plt.show()"
      ],
      "metadata": {
        "id": "ON5Y2G2W4pYa"
      },
      "execution_count": 122,
      "outputs": []
    },
    {
      "cell_type": "markdown",
      "source": [
        "### Baseline NCF"
      ],
      "metadata": {
        "id": "MtXr5O2Ie0M4"
      }
    },
    {
      "cell_type": "code",
      "source": [
        "item_features_dim = 0\n",
        "lr = 0.005\n",
        "num_epochs = 10\n",
        "hidden_dim = 20\n",
        "latent_factors = 30\n",
        "\n",
        "train_NCF(item_features_dim, lr, num_epochs, hidden_dim, latent_factors, None, None)"
      ],
      "metadata": {
        "colab": {
          "base_uri": "https://localhost:8080/",
          "height": 609
        },
        "id": "OuGoK30ui46x",
        "outputId": "b6da7f8a-b4cb-4927-b1ca-ef488918dbf9"
      },
      "execution_count": 130,
      "outputs": [
        {
          "output_type": "stream",
          "name": "stdout",
          "text": [
            "Epoch 1 of 10: RMSE Train Loss: 2.2095, RMSE Test Loss: 2.0940\n",
            "Epoch 2 of 10: RMSE Train Loss: 1.9499, RMSE Test Loss: 1.9741\n",
            "Epoch 3 of 10: RMSE Train Loss: 1.7540, RMSE Test Loss: 1.9359\n",
            "Epoch 4 of 10: RMSE Train Loss: 1.6155, RMSE Test Loss: 1.9403\n",
            "Epoch 5 of 10: RMSE Train Loss: 1.5184, RMSE Test Loss: 1.9524\n",
            "Epoch 6 of 10: RMSE Train Loss: 1.4438, RMSE Test Loss: 1.9672\n",
            "Epoch 7 of 10: RMSE Train Loss: 1.3865, RMSE Test Loss: 1.9879\n",
            "Epoch 8 of 10: RMSE Train Loss: 1.3385, RMSE Test Loss: 2.0095\n",
            "Epoch 9 of 10: RMSE Train Loss: 1.2956, RMSE Test Loss: 2.0237\n",
            "Epoch 10 of 10: RMSE Train Loss: 1.2589, RMSE Test Loss: 2.0389\n"
          ]
        },
        {
          "output_type": "display_data",
          "data": {
            "text/plain": [
              "<Figure size 640x480 with 1 Axes>"
            ],
            "image/png": "[encoded data removed]"
          },
          "metadata": {}
        }
      ]
    },
    {
      "cell_type": "markdown",
      "source": [
        "### NCF + MF Hybrid (Uses pretrained embeddings of MF)"
      ],
      "metadata": {
        "id": "gugKjuLPe3X7"
      }
    },
    {
      "cell_type": "code",
      "source": [
        "item_features_dim = 0\n",
        "lr=0.001\n",
        "num_epochs=15\n",
        "latent_factors = 30\n",
        "\n",
        "train_NCF(item_features_dim, lr, num_epochs, hidden_dim, latent_factors, P1, Q1.T)"
      ],
      "metadata": {
        "colab": {
          "base_uri": "https://localhost:8080/",
          "height": 698
        },
        "id": "rEXCz6j8Rpmm",
        "outputId": "d58e8384-4426-44ee-cf60-493b1c3f8484"
      },
      "execution_count": 134,
      "outputs": [
        {
          "output_type": "stream",
          "name": "stdout",
          "text": [
            "Epoch 1 of 15: RMSE Train Loss: 2.1234, RMSE Test Loss: 2.0746\n",
            "Epoch 2 of 15: RMSE Train Loss: 1.8684, RMSE Test Loss: 1.9052\n",
            "Epoch 3 of 15: RMSE Train Loss: 1.6852, RMSE Test Loss: 1.8624\n",
            "Epoch 4 of 15: RMSE Train Loss: 1.6040, RMSE Test Loss: 1.8578\n",
            "Epoch 5 of 15: RMSE Train Loss: 1.5585, RMSE Test Loss: 1.8612\n",
            "Epoch 6 of 15: RMSE Train Loss: 1.5280, RMSE Test Loss: 1.8678\n",
            "Epoch 7 of 15: RMSE Train Loss: 1.5058, RMSE Test Loss: 1.8761\n",
            "Epoch 8 of 15: RMSE Train Loss: 1.4863, RMSE Test Loss: 1.9024\n",
            "Epoch 9 of 15: RMSE Train Loss: 1.4724, RMSE Test Loss: 1.8872\n",
            "Epoch 10 of 15: RMSE Train Loss: 1.4561, RMSE Test Loss: 1.8988\n",
            "Epoch 11 of 15: RMSE Train Loss: 1.4445, RMSE Test Loss: 1.9067\n",
            "Epoch 12 of 15: RMSE Train Loss: 1.4330, RMSE Test Loss: 1.9125\n",
            "Epoch 13 of 15: RMSE Train Loss: 1.4215, RMSE Test Loss: 1.9199\n",
            "Epoch 14 of 15: RMSE Train Loss: 1.4097, RMSE Test Loss: 1.9279\n",
            "Epoch 15 of 15: RMSE Train Loss: 1.3997, RMSE Test Loss: 1.9317\n"
          ]
        },
        {
          "output_type": "display_data",
          "data": {
            "text/plain": [
              "<Figure size 640x480 with 1 Axes>"
            ],
            "image/png": "[encoded data removed]"
          },
          "metadata": {}
        }
      ]
    },
    {
      "cell_type": "markdown",
      "source": [
        "### NCF + MF + Item Features"
      ],
      "metadata": {
        "id": "KNNhxVMmfAq8"
      }
    },
    {
      "cell_type": "code",
      "source": [
        "item_features_dim = 2\n",
        "lr=0.0005\n",
        "num_epochs = 15\n",
        "latent_factors = 30\n",
        "train_NCF(item_features_dim, lr, num_epochs, hidden_dim, latent_factors, P1, Q1.T)"
      ],
      "metadata": {
        "colab": {
          "base_uri": "https://localhost:8080/",
          "height": 698
        },
        "id": "OnRIkcMUSJba",
        "outputId": "e45e2ada-7f07-405d-e030-d0f6dc0c7edb"
      },
      "execution_count": 142,
      "outputs": [
        {
          "output_type": "stream",
          "name": "stdout",
          "text": [
            "Epoch 1 of 15: RMSE Train Loss: 2.2277, RMSE Test Loss: 2.1483\n",
            "Epoch 2 of 15: RMSE Train Loss: 1.9888, RMSE Test Loss: 1.9854\n",
            "Epoch 3 of 15: RMSE Train Loss: 1.7570, RMSE Test Loss: 1.9204\n",
            "Epoch 4 of 15: RMSE Train Loss: 1.6586, RMSE Test Loss: 1.9016\n",
            "Epoch 5 of 15: RMSE Train Loss: 1.6044, RMSE Test Loss: 1.8957\n",
            "Epoch 6 of 15: RMSE Train Loss: 1.5687, RMSE Test Loss: 1.8873\n",
            "Epoch 7 of 15: RMSE Train Loss: 1.5404, RMSE Test Loss: 1.8910\n",
            "Epoch 8 of 15: RMSE Train Loss: 1.5202, RMSE Test Loss: 1.8907\n",
            "Epoch 9 of 15: RMSE Train Loss: 1.5022, RMSE Test Loss: 1.8986\n",
            "Epoch 10 of 15: RMSE Train Loss: 1.4865, RMSE Test Loss: 1.9012\n",
            "Epoch 11 of 15: RMSE Train Loss: 1.4729, RMSE Test Loss: 1.9038\n",
            "Epoch 12 of 15: RMSE Train Loss: 1.4602, RMSE Test Loss: 1.9046\n",
            "Epoch 13 of 15: RMSE Train Loss: 1.4468, RMSE Test Loss: 1.9152\n",
            "Epoch 14 of 15: RMSE Train Loss: 1.4346, RMSE Test Loss: 1.9213\n",
            "Epoch 15 of 15: RMSE Train Loss: 1.4230, RMSE Test Loss: 1.9218\n"
          ]
        },
        {
          "output_type": "display_data",
          "data": {
            "text/plain": [
              "<Figure size 640x480 with 1 Axes>"
            ],
            "image/png": "[encoded data removed]"
          },
          "metadata": {}
        }
      ]
    }
  ]
}
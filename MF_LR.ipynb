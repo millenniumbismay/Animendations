{
  "nbformat": 4,
  "nbformat_minor": 0,
  "metadata": {
    "colab": {
      "provenance": []
    },
    "kernelspec": {
      "name": "python3",
      "display_name": "Python 3"
    },
    "language_info": {
      "name": "python"
    }
  },
  "cells": [
    {
      "cell_type": "code",
      "execution_count": 3,
      "metadata": {
        "id": "X1zF7ewZ_lhH"
      },
      "outputs": [],
      "source": [
        "import pandas as pd\n",
        "import matplotlib.pyplot as plt\n",
        "import ast\n",
        "\n",
        "animes_data_path = \"preprocessed_animes.csv\"\n",
        "profiles_data_path = \"preprocessed_profiles.csv\"\n",
        "reviews_data_path = \"preprocessed_reviews.csv\""
      ]
    },
    {
      "cell_type": "code",
      "source": [
        "animes_data = pd.read_csv(animes_data_path)\n",
        "profiles_data = pd.read_csv(profiles_data_path)\n",
        "reviews_data = pd.read_csv(reviews_data_path, engine='python', sep=',', error_bad_lines=False)"
      ],
      "metadata": {
        "colab": {
          "base_uri": "https://localhost:8080/"
        },
        "id": "eAIo7-3u_sBs",
        "outputId": "c21024fb-566b-4acb-f8cc-bd3c757cf208"
      },
      "execution_count": 4,
      "outputs": [
        {
          "output_type": "stream",
          "name": "stderr",
          "text": [
            "<ipython-input-4-39739bd06a7d>:3: FutureWarning: The error_bad_lines argument has been deprecated and will be removed in a future version. Use on_bad_lines in the future.\n",
            "\n",
            "\n",
            "  reviews_data = pd.read_csv(reviews_data_path, engine='python', sep=',', error_bad_lines=False)\n"
          ]
        }
      ]
    },
    {
      "cell_type": "code",
      "source": [
        "animes = animes_data.copy()\n",
        "profiles = profiles_data.copy()\n",
        "reviews = reviews_data.copy()"
      ],
      "metadata": {
        "id": "8Ea16-ue_tTr"
      },
      "execution_count": 5,
      "outputs": []
    },
    {
      "cell_type": "code",
      "source": [
        "from scipy.sparse import coo_matrix\n",
        "import torch\n",
        "import torch.nn as nn\n",
        "import numpy as np\n",
        "\n",
        "np.random.seed(0)\n",
        "unique_AnimeID = reviews['anime_uid'].unique()\n",
        "unique_users = reviews['profile'].unique()\n",
        "j = 0\n",
        "user_old2new_id_dict = dict()\n",
        "for u in unique_users:\n",
        "    user_old2new_id_dict[u] = j\n",
        "    j += 1\n",
        "j = 0\n",
        "movie_old2new_id_dict = dict()\n",
        "for i in unique_AnimeID:\n",
        "    movie_old2new_id_dict[i] = j\n",
        "    j += 1\n",
        "    \n",
        "# Then, use the generated dictionaries to reindex UserID and MovieID in the data_df\n",
        "user_list = reviews['profile'].values\n",
        "movie_list = reviews['anime_uid'].values\n",
        "for j in range(len(reviews)):\n",
        "    user_list[j] = user_old2new_id_dict[user_list[j]]\n",
        "    movie_list[j] = movie_old2new_id_dict[movie_list[j]]\n",
        "reviews['profile'] = user_list\n",
        "reviews['anime_uid'] = movie_list\n",
        "\n",
        "# generate train_df with 70% samples and test_df with 30% samples, and there should have no overlap between them.\n",
        "train_index = np.random.random(len(reviews)) <= 0.7\n",
        "train_df = reviews[train_index]\n",
        "test_df = reviews[~train_index]\n",
        "\n",
        "# generate train_mat and test_mat\n",
        "num_user = len(reviews['profile'].unique())\n",
        "num_items = len(reviews['anime_uid'].unique())\n",
        "\n",
        "train_mat = coo_matrix((train_df['score'].values, (train_df['profile'].values, train_df['anime_uid'].values)), shape=(num_user, num_items)).astype(float).toarray()\n",
        "test_mat = coo_matrix((test_df['score'].values, (test_df['profile'].values, test_df['anime_uid'].values)), shape=(num_user, num_items)).astype(float).toarray()"
      ],
      "metadata": {
        "id": "hf8f2rd4_uwD"
      },
      "execution_count": 6,
      "outputs": []
    },
    {
      "cell_type": "markdown",
      "source": [
        "## Matrix Factorization using Funk's SVD"
      ],
      "metadata": {
        "id": "qrT-SYW14vux"
      }
    },
    {
      "cell_type": "code",
      "source": [
        "latent_factors = 30\n",
        "\n",
        "P = np.random.rand(num_user, latent_factors)\n",
        "Q = np.random.rand(latent_factors, num_items)\n",
        "\n",
        "a = 0.001\n",
        "b = 0.1\n",
        "train_loss = []\n",
        "test_loss = []\n",
        "nonzero_indices_train = np.nonzero(train_mat)\n",
        "nonzero_indices_test = np.nonzero(test_mat)\n",
        "\n",
        "num_epochs = 50\n",
        "for epoch in range(num_epochs):\n",
        "    for i in range(num_user):\n",
        "        for j in range(num_items):\n",
        "            if train_mat[i, j] > 0:\n",
        "                diff = train_mat[i, j] - np.dot(P[i, :], Q[:, j])\n",
        "                P[i, :] += a * (diff * Q[:, j] - b * P[i, :])\n",
        "                Q[:, j] += a * (diff * P[i, :] - b * Q[:, j])\n",
        "\n",
        "    predicted_matrix = np.dot(P, Q)\n",
        "    \n",
        "    rmse_train = np.sqrt(np.mean((predicted_matrix[nonzero_indices_train] - train_mat[nonzero_indices_train])**2))\n",
        "    rmse_test = np.sqrt(np.mean((predicted_matrix[nonzero_indices_test] - test_mat[nonzero_indices_test])**2))\n",
        "\n",
        "    train_loss.append(rmse_train)\n",
        "    test_loss.append(rmse_test)\n",
        "\n",
        "    print('Epoch', epoch + 1, 'of', num_epochs, end=': ')\n",
        "    print('RMSE Train Loss: {:.4f}'.format(rmse_train), end=', ')\n",
        "    print('RMSE Test Loss: {:.4f}'.format(rmse_test))"
      ],
      "metadata": {
        "colab": {
          "base_uri": "https://localhost:8080/"
        },
        "id": "BIzlMbxkWjI_",
        "outputId": "62f8aaf3-2c02-4e7d-d4a5-391914d83799"
      },
      "execution_count": 9,
      "outputs": [
        {
          "output_type": "stream",
          "name": "stdout",
          "text": [
            "Epoch 1 of 50: RMSE Train Loss: 2.2883, RMSE Test Loss: 2.3375\n",
            "Epoch 2 of 50: RMSE Train Loss: 2.1575, RMSE Test Loss: 2.2418\n",
            "Epoch 3 of 50: RMSE Train Loss: 2.0696, RMSE Test Loss: 2.1834\n",
            "Epoch 4 of 50: RMSE Train Loss: 2.0026, RMSE Test Loss: 2.1424\n",
            "Epoch 5 of 50: RMSE Train Loss: 1.9480, RMSE Test Loss: 2.1113\n",
            "Epoch 6 of 50: RMSE Train Loss: 1.9018, RMSE Test Loss: 2.0865\n",
            "Epoch 7 of 50: RMSE Train Loss: 1.8617, RMSE Test Loss: 2.0663\n",
            "Epoch 8 of 50: RMSE Train Loss: 1.8261, RMSE Test Loss: 2.0493\n",
            "Epoch 9 of 50: RMSE Train Loss: 1.7942, RMSE Test Loss: 2.0348\n",
            "Epoch 10 of 50: RMSE Train Loss: 1.7653, RMSE Test Loss: 2.0222\n",
            "Epoch 11 of 50: RMSE Train Loss: 1.7388, RMSE Test Loss: 2.0113\n",
            "Epoch 12 of 50: RMSE Train Loss: 1.7144, RMSE Test Loss: 2.0016\n",
            "Epoch 13 of 50: RMSE Train Loss: 1.6918, RMSE Test Loss: 1.9931\n",
            "Epoch 14 of 50: RMSE Train Loss: 1.6707, RMSE Test Loss: 1.9854\n",
            "Epoch 15 of 50: RMSE Train Loss: 1.6509, RMSE Test Loss: 1.9786\n",
            "Epoch 16 of 50: RMSE Train Loss: 1.6323, RMSE Test Loss: 1.9724\n",
            "Epoch 17 of 50: RMSE Train Loss: 1.6148, RMSE Test Loss: 1.9669\n",
            "Epoch 18 of 50: RMSE Train Loss: 1.5982, RMSE Test Loss: 1.9618\n",
            "Epoch 19 of 50: RMSE Train Loss: 1.5825, RMSE Test Loss: 1.9572\n",
            "Epoch 20 of 50: RMSE Train Loss: 1.5675, RMSE Test Loss: 1.9530\n",
            "Epoch 21 of 50: RMSE Train Loss: 1.5532, RMSE Test Loss: 1.9492\n",
            "Epoch 22 of 50: RMSE Train Loss: 1.5396, RMSE Test Loss: 1.9458\n",
            "Epoch 23 of 50: RMSE Train Loss: 1.5265, RMSE Test Loss: 1.9426\n",
            "Epoch 24 of 50: RMSE Train Loss: 1.5140, RMSE Test Loss: 1.9397\n",
            "Epoch 25 of 50: RMSE Train Loss: 1.5019, RMSE Test Loss: 1.9370\n",
            "Epoch 26 of 50: RMSE Train Loss: 1.4903, RMSE Test Loss: 1.9345\n",
            "Epoch 27 of 50: RMSE Train Loss: 1.4791, RMSE Test Loss: 1.9323\n",
            "Epoch 28 of 50: RMSE Train Loss: 1.4683, RMSE Test Loss: 1.9303\n",
            "Epoch 29 of 50: RMSE Train Loss: 1.4578, RMSE Test Loss: 1.9284\n",
            "Epoch 30 of 50: RMSE Train Loss: 1.4477, RMSE Test Loss: 1.9266\n",
            "Epoch 31 of 50: RMSE Train Loss: 1.4378, RMSE Test Loss: 1.9251\n",
            "Epoch 32 of 50: RMSE Train Loss: 1.4283, RMSE Test Loss: 1.9236\n",
            "Epoch 33 of 50: RMSE Train Loss: 1.4190, RMSE Test Loss: 1.9223\n",
            "Epoch 34 of 50: RMSE Train Loss: 1.4100, RMSE Test Loss: 1.9211\n",
            "Epoch 35 of 50: RMSE Train Loss: 1.4011, RMSE Test Loss: 1.9200\n",
            "Epoch 36 of 50: RMSE Train Loss: 1.3925, RMSE Test Loss: 1.9190\n",
            "Epoch 37 of 50: RMSE Train Loss: 1.3842, RMSE Test Loss: 1.9181\n",
            "Epoch 38 of 50: RMSE Train Loss: 1.3759, RMSE Test Loss: 1.9173\n",
            "Epoch 39 of 50: RMSE Train Loss: 1.3679, RMSE Test Loss: 1.9166\n",
            "Epoch 40 of 50: RMSE Train Loss: 1.3601, RMSE Test Loss: 1.9159\n",
            "Epoch 41 of 50: RMSE Train Loss: 1.3523, RMSE Test Loss: 1.9153\n",
            "Epoch 42 of 50: RMSE Train Loss: 1.3448, RMSE Test Loss: 1.9148\n",
            "Epoch 43 of 50: RMSE Train Loss: 1.3374, RMSE Test Loss: 1.9144\n",
            "Epoch 44 of 50: RMSE Train Loss: 1.3301, RMSE Test Loss: 1.9140\n",
            "Epoch 45 of 50: RMSE Train Loss: 1.3229, RMSE Test Loss: 1.9136\n",
            "Epoch 46 of 50: RMSE Train Loss: 1.3159, RMSE Test Loss: 1.9134\n",
            "Epoch 47 of 50: RMSE Train Loss: 1.3089, RMSE Test Loss: 1.9131\n",
            "Epoch 48 of 50: RMSE Train Loss: 1.3021, RMSE Test Loss: 1.9129\n",
            "Epoch 49 of 50: RMSE Train Loss: 1.2953, RMSE Test Loss: 1.9128\n",
            "Epoch 50 of 50: RMSE Train Loss: 1.2887, RMSE Test Loss: 1.9127\n"
          ]
        }
      ]
    },
    {
      "cell_type": "code",
      "source": [
        "import matplotlib.pyplot as plt\n",
        "x = [i + 1 for i in range(num_epochs)]\n",
        "plt.plot(x, train_loss, label='train_loss')\n",
        "plt.plot(x, test_loss, label='test_loss')\n",
        "leg = plt.legend(loc='upper center')\n",
        "plt.xticks([i + 1 for i in range(0, num_epochs, 2)]) \n",
        "plt.show()"
      ],
      "metadata": {
        "colab": {
          "base_uri": "https://localhost:8080/",
          "height": 430
        },
        "id": "ujw0oM5gZxSM",
        "outputId": "af0a978d-07ed-4619-83f0-fc6d5ea96bb5"
      },
      "execution_count": 10,
      "outputs": [
        {
          "output_type": "display_data",
          "data": {
            "text/plain": [
              "<Figure size 640x480 with 1 Axes>"
            ],
            "image/png": "[encoded data removed]"
          },
          "metadata": {}
        }
      ]
    },
    {
      "cell_type": "markdown",
      "source": [
        "## Linear Regression Model"
      ],
      "metadata": {
        "id": "jYTYzFmY4kuF"
      }
    },
    {
      "cell_type": "code",
      "source": [
        "from sklearn.feature_extraction import DictVectorizer\n",
        "from sklearn.linear_model import LinearRegression\n",
        "from sklearn.metrics import mean_squared_error\n",
        "\n",
        "# Define the feature matrix as a dictionary of user-item pairs\n",
        "indices_train = np.argwhere(train_mat > 0)\n",
        "indices_test = np.argwhere(test_mat > 0)\n",
        "\n",
        "interactions_train = []\n",
        "mf_mat = np.dot(P, Q)\n",
        "scores_train = []\n",
        "for index in indices_train:\n",
        "  interactions_train.append({'user': index[0], 'item': index[1]})\n",
        "  scores_train.append(train_mat[index[0], index[1]])\n",
        "\n",
        "interactions_test = []\n",
        "scores_test = []\n",
        "mf_pred = []\n",
        "for index in indices_test:\n",
        "  interactions_test.append({'user': index[0], 'item': index[1]})\n",
        "  scores_test.append(test_mat[index[0], index[1]])\n",
        "  mf_pred.append(mf_mat[index[0], index[1]])\n",
        "\n",
        "vectorizer = DictVectorizer()\n",
        "interactions_train = vectorizer.fit_transform(interactions_train)\n",
        "interactions_test = vectorizer.fit_transform(interactions_test)\n",
        "lr = LinearRegression()\n",
        "lr.fit(interactions_train.toarray(), scores_train)\n",
        "\n",
        "# Get the linear regression model's predictions for the feature matrix\n",
        "lr_predictions = lr.predict(interactions_test)\n",
        "rmse_lr = np.sqrt(mean_squared_error(scores_test, lr_predictions))\n",
        "print(rmse_lr)"
      ],
      "metadata": {
        "colab": {
          "base_uri": "https://localhost:8080/"
        },
        "id": "FYtI2wGfjWEC",
        "outputId": "28856ce4-5a65-47d6-c5a5-55c2de3b469b"
      },
      "execution_count": 11,
      "outputs": [
        {
          "output_type": "stream",
          "name": "stdout",
          "text": [
            "2.178165688752422\n"
          ]
        }
      ]
    },
    {
      "cell_type": "markdown",
      "source": [
        "## Ensemble Prediction (Linear Regression + Matrix Factorization)"
      ],
      "metadata": {
        "id": "Mf-Kl9M14opf"
      }
    },
    {
      "cell_type": "code",
      "source": [
        "test_predictions = 0.75 * np.array(mf_pred) + 0.25 * lr_predictions\n",
        "\n",
        "# Combine the predictions from the Factorization Machines and linear regression models using weighted averaging\n",
        "rmse_ensemble = np.sqrt(mean_squared_error(scores_test, test_predictions))\n",
        "print(rmse_ensemble)"
      ],
      "metadata": {
        "colab": {
          "base_uri": "https://localhost:8080/"
        },
        "id": "N3NOUBbgwkfT",
        "outputId": "8a968532-b31b-4a6b-9bff-8028d5a14e42"
      },
      "execution_count": 12,
      "outputs": [
        {
          "output_type": "stream",
          "name": "stdout",
          "text": [
            "1.8868089557245311\n"
          ]
        }
      ]
    }
  ]
}
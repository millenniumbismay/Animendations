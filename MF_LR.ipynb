{
  "nbformat": 4,
  "nbformat_minor": 0,
  "metadata": {
    "colab": {
      "provenance": []
    },
    "kernelspec": {
      "name": "python3",
      "display_name": "Python 3"
    },
    "language_info": {
      "name": "python"
    }
  },
  "cells": [
    {
      "cell_type": "code",
      "execution_count": 1,
      "metadata": {
        "id": "X1zF7ewZ_lhH"
      },
      "outputs": [],
      "source": [
        "import pandas as pd\n",
        "import matplotlib.pyplot as plt\n",
        "import ast\n",
        "\n",
        "animes_data_path = \"preprocessed_animes.csv\"\n",
        "profiles_data_path = \"preprocessed_profiles.csv\"\n",
        "reviews_data_path = \"preprocessed_reviews.csv\""
      ]
    },
    {
      "cell_type": "code",
      "source": [
        "animes_data = pd.read_csv(animes_data_path)\n",
        "profiles_data = pd.read_csv(profiles_data_path)\n",
        "reviews_data = pd.read_csv(reviews_data_path, engine='python', sep=',', error_bad_lines=False)"
      ],
      "metadata": {
        "colab": {
          "base_uri": "https://localhost:8080/"
        },
        "id": "eAIo7-3u_sBs",
        "outputId": "74a21cc4-efb1-457f-d673-f8045077fca1"
      },
      "execution_count": 2,
      "outputs": [
        {
          "output_type": "stream",
          "name": "stderr",
          "text": [
            "<ipython-input-2-39739bd06a7d>:3: FutureWarning: The error_bad_lines argument has been deprecated and will be removed in a future version. Use on_bad_lines in the future.\n",
            "\n",
            "\n",
            "  reviews_data = pd.read_csv(reviews_data_path, engine='python', sep=',', error_bad_lines=False)\n"
          ]
        }
      ]
    },
    {
      "cell_type": "code",
      "source": [
        "animes = animes_data.copy()\n",
        "profiles = profiles_data.copy()\n",
        "reviews = reviews_data.copy()"
      ],
      "metadata": {
        "id": "8Ea16-ue_tTr"
      },
      "execution_count": 3,
      "outputs": []
    },
    {
      "cell_type": "code",
      "source": [
        "from scipy.sparse import coo_matrix\n",
        "import torch\n",
        "import torch.nn as nn\n",
        "import numpy as np\n",
        "\n",
        "np.random.seed(0)\n",
        "unique_AnimeID = reviews['anime_uid'].unique()\n",
        "unique_users = reviews['profile'].unique()\n",
        "j = 0\n",
        "user_old2new_id_dict = dict()\n",
        "for u in unique_users:\n",
        "    user_old2new_id_dict[u] = j\n",
        "    j += 1\n",
        "j = 0\n",
        "movie_old2new_id_dict = dict()\n",
        "for i in unique_AnimeID:\n",
        "    movie_old2new_id_dict[i] = j\n",
        "    j += 1\n",
        "    \n",
        "# Then, use the generated dictionaries to reindex UserID and MovieID in the data_df\n",
        "user_list = reviews['profile'].values\n",
        "movie_list = reviews['anime_uid'].values\n",
        "for j in range(len(reviews)):\n",
        "    user_list[j] = user_old2new_id_dict[user_list[j]]\n",
        "    movie_list[j] = movie_old2new_id_dict[movie_list[j]]\n",
        "reviews['profile'] = user_list\n",
        "reviews['anime_uid'] = movie_list\n",
        "\n",
        "# generate train_df with 70% samples and test_df with 30% samples, and there should have no overlap between them.\n",
        "train_index = np.random.random(len(reviews)) <= 0.7\n",
        "train_df = reviews[train_index]\n",
        "test_df = reviews[~train_index]\n",
        "\n",
        "# generate train_mat and test_mat\n",
        "num_user = len(reviews['profile'].unique())\n",
        "num_items = len(reviews['anime_uid'].unique())\n",
        "\n",
        "train_mat = coo_matrix((train_df['score'].values, (train_df['profile'].values, train_df['anime_uid'].values)), shape=(num_user, num_items)).astype(float).toarray()\n",
        "test_mat = coo_matrix((test_df['score'].values, (test_df['profile'].values, test_df['anime_uid'].values)), shape=(num_user, num_items)).astype(float).toarray()"
      ],
      "metadata": {
        "id": "hf8f2rd4_uwD"
      },
      "execution_count": 4,
      "outputs": []
    },
    {
      "cell_type": "markdown",
      "source": [
        "## Matrix Factorization using Funk's SVD"
      ],
      "metadata": {
        "id": "qrT-SYW14vux"
      }
    },
    {
      "cell_type": "code",
      "source": [
        "latent_factors = 30\n",
        "\n",
        "P = np.random.rand(num_user, latent_factors)\n",
        "Q = np.random.rand(latent_factors, num_items)\n",
        "\n",
        "a = 0.001\n",
        "b = 0.1\n",
        "train_loss = []\n",
        "test_loss = []\n",
        "nonzero_indices_train = np.nonzero(train_mat)\n",
        "nonzero_indices_test = np.nonzero(test_mat)\n",
        "\n",
        "num_epochs = 70\n",
        "for epoch in range(num_epochs):\n",
        "    for i in range(num_user):\n",
        "        for j in range(num_items):\n",
        "            if train_mat[i, j] > 0:\n",
        "                diff = train_mat[i, j] - np.dot(P[i, :], Q[:, j])\n",
        "                P[i, :] += a * (diff * Q[:, j] - b * P[i, :])\n",
        "                Q[:, j] += a * (diff * P[i, :] - b * Q[:, j])\n",
        "\n",
        "    predicted_matrix = np.dot(P, Q)\n",
        "    \n",
        "    rmse_train = np.sqrt(np.mean((predicted_matrix[nonzero_indices_train] - train_mat[nonzero_indices_train])**2))\n",
        "    rmse_test = np.sqrt(np.mean((predicted_matrix[nonzero_indices_test] - test_mat[nonzero_indices_test])**2))\n",
        "\n",
        "    train_loss.append(rmse_train)\n",
        "    test_loss.append(rmse_test)\n",
        "\n",
        "    print('Epoch', epoch + 1, 'of', num_epochs, end=': ')\n",
        "    print('RMSE Train Loss: {:.4f}'.format(rmse_train), end=', ')\n",
        "    print('RMSE Test Loss: {:.4f}'.format(rmse_test))"
      ],
      "metadata": {
        "colab": {
          "base_uri": "https://localhost:8080/"
        },
        "id": "BIzlMbxkWjI_",
        "outputId": "6b9e932d-540e-4b27-d14e-739cbe256d55"
      },
      "execution_count": 5,
      "outputs": [
        {
          "output_type": "stream",
          "name": "stdout",
          "text": [
            "Epoch 1 of 70: RMSE Train Loss: 2.2835, RMSE Test Loss: 2.3279\n",
            "Epoch 2 of 70: RMSE Train Loss: 2.1527, RMSE Test Loss: 2.2324\n",
            "Epoch 3 of 70: RMSE Train Loss: 2.0645, RMSE Test Loss: 2.1740\n",
            "Epoch 4 of 70: RMSE Train Loss: 1.9973, RMSE Test Loss: 2.1331\n",
            "Epoch 5 of 70: RMSE Train Loss: 1.9427, RMSE Test Loss: 2.1021\n",
            "Epoch 6 of 70: RMSE Train Loss: 1.8964, RMSE Test Loss: 2.0775\n",
            "Epoch 7 of 70: RMSE Train Loss: 1.8562, RMSE Test Loss: 2.0574\n",
            "Epoch 8 of 70: RMSE Train Loss: 1.8206, RMSE Test Loss: 2.0405\n",
            "Epoch 9 of 70: RMSE Train Loss: 1.7887, RMSE Test Loss: 2.0260\n",
            "Epoch 10 of 70: RMSE Train Loss: 1.7597, RMSE Test Loss: 2.0135\n",
            "Epoch 11 of 70: RMSE Train Loss: 1.7332, RMSE Test Loss: 2.0026\n",
            "Epoch 12 of 70: RMSE Train Loss: 1.7087, RMSE Test Loss: 1.9930\n",
            "Epoch 13 of 70: RMSE Train Loss: 1.6860, RMSE Test Loss: 1.9845\n",
            "Epoch 14 of 70: RMSE Train Loss: 1.6649, RMSE Test Loss: 1.9769\n",
            "Epoch 15 of 70: RMSE Train Loss: 1.6451, RMSE Test Loss: 1.9701\n",
            "Epoch 16 of 70: RMSE Train Loss: 1.6265, RMSE Test Loss: 1.9640\n",
            "Epoch 17 of 70: RMSE Train Loss: 1.6090, RMSE Test Loss: 1.9585\n",
            "Epoch 18 of 70: RMSE Train Loss: 1.5924, RMSE Test Loss: 1.9534\n",
            "Epoch 19 of 70: RMSE Train Loss: 1.5767, RMSE Test Loss: 1.9489\n",
            "Epoch 20 of 70: RMSE Train Loss: 1.5617, RMSE Test Loss: 1.9448\n",
            "Epoch 21 of 70: RMSE Train Loss: 1.5474, RMSE Test Loss: 1.9410\n",
            "Epoch 22 of 70: RMSE Train Loss: 1.5338, RMSE Test Loss: 1.9376\n",
            "Epoch 23 of 70: RMSE Train Loss: 1.5207, RMSE Test Loss: 1.9344\n",
            "Epoch 24 of 70: RMSE Train Loss: 1.5082, RMSE Test Loss: 1.9316\n",
            "Epoch 25 of 70: RMSE Train Loss: 1.4961, RMSE Test Loss: 1.9289\n",
            "Epoch 26 of 70: RMSE Train Loss: 1.4845, RMSE Test Loss: 1.9265\n",
            "Epoch 27 of 70: RMSE Train Loss: 1.4733, RMSE Test Loss: 1.9243\n",
            "Epoch 28 of 70: RMSE Train Loss: 1.4625, RMSE Test Loss: 1.9223\n",
            "Epoch 29 of 70: RMSE Train Loss: 1.4520, RMSE Test Loss: 1.9205\n",
            "Epoch 30 of 70: RMSE Train Loss: 1.4419, RMSE Test Loss: 1.9188\n",
            "Epoch 31 of 70: RMSE Train Loss: 1.4321, RMSE Test Loss: 1.9173\n",
            "Epoch 32 of 70: RMSE Train Loss: 1.4225, RMSE Test Loss: 1.9159\n",
            "Epoch 33 of 70: RMSE Train Loss: 1.4132, RMSE Test Loss: 1.9146\n",
            "Epoch 34 of 70: RMSE Train Loss: 1.4042, RMSE Test Loss: 1.9134\n",
            "Epoch 35 of 70: RMSE Train Loss: 1.3954, RMSE Test Loss: 1.9123\n",
            "Epoch 36 of 70: RMSE Train Loss: 1.3868, RMSE Test Loss: 1.9114\n",
            "Epoch 37 of 70: RMSE Train Loss: 1.3784, RMSE Test Loss: 1.9105\n",
            "Epoch 38 of 70: RMSE Train Loss: 1.3702, RMSE Test Loss: 1.9097\n",
            "Epoch 39 of 70: RMSE Train Loss: 1.3621, RMSE Test Loss: 1.9090\n",
            "Epoch 40 of 70: RMSE Train Loss: 1.3542, RMSE Test Loss: 1.9084\n",
            "Epoch 41 of 70: RMSE Train Loss: 1.3465, RMSE Test Loss: 1.9078\n",
            "Epoch 42 of 70: RMSE Train Loss: 1.3390, RMSE Test Loss: 1.9073\n",
            "Epoch 43 of 70: RMSE Train Loss: 1.3315, RMSE Test Loss: 1.9069\n",
            "Epoch 44 of 70: RMSE Train Loss: 1.3242, RMSE Test Loss: 1.9065\n",
            "Epoch 45 of 70: RMSE Train Loss: 1.3170, RMSE Test Loss: 1.9062\n",
            "Epoch 46 of 70: RMSE Train Loss: 1.3100, RMSE Test Loss: 1.9060\n",
            "Epoch 47 of 70: RMSE Train Loss: 1.3030, RMSE Test Loss: 1.9057\n",
            "Epoch 48 of 70: RMSE Train Loss: 1.2962, RMSE Test Loss: 1.9055\n",
            "Epoch 49 of 70: RMSE Train Loss: 1.2894, RMSE Test Loss: 1.9054\n",
            "Epoch 50 of 70: RMSE Train Loss: 1.2827, RMSE Test Loss: 1.9053\n",
            "Epoch 51 of 70: RMSE Train Loss: 1.2762, RMSE Test Loss: 1.9053\n",
            "Epoch 52 of 70: RMSE Train Loss: 1.2697, RMSE Test Loss: 1.9052\n",
            "Epoch 53 of 70: RMSE Train Loss: 1.2632, RMSE Test Loss: 1.9052\n",
            "Epoch 54 of 70: RMSE Train Loss: 1.2569, RMSE Test Loss: 1.9053\n",
            "Epoch 55 of 70: RMSE Train Loss: 1.2506, RMSE Test Loss: 1.9054\n",
            "Epoch 56 of 70: RMSE Train Loss: 1.2444, RMSE Test Loss: 1.9055\n",
            "Epoch 57 of 70: RMSE Train Loss: 1.2383, RMSE Test Loss: 1.9056\n",
            "Epoch 58 of 70: RMSE Train Loss: 1.2322, RMSE Test Loss: 1.9057\n",
            "Epoch 59 of 70: RMSE Train Loss: 1.2261, RMSE Test Loss: 1.9059\n",
            "Epoch 60 of 70: RMSE Train Loss: 1.2202, RMSE Test Loss: 1.9061\n",
            "Epoch 61 of 70: RMSE Train Loss: 1.2142, RMSE Test Loss: 1.9063\n",
            "Epoch 62 of 70: RMSE Train Loss: 1.2084, RMSE Test Loss: 1.9065\n",
            "Epoch 63 of 70: RMSE Train Loss: 1.2026, RMSE Test Loss: 1.9068\n",
            "Epoch 64 of 70: RMSE Train Loss: 1.1968, RMSE Test Loss: 1.9071\n",
            "Epoch 65 of 70: RMSE Train Loss: 1.1911, RMSE Test Loss: 1.9074\n",
            "Epoch 66 of 70: RMSE Train Loss: 1.1854, RMSE Test Loss: 1.9077\n",
            "Epoch 67 of 70: RMSE Train Loss: 1.1797, RMSE Test Loss: 1.9080\n",
            "Epoch 68 of 70: RMSE Train Loss: 1.1741, RMSE Test Loss: 1.9083\n",
            "Epoch 69 of 70: RMSE Train Loss: 1.1686, RMSE Test Loss: 1.9087\n",
            "Epoch 70 of 70: RMSE Train Loss: 1.1630, RMSE Test Loss: 1.9090\n"
          ]
        }
      ]
    },
    {
      "cell_type": "code",
      "source": [
        "import matplotlib.pyplot as plt\n",
        "x = [i + 1 for i in range(num_epochs)]\n",
        "plt.plot(x, train_loss, label='train_loss')\n",
        "plt.plot(x, test_loss, label='test_loss')\n",
        "leg = plt.legend(loc='upper center')\n",
        "plt.xticks([i + 1 for i in range(0, num_epochs, 5)]) \n",
        "plt.show()"
      ],
      "metadata": {
        "colab": {
          "base_uri": "https://localhost:8080/",
          "height": 430
        },
        "id": "ujw0oM5gZxSM",
        "outputId": "4a52810a-b4bf-4b8d-df38-0e81df4fc76e"
      },
      "execution_count": 7,
      "outputs": [
        {
          "output_type": "display_data",
          "data": {
            "text/plain": [
              "<Figure size 640x480 with 1 Axes>"
            ],
            "image/png": "[encoded data removed]"
          },
          "metadata": {}
        }
      ]
    },
    {
      "cell_type": "markdown",
      "source": [
        "## Linear Regression Model"
      ],
      "metadata": {
        "id": "jYTYzFmY4kuF"
      }
    },
    {
      "cell_type": "code",
      "source": [
        "from sklearn.feature_extraction import DictVectorizer\n",
        "from sklearn.linear_model import LinearRegression\n",
        "from sklearn.metrics import mean_squared_error\n",
        "\n",
        "# Define the feature matrix as a dictionary of user-item pairs\n",
        "indices_train = np.argwhere(train_mat > 0)\n",
        "indices_test = np.argwhere(test_mat > 0)\n",
        "\n",
        "interactions_train = []\n",
        "mf_mat = np.dot(P, Q)\n",
        "scores_train = []\n",
        "for index in indices_train:\n",
        "  interactions_train.append({'user': index[0], 'item': index[1]})\n",
        "  scores_train.append(train_mat[index[0], index[1]])\n",
        "\n",
        "interactions_test = []\n",
        "scores_test = []\n",
        "mf_pred = []\n",
        "for index in indices_test:\n",
        "  interactions_test.append({'user': index[0], 'item': index[1]})\n",
        "  scores_test.append(test_mat[index[0], index[1]])\n",
        "  mf_pred.append(mf_mat[index[0], index[1]])\n",
        "\n",
        "vectorizer = DictVectorizer()\n",
        "interactions_train = vectorizer.fit_transform(interactions_train)\n",
        "interactions_test = vectorizer.fit_transform(interactions_test)\n",
        "lr = LinearRegression()\n",
        "lr.fit(interactions_train.toarray(), scores_train)\n",
        "\n",
        "# Get the linear regression model's predictions for the feature matrix\n",
        "lr_predictions = lr.predict(interactions_test)\n",
        "rmse_lr = np.sqrt(mean_squared_error(scores_test, lr_predictions))\n",
        "print(rmse_lr)"
      ],
      "metadata": {
        "colab": {
          "base_uri": "https://localhost:8080/"
        },
        "id": "FYtI2wGfjWEC",
        "outputId": "dbb3a286-0d0e-454d-db27-e3f275cf5492"
      },
      "execution_count": 8,
      "outputs": [
        {
          "output_type": "stream",
          "name": "stdout",
          "text": [
            "2.178165688752422\n"
          ]
        }
      ]
    }
  ]
}
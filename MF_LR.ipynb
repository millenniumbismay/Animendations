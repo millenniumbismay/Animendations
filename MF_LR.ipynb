{
  "nbformat": 4,
  "nbformat_minor": 0,
  "metadata": {
    "colab": {
      "provenance": []
    },
    "kernelspec": {
      "name": "python3",
      "display_name": "Python 3"
    },
    "language_info": {
      "name": "python"
    }
  },
  "cells": [
    {
      "cell_type": "code",
      "execution_count": null,
      "metadata": {
        "id": "X1zF7ewZ_lhH"
      },
      "outputs": [],
      "source": [
        "import pandas as pd\n",
        "import matplotlib.pyplot as plt\n",
        "import ast\n",
        "\n",
        "animes_data_path = \"./preprocessed_data/preprocessed_animes.csv\"\n",
        "profiles_data_path = \"./preprocessed_data/preprocessed_profiles.csv\"\n",
        "reviews_data_path = \"./preprocessed_data/preprocessed_reviews.csv\""
      ]
    },
    {
      "cell_type": "code",
      "source": [
        "animes_data = pd.read_csv(animes_data_path)\n",
        "profiles_data = pd.read_csv(profiles_data_path)\n",
        "reviews_data = pd.read_csv(reviews_data_path, engine='python', sep=',', error_bad_lines=False)"
      ],
      "metadata": {
        "colab": {
          "base_uri": "https://localhost:8080/"
        },
        "id": "eAIo7-3u_sBs",
        "outputId": "4f36ce71-2a37-4aa6-a211-fcd9652b70f2"
      },
      "execution_count": null,
      "outputs": [
        {
          "output_type": "stream",
          "name": "stderr",
          "text": [
            "<ipython-input-4-39739bd06a7d>:3: FutureWarning: The error_bad_lines argument has been deprecated and will be removed in a future version. Use on_bad_lines in the future.\n",
            "\n",
            "\n",
            "  reviews_data = pd.read_csv(reviews_data_path, engine='python', sep=',', error_bad_lines=False)\n"
          ]
        }
      ]
    },
    {
      "cell_type": "code",
      "source": [
        "animes = animes_data.copy()\n",
        "profiles = profiles_data.copy()\n",
        "reviews = reviews_data.copy()"
      ],
      "metadata": {
        "id": "8Ea16-ue_tTr"
      },
      "execution_count": null,
      "outputs": []
    },
    {
      "cell_type": "code",
      "source": [
        "from scipy.sparse import coo_matrix\n",
        "import torch\n",
        "import torch.nn as nn\n",
        "import numpy as np\n",
        "\n",
        "np.random.seed(0)\n",
        "unique_AnimeID = reviews['anime_uid'].unique()\n",
        "unique_users = reviews['profile'].unique()\n",
        "j = 0\n",
        "user_old2new_id_dict = dict()\n",
        "for u in unique_users:\n",
        "    user_old2new_id_dict[u] = j\n",
        "    j += 1\n",
        "j = 0\n",
        "movie_old2new_id_dict = dict()\n",
        "for i in unique_AnimeID:\n",
        "    movie_old2new_id_dict[i] = j\n",
        "    j += 1\n",
        "    \n",
        "# Then, use the generated dictionaries to reindex UserID and MovieID in the data_df\n",
        "user_list = reviews['profile'].values\n",
        "movie_list = reviews['anime_uid'].values\n",
        "for j in range(len(reviews)):\n",
        "    user_list[j] = user_old2new_id_dict[user_list[j]]\n",
        "    movie_list[j] = movie_old2new_id_dict[movie_list[j]]\n",
        "reviews['profile'] = user_list\n",
        "reviews['anime_uid'] = movie_list\n",
        "\n",
        "# generate train_df with 70% samples and test_df with 30% samples, and there should have no overlap between them.\n",
        "train_index = np.random.random(len(reviews)) <= 0.7\n",
        "train_df = reviews[train_index]\n",
        "test_df = reviews[~train_index]\n",
        "\n",
        "# generate train_mat and test_mat\n",
        "num_user = len(reviews['profile'].unique())\n",
        "num_items = len(reviews['anime_uid'].unique())\n",
        "\n",
        "train_mat = coo_matrix((train_df['score'].values, (train_df['profile'].values, train_df['anime_uid'].values)), shape=(num_user, num_items)).astype(float).toarray()\n",
        "test_mat = coo_matrix((test_df['score'].values, (test_df['profile'].values, test_df['anime_uid'].values)), shape=(num_user, num_items)).astype(float).toarray()"
      ],
      "metadata": {
        "id": "hf8f2rd4_uwD"
      },
      "execution_count": null,
      "outputs": []
    },
    {
      "cell_type": "markdown",
      "source": [
        "## Matrix Factorization using Funk's SVD"
      ],
      "metadata": {
        "id": "qrT-SYW14vux"
      }
    },
    {
      "cell_type": "code",
      "source": [
        "latent_factors = 30\n",
        "\n",
        "P = np.random.rand(num_user, latent_factors)\n",
        "Q = np.random.rand(latent_factors, num_items)\n",
        "\n",
        "a = 0.001\n",
        "b = 0.1\n",
        "train_loss = []\n",
        "test_loss = []\n",
        "nonzero_indices_train = np.nonzero(train_mat)\n",
        "nonzero_indices_test = np.nonzero(test_mat)\n",
        "\n",
        "num_epochs = 30\n",
        "for epoch in range(num_epochs):\n",
        "    for i in range(num_user):\n",
        "        for j in range(num_items):\n",
        "            if train_mat[i, j] > 0:\n",
        "                diff = train_mat[i, j] - np.dot(P[i, :], Q[:, j])\n",
        "                P[i, :] += a * (diff * Q[:, j] - b * P[i, :])\n",
        "                Q[:, j] += a * (diff * P[i, :] - b * Q[:, j])\n",
        "\n",
        "    predicted_matrix = np.dot(P, Q)\n",
        "    \n",
        "    rmse_train = np.sqrt(np.mean((predicted_matrix[nonzero_indices_train] - train_mat[nonzero_indices_train])**2))\n",
        "    rmse_test = np.sqrt(np.mean((predicted_matrix[nonzero_indices_test] - test_mat[nonzero_indices_test])**2))\n",
        "\n",
        "    train_loss.append(rmse_train)\n",
        "    test_loss.append(rmse_test)\n",
        "\n",
        "    print('Epoch', epoch + 1, 'of', num_epochs, end=': ')\n",
        "    print('RMSE Train Loss: {:.4f}'.format(rmse_train), end=', ')\n",
        "    print('RMSE Test Loss: {:.4f}'.format(rmse_test))"
      ],
      "metadata": {
        "colab": {
          "base_uri": "https://localhost:8080/"
        },
        "id": "BIzlMbxkWjI_",
        "outputId": "fa5172da-a2ea-4818-e8e1-e912dacd9217"
      },
      "execution_count": null,
      "outputs": [
        {
          "output_type": "stream",
          "name": "stdout",
          "text": [
            "Epoch 1 of 30: RMSE Train Loss: 2.2839, RMSE Test Loss: 2.3163\n",
            "Epoch 2 of 30: RMSE Train Loss: 2.1538, RMSE Test Loss: 2.2215\n",
            "Epoch 3 of 30: RMSE Train Loss: 2.0660, RMSE Test Loss: 2.1637\n",
            "Epoch 4 of 30: RMSE Train Loss: 1.9990, RMSE Test Loss: 2.1233\n",
            "Epoch 5 of 30: RMSE Train Loss: 1.9446, RMSE Test Loss: 2.0930\n",
            "Epoch 6 of 30: RMSE Train Loss: 1.8985, RMSE Test Loss: 2.0690\n",
            "Epoch 7 of 30: RMSE Train Loss: 1.8584, RMSE Test Loss: 2.0493\n",
            "Epoch 8 of 30: RMSE Train Loss: 1.8230, RMSE Test Loss: 2.0329\n",
            "Epoch 9 of 30: RMSE Train Loss: 1.7912, RMSE Test Loss: 2.0189\n",
            "Epoch 10 of 30: RMSE Train Loss: 1.7623, RMSE Test Loss: 2.0069\n",
            "Epoch 11 of 30: RMSE Train Loss: 1.7359, RMSE Test Loss: 1.9963\n",
            "Epoch 12 of 30: RMSE Train Loss: 1.7115, RMSE Test Loss: 1.9871\n",
            "Epoch 13 of 30: RMSE Train Loss: 1.6890, RMSE Test Loss: 1.9788\n",
            "Epoch 14 of 30: RMSE Train Loss: 1.6679, RMSE Test Loss: 1.9715\n",
            "Epoch 15 of 30: RMSE Train Loss: 1.6482, RMSE Test Loss: 1.9649\n",
            "Epoch 16 of 30: RMSE Train Loss: 1.6297, RMSE Test Loss: 1.9590\n",
            "Epoch 17 of 30: RMSE Train Loss: 1.6122, RMSE Test Loss: 1.9537\n",
            "Epoch 18 of 30: RMSE Train Loss: 1.5957, RMSE Test Loss: 1.9489\n",
            "Epoch 19 of 30: RMSE Train Loss: 1.5800, RMSE Test Loss: 1.9445\n",
            "Epoch 20 of 30: RMSE Train Loss: 1.5651, RMSE Test Loss: 1.9405\n",
            "Epoch 21 of 30: RMSE Train Loss: 1.5508, RMSE Test Loss: 1.9369\n",
            "Epoch 22 of 30: RMSE Train Loss: 1.5372, RMSE Test Loss: 1.9336\n",
            "Epoch 23 of 30: RMSE Train Loss: 1.5242, RMSE Test Loss: 1.9305\n",
            "Epoch 24 of 30: RMSE Train Loss: 1.5117, RMSE Test Loss: 1.9278\n",
            "Epoch 25 of 30: RMSE Train Loss: 1.4997, RMSE Test Loss: 1.9253\n",
            "Epoch 26 of 30: RMSE Train Loss: 1.4881, RMSE Test Loss: 1.9229\n",
            "Epoch 27 of 30: RMSE Train Loss: 1.4769, RMSE Test Loss: 1.9208\n",
            "Epoch 28 of 30: RMSE Train Loss: 1.4661, RMSE Test Loss: 1.9189\n",
            "Epoch 29 of 30: RMSE Train Loss: 1.4557, RMSE Test Loss: 1.9171\n",
            "Epoch 30 of 30: RMSE Train Loss: 1.4456, RMSE Test Loss: 1.9155\n"
          ]
        }
      ]
    },
    {
      "cell_type": "code",
      "source": [
        "import matplotlib.pyplot as plt\n",
        "x = [i + 1 for i in range(num_epochs)]\n",
        "plt.plot(x, train_loss, label='train_loss')\n",
        "plt.plot(x, test_loss, label='test_loss')\n",
        "leg = plt.legend(loc='upper center')\n",
        "plt.xticks([i + 1 for i in range(0, num_epochs, 2)]) \n",
        "plt.show()"
      ],
      "metadata": {
        "colab": {
          "base_uri": "https://localhost:8080/",
          "height": 430
        },
        "id": "ujw0oM5gZxSM",
        "outputId": "2effc9fc-e746-4985-f952-154447478a97"
      },
      "execution_count": null,
      "outputs": [
        {
          "output_type": "display_data",
          "data": {
            "text/plain": [
              "<Figure size 640x480 with 1 Axes>"
            ],
            "image/png": "[encoded data removed]"
          },
          "metadata": {}
        }
      ]
    },
    {
      "cell_type": "markdown",
      "source": [
        "## Linear Regression Model"
      ],
      "metadata": {
        "id": "jYTYzFmY4kuF"
      }
    },
    {
      "cell_type": "code",
      "source": [
        "from sklearn.feature_extraction import DictVectorizer\n",
        "from sklearn.linear_model import LinearRegression\n",
        "from sklearn.metrics import mean_squared_error\n",
        "\n",
        "# Define the feature matrix as a dictionary of user-item pairs\n",
        "indices_train = np.argwhere(train_mat > 0)\n",
        "indices_test = np.argwhere(test_mat > 0)\n",
        "\n",
        "interactions_train = []\n",
        "mf_mat = np.dot(P, Q)\n",
        "scores_train = []\n",
        "for index in indices_train:\n",
        "  interactions_train.append({'user': index[0], 'item': index[1]})\n",
        "  scores_train.append(train_mat[index[0], index[1]])\n",
        "\n",
        "interactions_test = []\n",
        "scores_test = []\n",
        "mf_pred = []\n",
        "for index in indices_test:\n",
        "  interactions_test.append({'user': index[0], 'item': index[1]})\n",
        "  scores_test.append(test_mat[index[0], index[1]])\n",
        "  mf_pred.append(mf_mat[index[0], index[1]])\n",
        "\n",
        "vectorizer = DictVectorizer()\n",
        "interactions_train = vectorizer.fit_transform(interactions_train)\n",
        "interactions_test = vectorizer.fit_transform(interactions_test)\n",
        "lr = LinearRegression()\n",
        "lr.fit(interactions_train.toarray(), scores_train)\n",
        "\n",
        "# Get the linear regression model's predictions for the feature matrix\n",
        "lr_predictions = lr.predict(interactions_test)\n",
        "rmse_lr = np.sqrt(mean_squared_error(scores_test, lr_predictions))\n",
        "print(rmse_lr)"
      ],
      "metadata": {
        "colab": {
          "base_uri": "https://localhost:8080/"
        },
        "id": "FYtI2wGfjWEC",
        "outputId": "e059233a-d3d6-4acc-8309-e1198a3924f4"
      },
      "execution_count": null,
      "outputs": [
        {
          "output_type": "stream",
          "name": "stdout",
          "text": [
            "2.178165688752422\n"
          ]
        }
      ]
    },
    {
      "cell_type": "markdown",
      "source": [
        "## Ensemble Prediction (Linear Regression + Matrix Factorization)"
      ],
      "metadata": {
        "id": "Mf-Kl9M14opf"
      }
    },
    {
      "cell_type": "code",
      "source": [
        "test_predictions = 0.75 * np.array(mf_pred) + 0.25 * lr_predictions\n",
        "\n",
        "# Combine the predictions from the Matrix Factorization model and linear regression models using weighted averaging\n",
        "rmse_ensemble = np.sqrt(mean_squared_error(scores_test, test_predictions))\n",
        "print(rmse_ensemble)"
      ],
      "metadata": {
        "colab": {
          "base_uri": "https://localhost:8080/"
        },
        "id": "N3NOUBbgwkfT",
        "outputId": "917a280b-e13f-4d91-e9b7-58bff6acfed4"
      },
      "execution_count": null,
      "outputs": [
        {
          "output_type": "stream",
          "name": "stdout",
          "text": [
            "1.8980061186860309\n"
          ]
        }
      ]
    }
  ]
}

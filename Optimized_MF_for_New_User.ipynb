{
  "nbformat": 4,
  "nbformat_minor": 0,
  "metadata": {
    "colab": {
      "provenance": []
    },
    "kernelspec": {
      "name": "python3",
      "display_name": "Python 3"
    },
    "language_info": {
      "name": "python"
    }
  },
  "cells": [
    {
      "cell_type": "code",
      "execution_count": null,
      "metadata": {
        "id": "nWjdzZIrpWJZ"
      },
      "outputs": [],
      "source": [
        "def compute_less_MF(P, Q, user_rating, num_epochs=5):\n",
        "  latent_factors = 30\n",
        "\n",
        "  a = 0.01\n",
        "  b = 0.1 \n",
        "  train_loss = []\n",
        "  test_loss = []\n",
        "  new_user_p = P[0,:].copy()\n",
        "  nonzero_indices_train = np.nonzero(user_rating) \n",
        "\n",
        "  for epoch in range(num_epochs):\n",
        "      for j in range(num_items):\n",
        "          if user_rating[j]> 0:\n",
        "              diff = user_rating[j]- np.dot(new_user_p, Q[:, j])\n",
        "              new_user_p += a * (diff * Q[:, j] - b * new_user_p)\n",
        "              \n",
        "      predicted_matrix = np.dot(new_user_p, Q)\n",
        "\n",
        "      print(predicted_matrix[nonzero_indices_train])\n",
        "\n",
        "      print(user_rating[nonzero_indices_train])\n",
        "\n",
        "      rmse_val = np.sqrt(np.mean((predicted_matrix[nonzero_indices_train] - user_rating[nonzero_indices_train])**2))\n",
        "      print('RMSE Test Loss: {:.4f}'.format(rmse_val))\n",
        "      return new_user_p\n",
        "     \n",
        "user_rating0 = np.zeros(train_mat[123].shape)\n",
        "user_rating0[121] = 9\n",
        "user_rating0[721] = 5\n",
        "user_rating0[521] = 2\n",
        "\n",
        "new_p_to_be_appended = compute_less_MF(P, Q, user_rating0, 500)"
      ]
    }
  ]
}
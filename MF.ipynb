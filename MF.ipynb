{
  "nbformat": 4,
  "nbformat_minor": 0,
  "metadata": {
    "colab": {
      "provenance": []
    },
    "kernelspec": {
      "name": "python3",
      "display_name": "Python 3"
    },
    "language_info": {
      "name": "python"
    }
  },
  "cells": [
    {
      "cell_type": "code",
      "source": [
        "from google.colab import drive\n",
        "drive.mount('/content/drive')"
      ],
      "metadata": {
        "colab": {
          "base_uri": "https://localhost:8080/"
        },
        "id": "CJlgDr3t1VZS",
        "outputId": "d492355a-a175-4276-e7e1-48bfa741d037"
      },
      "execution_count": 1,
      "outputs": [
        {
          "output_type": "stream",
          "name": "stdout",
          "text": [
            "Mounted at /content/drive\n"
          ]
        }
      ]
    },
    {
      "cell_type": "code",
      "source": [
        "%cd /content/drive/MyDrive/Spring\\'23/CSCE670/Animendations/\n",
        "!ls"
      ],
      "metadata": {
        "colab": {
          "base_uri": "https://localhost:8080/"
        },
        "id": "muoDw0W61aT_",
        "outputId": "5af9b161-f303-43d4-d94a-f042a5689541"
      },
      "execution_count": 2,
      "outputs": [
        {
          "output_type": "stream",
          "name": "stdout",
          "text": [
            "/content/drive/MyDrive/Spring'23/CSCE670/Animendations\n",
            "'Animendations: Project Preview.gslides'\n",
            " data\n",
            " Gojo\n",
            " preprocessed_data\n",
            "'Project Proposal: Animendations.gdoc'\n",
            " synopsis_embeddings\n",
            " user_profile\n",
            " visual_embeddings\n"
          ]
        }
      ]
    },
    {
      "cell_type": "code",
      "execution_count": 3,
      "metadata": {
        "id": "X1zF7ewZ_lhH"
      },
      "outputs": [],
      "source": [
        "import pandas as pd\n",
        "import matplotlib.pyplot as plt\n",
        "import ast\n",
        "\n",
        "animes_data_path = \"./preprocessed_data/new_preprocessed_animes.csv\"\n",
        "profiles_data_path = \"./preprocessed_data/preprocessed_profiles.csv\"\n",
        "reviews_data_path = \"./preprocessed_data/new_preprocessed_reviews.csv\""
      ]
    },
    {
      "cell_type": "code",
      "source": [
        "animes_data = pd.read_csv(animes_data_path)\n",
        "profiles_data = pd.read_csv(profiles_data_path)\n",
        "reviews_data = pd.read_csv(reviews_data_path, engine='python', sep=',', error_bad_lines=False)"
      ],
      "metadata": {
        "colab": {
          "base_uri": "https://localhost:8080/"
        },
        "id": "eAIo7-3u_sBs",
        "outputId": "7e552a79-85fe-436f-e9ac-3e42640ae9cb"
      },
      "execution_count": 4,
      "outputs": [
        {
          "output_type": "stream",
          "name": "stderr",
          "text": [
            "<ipython-input-4-39739bd06a7d>:3: FutureWarning: The error_bad_lines argument has been deprecated and will be removed in a future version. Use on_bad_lines in the future.\n",
            "\n",
            "\n",
            "  reviews_data = pd.read_csv(reviews_data_path, engine='python', sep=',', error_bad_lines=False)\n"
          ]
        }
      ]
    },
    {
      "cell_type": "code",
      "source": [
        "animes = animes_data.copy()\n",
        "profiles = profiles_data.copy()\n",
        "reviews = reviews_data.copy()"
      ],
      "metadata": {
        "id": "8Ea16-ue_tTr"
      },
      "execution_count": 5,
      "outputs": []
    },
    {
      "cell_type": "code",
      "source": [
        "from scipy.sparse import coo_matrix\n",
        "import torch\n",
        "import torch.nn as nn\n",
        "import numpy as np\n",
        "\n",
        "np.random.seed(0)\n",
        "unique_AnimeID = reviews['anime_uid'].unique()\n",
        "unique_users = reviews['profile'].unique()\n",
        "j = 0\n",
        "user_old2new_id_dict = dict()\n",
        "for u in unique_users:\n",
        "    user_old2new_id_dict[u] = j\n",
        "    j += 1\n",
        "j = 0\n",
        "movie_old2new_id_dict = dict()\n",
        "for i in unique_AnimeID:\n",
        "    movie_old2new_id_dict[i] = j\n",
        "    j += 1\n",
        "    \n",
        "# Then, use the generated dictionaries to reindex UserID and MovieID in the data_df\n",
        "user_list = reviews['profile'].values\n",
        "movie_list = reviews['anime_uid'].values\n",
        "for j in range(len(reviews)):\n",
        "    user_list[j] = user_old2new_id_dict[user_list[j]]\n",
        "    movie_list[j] = movie_old2new_id_dict[movie_list[j]]\n",
        "reviews['profile'] = user_list\n",
        "reviews['anime_uid'] = movie_list\n",
        "\n",
        "# generate train_df with 70% samples and test_df with 30% samples, and there should have no overlap between them.\n",
        "train_index = np.random.random(len(reviews)) <= 0.7\n",
        "train_df = reviews[train_index]\n",
        "test_df = reviews[~train_index]\n",
        "\n",
        "# generate train_mat and test_mat\n",
        "num_user = len(reviews['profile'].unique())\n",
        "num_items = len(reviews['anime_uid'].unique())\n",
        "\n",
        "train_mat = coo_matrix((train_df['score'].values, (train_df['profile'].values, train_df['anime_uid'].values)), shape=(num_user, num_items)).astype(float).toarray()\n",
        "test_mat = coo_matrix((test_df['score'].values, (test_df['profile'].values, test_df['anime_uid'].values)), shape=(num_user, num_items)).astype(float).toarray()"
      ],
      "metadata": {
        "id": "hf8f2rd4_uwD"
      },
      "execution_count": 6,
      "outputs": []
    },
    {
      "cell_type": "markdown",
      "source": [
        "## Matrix Factorization using Funk's SVD"
      ],
      "metadata": {
        "id": "qrT-SYW14vux"
      }
    },
    {
      "cell_type": "code",
      "source": [
        "# latent_factors_list = [10, 30, 50, 100]\n",
        "latent_factors_list = [30]\n",
        "# lr_list = [0.0001, 0.001, 0.01, 0.1]\n",
        "lr_list = [0.001]\n",
        "reg_list = [1e-01]\n",
        "num_epochs = 30\n",
        "\n",
        "for latent_factors in latent_factors_list:\n",
        "  for lr in lr_list:\n",
        "    for reg in reg_list:\n",
        "      print(\"-----------------------{}---{}---{}---------------------------\".format(latent_factors, lr, reg))\n",
        "      P = np.random.rand(num_user, latent_factors)\n",
        "      Q = np.random.rand(num_items, latent_factors)\n",
        "\n",
        "      train_loss = []\n",
        "      test_loss = []\n",
        "      nonzero_indices_train = np.nonzero(train_mat)\n",
        "      nonzero_indices_test = np.nonzero(test_mat)\n",
        "\n",
        "      for epoch in range(num_epochs):\n",
        "          for u in range(num_user):\n",
        "              for i in range(num_items):\n",
        "                  if train_mat[u, i] > 0:\n",
        "                    r_ui = train_mat[u, i]\n",
        "                    error_ui = np.dot(P[u], Q[i].transpose()) - r_ui\n",
        "                    new_p = P[u] - lr * (2 * error_ui * Q[i] + 2 * reg * P[u])\n",
        "                    new_q = Q[i] - lr * (2 * error_ui * P[u] + 2 * reg * Q[i])\n",
        "                    P[u] = new_p\n",
        "                    Q[i] = new_q\n",
        "\n",
        "          predicted_matrix = np.dot(P, Q.transpose())\n",
        "          \n",
        "          rmse_train = np.sqrt(np.mean((predicted_matrix[nonzero_indices_train] - train_mat[nonzero_indices_train])**2))\n",
        "          rmse_test = np.sqrt(np.mean((predicted_matrix[nonzero_indices_test] - test_mat[nonzero_indices_test])**2))\n",
        "\n",
        "          train_loss.append(rmse_train)\n",
        "          test_loss.append(rmse_test)\n",
        "\n",
        "          print('Epoch', epoch + 1, 'of', num_epochs, end=': ')\n",
        "          print('RMSE Train Loss: {:.4f}'.format(rmse_train), end=', ')\n",
        "          print('RMSE Test Loss: {:.4f}'.format(rmse_test))"
      ],
      "metadata": {
        "colab": {
          "base_uri": "https://localhost:8080/"
        },
        "id": "BIzlMbxkWjI_",
        "outputId": "8cc6ded0-3722-4507-dd79-4168a87cde03"
      },
      "execution_count": 7,
      "outputs": [
        {
          "output_type": "stream",
          "name": "stdout",
          "text": [
            "-----------------------30---0.001---0.1---------------------------\n",
            "Epoch 1 of 30: RMSE Train Loss: 2.1464, RMSE Test Loss: 2.2299\n",
            "Epoch 2 of 30: RMSE Train Loss: 1.9956, RMSE Test Loss: 2.1335\n",
            "Epoch 3 of 30: RMSE Train Loss: 1.8963, RMSE Test Loss: 2.0785\n",
            "Epoch 4 of 30: RMSE Train Loss: 1.8212, RMSE Test Loss: 2.0416\n",
            "Epoch 5 of 30: RMSE Train Loss: 1.7608, RMSE Test Loss: 2.0150\n",
            "Epoch 6 of 30: RMSE Train Loss: 1.7101, RMSE Test Loss: 1.9947\n",
            "Epoch 7 of 30: RMSE Train Loss: 1.6666, RMSE Test Loss: 1.9789\n",
            "Epoch 8 of 30: RMSE Train Loss: 1.6285, RMSE Test Loss: 1.9662\n",
            "Epoch 9 of 30: RMSE Train Loss: 1.5946, RMSE Test Loss: 1.9559\n",
            "Epoch 10 of 30: RMSE Train Loss: 1.5641, RMSE Test Loss: 1.9474\n",
            "Epoch 11 of 30: RMSE Train Loss: 1.5363, RMSE Test Loss: 1.9404\n",
            "Epoch 12 of 30: RMSE Train Loss: 1.5108, RMSE Test Loss: 1.9345\n",
            "Epoch 13 of 30: RMSE Train Loss: 1.4872, RMSE Test Loss: 1.9296\n",
            "Epoch 14 of 30: RMSE Train Loss: 1.4653, RMSE Test Loss: 1.9255\n",
            "Epoch 15 of 30: RMSE Train Loss: 1.4447, RMSE Test Loss: 1.9220\n",
            "Epoch 16 of 30: RMSE Train Loss: 1.4254, RMSE Test Loss: 1.9191\n",
            "Epoch 17 of 30: RMSE Train Loss: 1.4071, RMSE Test Loss: 1.9167\n",
            "Epoch 18 of 30: RMSE Train Loss: 1.3897, RMSE Test Loss: 1.9147\n",
            "Epoch 19 of 30: RMSE Train Loss: 1.3731, RMSE Test Loss: 1.9131\n",
            "Epoch 20 of 30: RMSE Train Loss: 1.3572, RMSE Test Loss: 1.9118\n",
            "Epoch 21 of 30: RMSE Train Loss: 1.3419, RMSE Test Loss: 1.9107\n",
            "Epoch 22 of 30: RMSE Train Loss: 1.3271, RMSE Test Loss: 1.9099\n",
            "Epoch 23 of 30: RMSE Train Loss: 1.3129, RMSE Test Loss: 1.9094\n",
            "Epoch 24 of 30: RMSE Train Loss: 1.2990, RMSE Test Loss: 1.9090\n",
            "Epoch 25 of 30: RMSE Train Loss: 1.2856, RMSE Test Loss: 1.9087\n",
            "Epoch 26 of 30: RMSE Train Loss: 1.2725, RMSE Test Loss: 1.9087\n",
            "Epoch 27 of 30: RMSE Train Loss: 1.2597, RMSE Test Loss: 1.9087\n",
            "Epoch 28 of 30: RMSE Train Loss: 1.2472, RMSE Test Loss: 1.9089\n",
            "Epoch 29 of 30: RMSE Train Loss: 1.2349, RMSE Test Loss: 1.9092\n",
            "Epoch 30 of 30: RMSE Train Loss: 1.2229, RMSE Test Loss: 1.9096\n"
          ]
        }
      ]
    },
    {
      "cell_type": "code",
      "source": [
        "import matplotlib.pyplot as plt\n",
        "x = [i + 1 for i in range(num_epochs)]\n",
        "plt.plot(x, train_loss, label='train_loss')\n",
        "plt.plot(x, test_loss, label='test_loss')\n",
        "leg = plt.legend(loc='upper center')\n",
        "plt.xticks([i + 1 for i in range(0, num_epochs, 2)]) \n",
        "plt.show()"
      ],
      "metadata": {
        "colab": {
          "base_uri": "https://localhost:8080/",
          "height": 430
        },
        "id": "ujw0oM5gZxSM",
        "outputId": "f57d4c83-be95-4517-b6a1-f7b2e410b96c"
      },
      "execution_count": 8,
      "outputs": [
        {
          "output_type": "display_data",
          "data": {
            "text/plain": [
              "<Figure size 640x480 with 1 Axes>"
            ],
            "image/png": "[encoded data removed]"
          },
          "metadata": {}
        }
      ]
    },
    {
      "cell_type": "code",
      "source": [],
      "metadata": {
        "id": "nvvv7-7WG-NA"
      },
      "execution_count": null,
      "outputs": []
    }
  ]
}
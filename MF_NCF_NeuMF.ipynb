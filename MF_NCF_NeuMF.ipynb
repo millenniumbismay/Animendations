{
  "cells": [
    {
      "cell_type": "code",
      "source": [
        "from google.colab import drive\n",
        "drive.mount('/content/drive')"
      ],
      "metadata": {
        "colab": {
          "base_uri": "https://localhost:8080/"
        },
        "id": "fTEwkEk-vCEL",
        "outputId": "de421810-ae34-4738-8b86-a739140f1580"
      },
      "execution_count": 1,
      "outputs": [
        {
          "output_type": "stream",
          "name": "stdout",
          "text": [
            "Mounted at /content/drive\n"
          ]
        }
      ]
    },
    {
      "cell_type": "code",
      "source": [
        "%cd /content/drive/MyDrive/Spring\\'23/CSCE670/Animendations/\n",
        "!ls"
      ],
      "metadata": {
        "colab": {
          "base_uri": "https://localhost:8080/"
        },
        "id": "w31zbUecvDJ1",
        "outputId": "4aaf8b48-cb65-4594-af84-8286e1d19978"
      },
      "execution_count": 1,
      "outputs": [
        {
          "output_type": "stream",
          "name": "stdout",
          "text": [
            "/content/drive/MyDrive/Spring'23/CSCE670/Animendations\n",
            "'Animendations: Project Preview.gslides'   Q_MF_NCF.pickle\n",
            " anime_new2old_id_dict.pickle\t\t   Q_MF_NCF_score.pickle\n",
            " data\t\t\t\t\t   Q_NCF_score.pickle\n",
            " Gojo\t\t\t\t\t   synopsis_embeddings\n",
            " P_MF_NCF.pickle\t\t\t   user_new2old_id_dict.pickle\n",
            " P_MF_NCF_score.pickle\t\t\t   user_profile\n",
            " P_NCF_score.pickle\t\t\t   visual_embeddings\n",
            " preprocessed_data\t\t\t   visual_synopsis_item_item_sim.pickle\n",
            "'Project Proposal: Animendations.gdoc'\n"
          ]
        }
      ]
    },
    {
      "cell_type": "code",
      "execution_count": 2,
      "metadata": {
        "id": "QHJ3hxtDyg5g"
      },
      "outputs": [],
      "source": [
        "from scipy.sparse import coo_matrix\n",
        "import torch\n",
        "import torch.nn as nn\n",
        "import numpy as np\n",
        "from torch.utils.data import DataLoader, TensorDataset\n",
        "import pandas as pd\n",
        "import matplotlib.pyplot as plt\n",
        "import ast\n",
        "import pickle "
      ]
    },
    {
      "cell_type": "code",
      "execution_count": 3,
      "metadata": {
        "colab": {
          "base_uri": "https://localhost:8080/"
        },
        "id": "BCU4b3M8yuq-",
        "outputId": "7fe801a0-595b-4b85-9109-b4239888fe3e"
      },
      "outputs": [
        {
          "output_type": "stream",
          "name": "stderr",
          "text": [
            "<ipython-input-3-7563d21da662>:6: FutureWarning: The error_bad_lines argument has been deprecated and will be removed in a future version. Use on_bad_lines in the future.\n",
            "\n",
            "\n",
            "  reviews_data = pd.read_csv(reviews_data_path, engine='python', sep=',', error_bad_lines=False)\n"
          ]
        }
      ],
      "source": [
        "animes_data_path = \"./preprocessed_data/new_preprocessed_animes.csv\"\n",
        "profiles_data_path = \"./preprocessed_data/preprocessed_profiles.csv\"\n",
        "reviews_data_path = \"./preprocessed_data/new_preprocessed_reviews.csv\"\n",
        "animes_data = pd.read_csv(animes_data_path)\n",
        "profiles_data = pd.read_csv(profiles_data_path)\n",
        "reviews_data = pd.read_csv(reviews_data_path, engine='python', sep=',', error_bad_lines=False)\n",
        "\n",
        "animes = animes_data.copy()\n",
        "profiles = profiles_data.copy()\n",
        "reviews = reviews_data.copy()"
      ]
    },
    {
      "cell_type": "code",
      "execution_count": 4,
      "metadata": {
        "id": "uE3FQGSiy01z"
      },
      "outputs": [],
      "source": [
        "np.random.seed(0)\n",
        "unique_AnimeID = reviews['anime_uid'].unique().tolist()\n",
        "unique_users = reviews['profile'].unique()\n",
        "j = 0\n",
        "user_old2new_id_dict = dict()\n",
        "for u in unique_users:\n",
        "    user_old2new_id_dict[u] = j\n",
        "    j += 1\n",
        "j = 0\n",
        "movie_old2new_id_dict = dict()\n",
        "movie_new2old_id_dict = dict()\n",
        "for i in unique_AnimeID:\n",
        "    movie_old2new_id_dict[i] = j\n",
        "    movie_new2old_id_dict[j] = i\n",
        "    j += 1"
      ]
    },
    {
      "cell_type": "code",
      "execution_count": 5,
      "metadata": {
        "id": "_1MJzy0lzh-Y"
      },
      "outputs": [],
      "source": [
        "user_list = reviews['profile'].values\n",
        "movie_list = reviews['anime_uid'].values\n",
        "for j in range(len(reviews)):\n",
        "    user_list[j] = user_old2new_id_dict[user_list[j]]\n",
        "    movie_list[j] = movie_old2new_id_dict[movie_list[j]]\n",
        "reviews['profile'] = user_list\n",
        "reviews['anime_uid'] = movie_list\n",
        "\n",
        "# generate train_df with 70% samples and test_df with 30% samples, and there should have no overlap between them.\n",
        "train_index = np.random.random(len(reviews)) <= 0.7\n",
        "train_df = reviews[train_index]\n",
        "test_df = reviews[~train_index]\n",
        "\n",
        "# generate train_mat and test_mat\n",
        "num_user = len(reviews['profile'].unique())\n",
        "num_items = len(reviews['anime_uid'].unique())\n",
        "\n",
        "train_mat = coo_matrix((train_df['score'].values, (train_df['profile'].values, train_df['anime_uid'].values)), shape=(num_user, num_items)).astype(float).toarray()\n",
        "test_mat = coo_matrix((test_df['score'].values, (test_df['profile'].values, test_df['anime_uid'].values)), shape=(num_user, num_items)).astype(float).toarray()"
      ]
    },
    {
      "cell_type": "code",
      "execution_count": 6,
      "metadata": {
        "id": "L2rLfCdUPezs"
      },
      "outputs": [],
      "source": [
        "def MF_PreTrained_Embeddings(latent_factors, num_epochs):\n",
        "  P = np.random.rand(num_user, latent_factors)\n",
        "  Q = np.random.rand(latent_factors, num_items)\n",
        "\n",
        "  a = 0.01\n",
        "  b = 0.1\n",
        "  train_loss = []\n",
        "  test_loss = []\n",
        "  nonzero_indices_train = np.nonzero(train_mat)\n",
        "  nonzero_indices_test = np.nonzero(test_mat)\n",
        "\n",
        "  for epoch in range(num_epochs):\n",
        "      for i in range(num_user):\n",
        "          for j in range(num_items):\n",
        "              if train_mat[i, j] > 0:\n",
        "                  diff = train_mat[i, j] - np.dot(P[i, :], Q[:, j])\n",
        "                  P[i, :] += a * (diff * Q[:, j] - b * P[i, :])\n",
        "                  Q[:, j] += a * (diff * P[i, :] - b * Q[:, j])\n",
        "\n",
        "      predicted_matrix = np.dot(P, Q)\n",
        "      \n",
        "      rmse_train = np.sqrt(np.mean((predicted_matrix[nonzero_indices_train] - train_mat[nonzero_indices_train])**2))\n",
        "      rmse_test = np.sqrt(np.mean((predicted_matrix[nonzero_indices_test] - test_mat[nonzero_indices_test])**2))\n",
        "\n",
        "      train_loss.append(rmse_train)\n",
        "      test_loss.append(rmse_test)\n",
        "\n",
        "      print('Epoch', epoch + 1, 'of', num_epochs, end=': ')\n",
        "      print('RMSE Train Loss: {:.4f}'.format(rmse_train), end=', ')\n",
        "      print('RMSE Test Loss: {:.4f}'.format(rmse_test))\n",
        "    \n",
        "  return P, Q"
      ]
    },
    {
      "cell_type": "code",
      "execution_count": 7,
      "metadata": {
        "colab": {
          "base_uri": "https://localhost:8080/"
        },
        "id": "WhuX16IOg24e",
        "outputId": "c57696a0-873d-4e0d-c34d-ff05656ea067"
      },
      "outputs": [
        {
          "output_type": "stream",
          "name": "stdout",
          "text": [
            "Epoch 1 of 5: RMSE Train Loss: 1.8152, RMSE Test Loss: 2.0624\n",
            "Epoch 2 of 5: RMSE Train Loss: 1.6013, RMSE Test Loss: 1.9751\n",
            "Epoch 3 of 5: RMSE Train Loss: 1.4812, RMSE Test Loss: 1.9432\n",
            "Epoch 4 of 5: RMSE Train Loss: 1.3965, RMSE Test Loss: 1.9305\n",
            "Epoch 5 of 5: RMSE Train Loss: 1.3282, RMSE Test Loss: 1.9267\n"
          ]
        }
      ],
      "source": [
        "latent_factors_for_MF = 24\n",
        "num_epochs = 5\n",
        "P1, Q1 = MF_PreTrained_Embeddings(latent_factors_for_MF, num_epochs)"
      ]
    },
    {
      "cell_type": "code",
      "execution_count": 8,
      "metadata": {
        "id": "y22CtrRuMRkE"
      },
      "outputs": [],
      "source": [
        "import math \n",
        "\n",
        "popularity_list = [math.log(popularity, 2) + 0.000001 for popularity in animes['popularity'].tolist()]\n",
        "score = animes['score'].tolist()"
      ]
    },
    {
      "cell_type": "code",
      "execution_count": 9,
      "metadata": {
        "id": "nt7lQOw7k5d5"
      },
      "outputs": [],
      "source": [
        "indices_train = np.argwhere(train_mat > 0)\n",
        "train_df = {'user_id': [], 'item_id': [], 'rating': [], 'item_features': []}\n",
        "for index in indices_train:\n",
        "  train_df['user_id'].append(index[0])\n",
        "  train_df['item_id'].append(index[1])\n",
        "  train_df['rating'].append(train_mat[index[0], index[1]])\n",
        "  train_df['item_features'].append([score[index[1]] / 10])\n",
        "\n",
        "indices_test = np.argwhere(test_mat > 0)\n",
        "test_df = {'user_id': [], 'item_id': [], 'rating': [], 'item_features': []}\n",
        "for index in indices_test:\n",
        "  test_df['user_id'].append(index[0])\n",
        "  test_df['item_id'].append(index[1])\n",
        "  test_df['rating'].append(test_mat[index[0], index[1]])\n",
        "  test_df['item_features'].append([score[index[1]] / 10])"
      ]
    },
    {
      "cell_type": "code",
      "source": [
        "# indices_train = np.argwhere(train_mat > 0)\n",
        "# train_df = {'user_id': [], 'item_id': [], 'rating': [], 'item_features': []}\n",
        "# for index in indices_train:\n",
        "#   train_df['user_id'].append(index[0])\n",
        "#   train_df['item_id'].append(index[1])\n",
        "#   train_df['rating'].append(train_mat[index[0], index[1]])\n",
        "#   train_df['item_features'].append([1 / popularity_list[index[1]], score[index[1]] / 100])\n",
        "\n",
        "# indices_test = np.argwhere(test_mat > 0)\n",
        "# test_df = {'user_id': [], 'item_id': [], 'rating': [], 'item_features': []}\n",
        "# for index in indices_test:\n",
        "#   test_df['user_id'].append(index[0])\n",
        "#   test_df['item_id'].append(index[1])\n",
        "#   test_df['rating'].append(test_mat[index[0], index[1]])\n",
        "#   test_df['item_features'].append([1 / popularity_list[index[1]], score[index[1]] / 100])"
      ],
      "metadata": {
        "id": "zWnYY9hCweH_"
      },
      "execution_count": null,
      "outputs": []
    },
    {
      "cell_type": "code",
      "execution_count": 10,
      "metadata": {
        "colab": {
          "base_uri": "https://localhost:8080/"
        },
        "id": "EbGe-NCul2pe",
        "outputId": "802ca3fc-8bcf-459f-ce0c-dfba99cb009f"
      },
      "outputs": [
        {
          "output_type": "stream",
          "name": "stdout",
          "text": [
            "   user_id  item_id  rating item_features\n",
            "0        0        0     8.0       [0.882]\n",
            "1        0       69     6.0       [0.788]\n",
            "2        0      106     7.0       [0.791]\n",
            "3        0      119     8.0       [0.792]\n",
            "4        0      167     7.0       [0.796]\n",
            "   user_id  item_id  rating         item_features\n",
            "0        0        1     8.0               [0.883]\n",
            "1        0       94     6.0                [0.79]\n",
            "2        0      147     9.0               [0.794]\n",
            "3        0      196     7.0               [0.799]\n",
            "4        0      237     7.0  [0.8019999999999999]\n"
          ]
        }
      ],
      "source": [
        "train_df = pd.DataFrame(train_df)\n",
        "print(train_df.head())\n",
        "\n",
        "test_df = pd.DataFrame(test_df)\n",
        "print(test_df.head())"
      ]
    },
    {
      "cell_type": "code",
      "execution_count": 11,
      "metadata": {
        "id": "qKauyEDQkMb4"
      },
      "outputs": [],
      "source": [
        "from torch.utils.data import DataLoader, TensorDataset\n",
        "train_user_ids = torch.LongTensor(train_df['user_id'].values)\n",
        "train_item_ids = torch.LongTensor(train_df['item_id'].values)\n",
        "train_ratings = torch.FloatTensor(train_df['rating'].values)\n",
        "train_item_features = torch.FloatTensor(train_df['item_features'])\n",
        "\n",
        "train_dataset = TensorDataset(train_user_ids, train_item_ids, train_ratings, train_item_features)\n",
        "batch_size = 256\n",
        "\n",
        "# Create a DataLoader that generates batches of data\n",
        "train_dataloader = DataLoader(train_dataset, batch_size=batch_size, shuffle=True)\n",
        "\n",
        "test_user_ids = torch.LongTensor(test_df['user_id'].values)\n",
        "test_item_ids = torch.LongTensor(test_df['item_id'].values)\n",
        "test_ratings = torch.FloatTensor(test_df['rating'].values)\n",
        "test_item_features = torch.FloatTensor(test_df['item_features'])\n",
        "\n",
        "test_dataset = TensorDataset(test_user_ids, test_item_ids, test_ratings, test_item_features)\n",
        "\n",
        "# Create a DataLoader that generates batches of data\n",
        "test_dataloader = DataLoader(test_dataset, batch_size=batch_size, shuffle=True)"
      ]
    },
    {
      "cell_type": "code",
      "execution_count": 12,
      "metadata": {
        "id": "26tbumAE0Law"
      },
      "outputs": [],
      "source": [
        "import torch\n",
        "import torch.nn as nn\n",
        "import torch.nn.functional as F\n",
        "\n",
        "class NCF(nn.Module):\n",
        "    def __init__(self, num_users, num_items, embedding_dim, hidden_dim, item_features_dim, pretrained_user_embs, pretrained_item_embs):\n",
        "        super(NCF, self).__init__()\n",
        "        self.num_users = num_users\n",
        "        self.num_items = num_items\n",
        "        self.embedding_dim = embedding_dim\n",
        "        self.hidden_dim = hidden_dim\n",
        "        self.item_features_dim = item_features_dim\n",
        "        \n",
        "        # User and item embeddings\n",
        "        self.user_embed = nn.Embedding(num_users, embedding_dim)\n",
        "        self.item_embed = nn.Embedding(num_items, embedding_dim)\n",
        "        \n",
        "        self.fc1 = nn.Linear(embedding_dim * 2 + item_features_dim, hidden_dim)\n",
        "        self.fc2 = nn.Linear(hidden_dim, 1)\n",
        "        \n",
        "        if pretrained_user_embs is not None:\n",
        "            self.user_embed.weight.data.copy_(torch.from_numpy(pretrained_user_embs))\n",
        "        if pretrained_item_embs is not None:\n",
        "            self.item_embed.weight.data.copy_(torch.from_numpy(pretrained_item_embs)) \n",
        "\n",
        "        \n",
        "    def forward(self, user, item, item_features):\n",
        "        # Embedding lookup\n",
        "        user_embed = self.user_embed(user)\n",
        "        item_embed = self.item_embed(item)\n",
        "        \n",
        "        # Concatenate the user and item embeddings\n",
        "        x = None\n",
        "        if self.item_features_dim == 0:\n",
        "          x = torch.cat([user_embed, item_embed], dim=1)\n",
        "        else:\n",
        "          x = torch.cat([user_embed, item_embed, item_features], dim=1)\n",
        "        \n",
        "        x = F.relu(self.fc1(x))\n",
        "        x = F.relu(self.fc2(x))\n",
        "        # Apply sigmoid function to output\n",
        "        x = torch.sigmoid(x) * 10\n",
        "        \n",
        "        return x.squeeze(), self.user_embed, self.item_embed\n"
      ]
    },
    {
      "cell_type": "code",
      "execution_count": 13,
      "metadata": {
        "id": "ON5Y2G2W4pYa"
      },
      "outputs": [],
      "source": [
        "from pandas._libs.tslibs.offsets import QuarterOffset\n",
        "# Define the model, loss function, and optimizer\n",
        "import matplotlib.pyplot as plt\n",
        "\n",
        "def train_NCF(item_features_dim, lr, num_epochs, hidden_dim, latent_factors, P, Q):\n",
        "  embedding_dim = latent_factors\n",
        "  \n",
        "  model = NCF(num_user, num_items, embedding_dim, hidden_dim, item_features_dim, P, Q)\n",
        "  loss_fn = nn.MSELoss()\n",
        "  optimizer = torch.optim.Adam(model.parameters(), lr=lr)\n",
        "  # Training loop\n",
        "  train_loss = []\n",
        "  test_loss = []\n",
        "  user_latent = None\n",
        "  item_latent = None\n",
        "\n",
        "  for epoch in range(num_epochs):\n",
        "      model.train()\n",
        "      running_train_loss = []\n",
        "      for batch in train_dataloader:\n",
        "          # Unpack the batch\n",
        "          user, item, rating, item_features = batch\n",
        "          \n",
        "          # Forward pass\n",
        "          rating_pred, user_embed, item_embed = model(user, item, item_features)\n",
        "          loss = loss_fn(rating_pred, rating)\n",
        "          running_train_loss.append(np.sqrt(loss.item()))\n",
        "          \n",
        "          # Backward pass and optimization\n",
        "          optimizer.zero_grad()\n",
        "          loss.backward()\n",
        "          optimizer.step()\n",
        "        \n",
        "      model.eval()\n",
        "      running_test_loss = []\n",
        "\n",
        "      with torch.no_grad():\n",
        "        for batch in test_dataloader:\n",
        "          user, item, rating, item_features = batch\n",
        "          rating_pred, _, _ = model(user, item, item_features)\n",
        "          loss = loss_fn(rating_pred, rating)\n",
        "          running_test_loss.append(np.sqrt(loss.item()))\n",
        "      \n",
        "      print('Epoch', epoch + 1, 'of', num_epochs, end=': ')\n",
        "      print('RMSE Train Loss: {:.4f}'.format(np.mean(running_train_loss)), end=', ')\n",
        "      print('RMSE Test Loss: {:.4f}'.format(np.mean(running_test_loss)))\n",
        "\n",
        "      train_loss.append(np.mean(running_train_loss))\n",
        "      test_loss.append(np.mean(running_test_loss))\n",
        "\n",
        "      if min(test_loss) == np.mean(running_test_loss):\n",
        "        user_latent = user_embed\n",
        "        item_latent = item_embed\n",
        "\n",
        "  x = [i + 1 for i in range(num_epochs)]\n",
        "  plt.plot(x, train_loss, label='train_loss')\n",
        "  plt.plot(x, test_loss, label='test_loss')\n",
        "  leg = plt.legend(loc='upper center')\n",
        "  plt.xticks([i + 1 for i in range(0, num_epochs, 3)]) \n",
        "  plt.show()\n",
        "\n",
        "  return user_latent, item_latent"
      ]
    },
    {
      "cell_type": "markdown",
      "metadata": {
        "id": "MtXr5O2Ie0M4"
      },
      "source": [
        "### Baseline NCF"
      ]
    },
    {
      "cell_type": "code",
      "execution_count": 15,
      "metadata": {
        "colab": {
          "base_uri": "https://localhost:8080/",
          "height": 621
        },
        "id": "OuGoK30ui46x",
        "outputId": "90e50b46-f25e-421a-e4d9-4a58895bd90e"
      },
      "outputs": [
        {
          "output_type": "stream",
          "name": "stdout",
          "text": [
            "lr: 0.01\n",
            "Epoch 1 of 10: RMSE Train Loss: 2.1366, RMSE Test Loss: 1.9980\n",
            "Epoch 2 of 10: RMSE Train Loss: 1.8252, RMSE Test Loss: 1.9233\n",
            "Epoch 3 of 10: RMSE Train Loss: 1.6428, RMSE Test Loss: 1.9210\n",
            "Epoch 4 of 10: RMSE Train Loss: 1.5273, RMSE Test Loss: 1.9479\n",
            "Epoch 5 of 10: RMSE Train Loss: 1.4262, RMSE Test Loss: 1.9707\n",
            "Epoch 6 of 10: RMSE Train Loss: 1.3429, RMSE Test Loss: 2.0152\n",
            "Epoch 7 of 10: RMSE Train Loss: 1.2680, RMSE Test Loss: 2.0110\n",
            "Epoch 8 of 10: RMSE Train Loss: 1.2064, RMSE Test Loss: 2.0459\n",
            "Epoch 9 of 10: RMSE Train Loss: 1.1676, RMSE Test Loss: 2.0396\n",
            "Epoch 10 of 10: RMSE Train Loss: 1.1317, RMSE Test Loss: 2.0570\n"
          ]
        },
        {
          "output_type": "display_data",
          "data": {
            "text/plain": [
              "<Figure size 640x480 with 1 Axes>"
            ],
            "image/png": "[encoded data removed]"
          },
          "metadata": {}
        }
      ],
      "source": [
        "item_features_dim = 0\n",
        "lr = 0.01 #1.9210\n",
        "print(\"lr:\", lr)\n",
        "num_epochs = 10\n",
        "hidden_dim = 64\n",
        "latent_factors = 32\n",
        "\n",
        "U, V = train_NCF(item_features_dim, lr, num_epochs, hidden_dim, latent_factors, None, None)"
      ]
    },
    {
      "cell_type": "markdown",
      "metadata": {
        "id": "gugKjuLPe3X7"
      },
      "source": [
        "### MF + NCF Hybrid (Uses pretrained embeddings of MF)"
      ]
    },
    {
      "cell_type": "code",
      "execution_count": 19,
      "metadata": {
        "colab": {
          "base_uri": "https://localhost:8080/",
          "height": 604
        },
        "id": "rEXCz6j8Rpmm",
        "outputId": "f78daa7d-02c3-408d-8c38-c249ffeadd7b"
      },
      "outputs": [
        {
          "output_type": "stream",
          "name": "stdout",
          "text": [
            "Epoch 1 of 10: RMSE Train Loss: 2.1009, RMSE Test Loss: 2.0520\n",
            "Epoch 2 of 10: RMSE Train Loss: 1.8661, RMSE Test Loss: 1.9263\n",
            "Epoch 3 of 10: RMSE Train Loss: 1.6914, RMSE Test Loss: 1.8871\n",
            "Epoch 4 of 10: RMSE Train Loss: 1.5990, RMSE Test Loss: 1.8630\n",
            "Epoch 5 of 10: RMSE Train Loss: 1.5450, RMSE Test Loss: 1.8596\n",
            "Epoch 6 of 10: RMSE Train Loss: 1.5057, RMSE Test Loss: 1.8608\n",
            "Epoch 7 of 10: RMSE Train Loss: 1.4755, RMSE Test Loss: 1.8677\n",
            "Epoch 8 of 10: RMSE Train Loss: 1.4504, RMSE Test Loss: 1.8698\n",
            "Epoch 9 of 10: RMSE Train Loss: 1.4265, RMSE Test Loss: 1.8790\n",
            "Epoch 10 of 10: RMSE Train Loss: 1.4030, RMSE Test Loss: 1.8833\n"
          ]
        },
        {
          "output_type": "display_data",
          "data": {
            "text/plain": [
              "<Figure size 640x480 with 1 Axes>"
            ],
            "image/png": "[encoded data removed]"
          },
          "metadata": {}
        }
      ],
      "source": [
        "item_features_dim = 0\n",
        "lr = 0.0005 #1.8585\n",
        "num_epochs = 10\n",
        "latent_factors = latent_factors_for_MF\n",
        "hidden_dim = 64\n",
        "P_MF_NCF, Q_MF_NCF = train_NCF(item_features_dim, lr, num_epochs, hidden_dim, latent_factors, P1, Q1.T)"
      ]
    },
    {
      "cell_type": "code",
      "source": [
        "# with open(\"./P_MF_NCF.pickle\", \"wb\") as f1:\n",
        "#   pickle.dump(P_MF_NCF, f1)\n",
        "# with open(\"./Q_MF_NCF.pickle\", \"wb\") as f2:\n",
        "#   pickle.dump(Q_MF_NCF, f2)"
      ],
      "metadata": {
        "id": "oDSmzKdHyZX6"
      },
      "execution_count": null,
      "outputs": []
    },
    {
      "cell_type": "markdown",
      "metadata": {
        "id": "KNNhxVMmfAq8"
      },
      "source": [
        "### NCF + Item Features"
      ]
    },
    {
      "cell_type": "code",
      "execution_count": 20,
      "metadata": {
        "colab": {
          "base_uri": "https://localhost:8080/",
          "height": 777
        },
        "id": "OnRIkcMUSJba",
        "outputId": "106a3817-bbc1-489b-b120-74dfa055ebd0"
      },
      "outputs": [
        {
          "output_type": "stream",
          "name": "stdout",
          "text": [
            "Epoch 1 of 20: RMSE Train Loss: 2.2991, RMSE Test Loss: 2.2162\n",
            "Epoch 2 of 20: RMSE Train Loss: 2.1676, RMSE Test Loss: 2.1668\n",
            "Epoch 3 of 20: RMSE Train Loss: 2.0971, RMSE Test Loss: 2.1173\n",
            "Epoch 4 of 20: RMSE Train Loss: 2.0219, RMSE Test Loss: 2.0759\n",
            "Epoch 5 of 20: RMSE Train Loss: 1.9508, RMSE Test Loss: 2.0446\n",
            "Epoch 6 of 20: RMSE Train Loss: 1.8847, RMSE Test Loss: 2.0197\n",
            "Epoch 7 of 20: RMSE Train Loss: 1.8246, RMSE Test Loss: 2.0069\n",
            "Epoch 8 of 20: RMSE Train Loss: 1.7711, RMSE Test Loss: 1.9854\n",
            "Epoch 9 of 20: RMSE Train Loss: 1.7209, RMSE Test Loss: 1.9817\n",
            "Epoch 10 of 20: RMSE Train Loss: 1.6744, RMSE Test Loss: 1.9766\n",
            "Epoch 11 of 20: RMSE Train Loss: 1.6334, RMSE Test Loss: 1.9757\n",
            "Epoch 12 of 20: RMSE Train Loss: 1.5939, RMSE Test Loss: 1.9688\n",
            "Epoch 13 of 20: RMSE Train Loss: 1.5577, RMSE Test Loss: 1.9791\n",
            "Epoch 14 of 20: RMSE Train Loss: 1.5260, RMSE Test Loss: 1.9699\n",
            "Epoch 15 of 20: RMSE Train Loss: 1.4953, RMSE Test Loss: 1.9769\n",
            "Epoch 16 of 20: RMSE Train Loss: 1.4675, RMSE Test Loss: 1.9870\n",
            "Epoch 17 of 20: RMSE Train Loss: 1.4413, RMSE Test Loss: 1.9895\n",
            "Epoch 18 of 20: RMSE Train Loss: 1.4171, RMSE Test Loss: 1.9895\n",
            "Epoch 19 of 20: RMSE Train Loss: 1.3933, RMSE Test Loss: 1.9943\n",
            "Epoch 20 of 20: RMSE Train Loss: 1.3711, RMSE Test Loss: 2.0039\n"
          ]
        },
        {
          "output_type": "display_data",
          "data": {
            "text/plain": [
              "<Figure size 640x480 with 1 Axes>"
            ],
            "image/png": "[encoded data removed]"
          },
          "metadata": {}
        }
      ],
      "source": [
        "item_features_dim = 1\n",
        "lr=0.001 #1.9675\n",
        "num_epochs = 20\n",
        "latent_factors = latent_factors_for_MF\n",
        "P_NCF_score, Q_NCF_score = train_NCF(item_features_dim, lr, num_epochs, hidden_dim, latent_factors, None, None)"
      ]
    },
    {
      "cell_type": "code",
      "source": [
        "# with open(\"./P_NCF_score.pickle\", \"wb\") as f1:\n",
        "#   pickle.dump(P_NCF_score, f1)\n",
        "# with open(\"./Q_NCF_score.pickle\", \"wb\") as f2:\n",
        "#   pickle.dump(Q_NCF_score, f2)"
      ],
      "metadata": {
        "id": "C2oFaOdg4InP"
      },
      "execution_count": null,
      "outputs": []
    },
    {
      "cell_type": "markdown",
      "source": [
        "## MF + NCF + Feature"
      ],
      "metadata": {
        "id": "cX2nOPCj1cCH"
      }
    },
    {
      "cell_type": "code",
      "source": [
        "item_features_dim = 1\n",
        "lr = 0.001 #1.8708\n",
        "num_epochs = 10\n",
        "print(\"lr:\", lr)\n",
        "latent_factors = latent_factors_for_MF\n",
        "P_MF_NCF_score, Q_MFNCF_score = train_NCF(item_features_dim, lr, num_epochs, hidden_dim, latent_factors, P1, Q1.T)"
      ],
      "metadata": {
        "colab": {
          "base_uri": "https://localhost:8080/",
          "height": 621
        },
        "id": "w8IOUnS-1ggN",
        "outputId": "a453ccef-14fa-44ad-ab24-c1dbafc3c629"
      },
      "execution_count": 21,
      "outputs": [
        {
          "output_type": "stream",
          "name": "stdout",
          "text": [
            "lr: 0.001\n",
            "Epoch 1 of 10: RMSE Train Loss: 2.0275, RMSE Test Loss: 1.9576\n",
            "Epoch 2 of 10: RMSE Train Loss: 1.7035, RMSE Test Loss: 1.8732\n",
            "Epoch 3 of 10: RMSE Train Loss: 1.5852, RMSE Test Loss: 1.8714\n",
            "Epoch 4 of 10: RMSE Train Loss: 1.5251, RMSE Test Loss: 1.8720\n",
            "Epoch 5 of 10: RMSE Train Loss: 1.4801, RMSE Test Loss: 1.8808\n",
            "Epoch 6 of 10: RMSE Train Loss: 1.4441, RMSE Test Loss: 1.8887\n",
            "Epoch 7 of 10: RMSE Train Loss: 1.4087, RMSE Test Loss: 1.8947\n",
            "Epoch 8 of 10: RMSE Train Loss: 1.3794, RMSE Test Loss: 1.9064\n",
            "Epoch 9 of 10: RMSE Train Loss: 1.3466, RMSE Test Loss: 1.9238\n",
            "Epoch 10 of 10: RMSE Train Loss: 1.3186, RMSE Test Loss: 1.9261\n"
          ]
        },
        {
          "output_type": "display_data",
          "data": {
            "text/plain": [
              "<Figure size 640x480 with 1 Axes>"
            ],
            "image/png": "[encoded data removed]"
          },
          "metadata": {}
        }
      ]
    },
    {
      "cell_type": "code",
      "source": [
        "# with open(\"./P_MF_NCF_score.pickle\", \"wb\") as f1:\n",
        "#   pickle.dump(P_MF_NCF_score, f1)\n",
        "# with open(\"./Q_MF_NCF_score.pickle\", \"wb\") as f2:\n",
        "#   pickle.dump(Q_MFNCF_score, f2)"
      ],
      "metadata": {
        "id": "1QVlHHq9ABaz"
      },
      "execution_count": null,
      "outputs": []
    },
    {
      "cell_type": "markdown",
      "source": [
        "## NeuMF"
      ],
      "metadata": {
        "id": "TvLTzOac8hmh"
      }
    },
    {
      "cell_type": "code",
      "execution_count": 42,
      "metadata": {
        "id": "EnpLdBh-6eMk"
      },
      "outputs": [],
      "source": [
        "import torch\n",
        "import torch.nn as nn\n",
        "\n",
        "class NeuMF(nn.Module):\n",
        "    def __init__(self, num_users, num_items, U, V, P, Q, embedding_dim=32, mf_latent=24, layers=[8, 4, 2], dropout=0.3):\n",
        "        super(NeuMF, self).__init__()\n",
        "        \n",
        "        self.user_emb = nn.Embedding(num_users, embedding_dim)\n",
        "        self.item_emb = nn.Embedding(num_items, embedding_dim)\n",
        "\n",
        "        self.user_emb2 = nn.Embedding(num_users, mf_latent)\n",
        "        self.item_emb2 = nn.Embedding(num_items, mf_latent)\n",
        "        \n",
        "        self.mlp_layers = []\n",
        "        in_dim = 2 * embedding_dim\n",
        "        for layer_size in layers:\n",
        "            self.mlp_layers.append(nn.Linear(in_dim, layer_size))\n",
        "            self.mlp_layers.append(nn.ReLU())\n",
        "            self.mlp_layers.append(nn.Dropout(p=dropout))\n",
        "            in_dim = layer_size\n",
        "        \n",
        "        self.mf_user = nn.Linear(mf_latent, mf_latent)\n",
        "        self.mf_item = nn.Linear(mf_latent, mf_latent)\n",
        "        \n",
        "        self.pred_layer = nn.Linear(in_dim + mf_latent, 1)\n",
        "        \n",
        "        if U is not None:\n",
        "            self.user_emb.weight.data.copy_(U.weight.data)\n",
        "        if V is not None:\n",
        "            self.item_emb.weight.data.copy_(V.weight.data)\n",
        "        if P is not None:\n",
        "            self.user_emb2.weight.data.copy_(torch.from_numpy(P))\n",
        "        if Q is not None:\n",
        "            self.item_emb2.weight.data.copy_(torch.from_numpy(Q))\n",
        "        \n",
        "    def forward(self, user, item):\n",
        "        user_emb = self.user_emb(user)\n",
        "        item_emb = self.item_emb(item)\n",
        "        \n",
        "        mlp_in = torch.cat([user_emb, item_emb], dim=1)\n",
        "        for layer in self.mlp_layers:\n",
        "            mlp_in = layer(mlp_in)\n",
        "        \n",
        "        mf_user_emb = self.user_emb2(user)\n",
        "        # print(\"mf_user_emb:\", mf_user_emb)\n",
        "        mf_item_emb = self.item_emb2(item)\n",
        "        # print(\"mf_item_emb:\",mf_item_emb)\n",
        "\n",
        "        mf_in = mf_user_emb * mf_item_emb\n",
        "        \n",
        "        pred_in = torch.cat([mlp_in, mf_in], dim=1)\n",
        "        prediction = torch.sigmoid(self.pred_layer(pred_in)) * 10\n",
        "        \n",
        "        return prediction.squeeze(), mf_user_emb, mf_item_emb"
      ]
    },
    {
      "cell_type": "code",
      "source": [
        "def train_NeuMF(lr, num_epochs, latent_factors, U, V, P, Q):\n",
        "  embedding_dim = latent_factors\n",
        "  model = NeuMF(num_user, num_items, U, V, P, Q, embedding_dim)\n",
        "  loss_fn = nn.MSELoss()\n",
        "  optimizer = torch.optim.Adam(model.parameters(), lr=lr)\n",
        "\n",
        "  train_loss = []\n",
        "  test_loss = []\n",
        "  best_P = []\n",
        "  best_Q = []\n",
        "\n",
        "  for epoch in range(num_epochs):\n",
        "      model.train()\n",
        "      running_train_loss = []\n",
        "      for batch in train_dataloader:\n",
        "          user, item, rating, item_features = batch\n",
        "          \n",
        "          rating_pred, user_latent, item_latent = model(user, item)\n",
        "          # rating_pred = model(user, item)\n",
        "          # print(type(rating_pred), type(rating))\n",
        "          \n",
        "          # print(rating_pred)\n",
        "          loss = loss_fn(rating_pred, rating)\n",
        "          running_train_loss.append(np.sqrt(loss.item()))\n",
        "          \n",
        "          optimizer.zero_grad()\n",
        "          loss.backward()\n",
        "          optimizer.step()\n",
        "        \n",
        "      model.eval()\n",
        "      running_test_loss = []\n",
        "\n",
        "      with torch.no_grad():\n",
        "        for batch in test_dataloader:\n",
        "          user, item, rating, item_features = batch\n",
        "          rating_pred, _, __ = model(user, item)\n",
        "          loss = loss_fn(rating_pred, rating)\n",
        "          running_test_loss.append(np.sqrt(loss.item()))\n",
        "      \n",
        "      print('Epoch', epoch + 1, 'of', num_epochs, end=': ')\n",
        "      print('RMSE Train Loss: {:.4f}'.format(np.mean(running_train_loss)), end=', ')\n",
        "      print('RMSE Test Loss: {:.4f}'.format(np.mean(running_test_loss)))\n",
        "\n",
        "      train_loss.append(np.mean(running_train_loss))\n",
        "      test_loss.append(np.mean(running_test_loss))\n",
        "\n",
        "      if min(test_loss) == np.mean(running_test_loss):\n",
        "        best_P = user_latent\n",
        "        best_Q = item_latent\n",
        "\n",
        "  x = [i + 1 for i in range(num_epochs)]\n",
        "  plt.plot(x, train_loss, label='train_loss')\n",
        "  plt.plot(x, test_loss, label='test_loss')\n",
        "  leg = plt.legend(loc='upper center')\n",
        "  plt.xticks([i + 1 for i in range(0, num_epochs, 3)]) \n",
        "  plt.show()\n",
        "\n",
        "  return best_P, best_Q"
      ],
      "metadata": {
        "id": "KVNbngC0GN36"
      },
      "execution_count": 47,
      "outputs": []
    },
    {
      "cell_type": "code",
      "source": [
        "lr=0.0005 #1.8529\n",
        "num_epochs = 20\n",
        "latent_factors = 32\n",
        "P_neuMF, Q_neuMF = train_NeuMF(lr, num_epochs, latent_factors, U, V, P1, Q1.T)"
      ],
      "metadata": {
        "colab": {
          "base_uri": "https://localhost:8080/",
          "height": 777
        },
        "id": "-EASBFA5n7z3",
        "outputId": "bccf3243-6ea5-4224-87b0-20d151481040"
      },
      "execution_count": 56,
      "outputs": [
        {
          "output_type": "stream",
          "name": "stdout",
          "text": [
            "Epoch 1 of 20: RMSE Train Loss: 2.4683, RMSE Test Loss: 2.1402\n",
            "Epoch 2 of 20: RMSE Train Loss: 1.8945, RMSE Test Loss: 2.0096\n",
            "Epoch 3 of 20: RMSE Train Loss: 1.8029, RMSE Test Loss: 1.9753\n",
            "Epoch 4 of 20: RMSE Train Loss: 1.7472, RMSE Test Loss: 1.9424\n",
            "Epoch 5 of 20: RMSE Train Loss: 1.6948, RMSE Test Loss: 1.9211\n",
            "Epoch 6 of 20: RMSE Train Loss: 1.6438, RMSE Test Loss: 1.8968\n",
            "Epoch 7 of 20: RMSE Train Loss: 1.5951, RMSE Test Loss: 1.8834\n",
            "Epoch 8 of 20: RMSE Train Loss: 1.5497, RMSE Test Loss: 1.8688\n",
            "Epoch 9 of 20: RMSE Train Loss: 1.5066, RMSE Test Loss: 1.8601\n",
            "Epoch 10 of 20: RMSE Train Loss: 1.4654, RMSE Test Loss: 1.8567\n",
            "Epoch 11 of 20: RMSE Train Loss: 1.4264, RMSE Test Loss: 1.8531\n",
            "Epoch 12 of 20: RMSE Train Loss: 1.3909, RMSE Test Loss: 1.8534\n",
            "Epoch 13 of 20: RMSE Train Loss: 1.3570, RMSE Test Loss: 1.8545\n",
            "Epoch 14 of 20: RMSE Train Loss: 1.3258, RMSE Test Loss: 1.8559\n",
            "Epoch 15 of 20: RMSE Train Loss: 1.2952, RMSE Test Loss: 1.8615\n",
            "Epoch 16 of 20: RMSE Train Loss: 1.2653, RMSE Test Loss: 1.8653\n",
            "Epoch 17 of 20: RMSE Train Loss: 1.2359, RMSE Test Loss: 1.8718\n",
            "Epoch 18 of 20: RMSE Train Loss: 1.2067, RMSE Test Loss: 1.8793\n",
            "Epoch 19 of 20: RMSE Train Loss: 1.1800, RMSE Test Loss: 1.8833\n",
            "Epoch 20 of 20: RMSE Train Loss: 1.1503, RMSE Test Loss: 1.8949\n"
          ]
        },
        {
          "output_type": "display_data",
          "data": {
            "text/plain": [
              "<Figure size 640x480 with 1 Axes>"
            ],
            "image/png": "[encoded data removed]"
          },
          "metadata": {}
        }
      ]
    },
    {
      "cell_type": "code",
      "source": [
        "# with open(\"./P_NeuMF.pickle\", \"wb\") as f1:\n",
        "#   pickle.dump(P_neuMF, f1)\n",
        "# with open(\"./Q_NeuMF.pickle\", \"wb\") as f2:\n",
        "#   pickle.dump(Q_neuMF, f2)"
      ],
      "metadata": {
        "id": "YTzvnCIWEjlE"
      },
      "execution_count": null,
      "outputs": []
    },
    {
      "cell_type": "markdown",
      "source": [
        "## NCF Pretrained + NeuMF"
      ],
      "metadata": {
        "id": "BstaYYguERJK"
      }
    },
    {
      "cell_type": "code",
      "source": [
        "lr=0.0001 #1.8474\n",
        "num_epochs = 60\n",
        "latent_factors = 32\n",
        "P_NCF_NeuMF, Q_NCF_NeuMF = train_NeuMF(lr, num_epochs, latent_factors, U, V, np.array(P_MF_NCF.weight.data), np.array(Q_MF_NCF.weight.data))"
      ],
      "metadata": {
        "colab": {
          "base_uri": "https://localhost:8080/",
          "height": 1000
        },
        "id": "gXYQDRxQDkCC",
        "outputId": "5c6e8d8e-78e2-4c92-c111-a1d82803b7fc"
      },
      "execution_count": 64,
      "outputs": [
        {
          "output_type": "stream",
          "name": "stdout",
          "text": [
            "Epoch 1 of 60: RMSE Train Loss: 3.4954, RMSE Test Loss: 3.2863\n",
            "Epoch 2 of 60: RMSE Train Loss: 3.0842, RMSE Test Loss: 2.9302\n",
            "Epoch 3 of 60: RMSE Train Loss: 2.7335, RMSE Test Loss: 2.6456\n",
            "Epoch 4 of 60: RMSE Train Loss: 2.4526, RMSE Test Loss: 2.4278\n",
            "Epoch 5 of 60: RMSE Train Loss: 2.2397, RMSE Test Loss: 2.2725\n",
            "Epoch 6 of 60: RMSE Train Loss: 2.0852, RMSE Test Loss: 2.1667\n",
            "Epoch 7 of 60: RMSE Train Loss: 1.9763, RMSE Test Loss: 2.0949\n",
            "Epoch 8 of 60: RMSE Train Loss: 1.9021, RMSE Test Loss: 2.0477\n",
            "Epoch 9 of 60: RMSE Train Loss: 1.8516, RMSE Test Loss: 2.0179\n",
            "Epoch 10 of 60: RMSE Train Loss: 1.8168, RMSE Test Loss: 1.9975\n",
            "Epoch 11 of 60: RMSE Train Loss: 1.7923, RMSE Test Loss: 1.9856\n",
            "Epoch 12 of 60: RMSE Train Loss: 1.7735, RMSE Test Loss: 1.9781\n",
            "Epoch 13 of 60: RMSE Train Loss: 1.7586, RMSE Test Loss: 1.9708\n",
            "Epoch 14 of 60: RMSE Train Loss: 1.7448, RMSE Test Loss: 1.9608\n",
            "Epoch 15 of 60: RMSE Train Loss: 1.7315, RMSE Test Loss: 1.9567\n",
            "Epoch 16 of 60: RMSE Train Loss: 1.7190, RMSE Test Loss: 1.9511\n",
            "Epoch 17 of 60: RMSE Train Loss: 1.7065, RMSE Test Loss: 1.9443\n",
            "Epoch 18 of 60: RMSE Train Loss: 1.6933, RMSE Test Loss: 1.9344\n",
            "Epoch 19 of 60: RMSE Train Loss: 1.6802, RMSE Test Loss: 1.9282\n",
            "Epoch 20 of 60: RMSE Train Loss: 1.6673, RMSE Test Loss: 1.9242\n",
            "Epoch 21 of 60: RMSE Train Loss: 1.6532, RMSE Test Loss: 1.9171\n",
            "Epoch 22 of 60: RMSE Train Loss: 1.6397, RMSE Test Loss: 1.9134\n",
            "Epoch 23 of 60: RMSE Train Loss: 1.6260, RMSE Test Loss: 1.9041\n",
            "Epoch 24 of 60: RMSE Train Loss: 1.6120, RMSE Test Loss: 1.9000\n",
            "Epoch 25 of 60: RMSE Train Loss: 1.5978, RMSE Test Loss: 1.8944\n",
            "Epoch 26 of 60: RMSE Train Loss: 1.5842, RMSE Test Loss: 1.8901\n",
            "Epoch 27 of 60: RMSE Train Loss: 1.5709, RMSE Test Loss: 1.8867\n",
            "Epoch 28 of 60: RMSE Train Loss: 1.5575, RMSE Test Loss: 1.8828\n",
            "Epoch 29 of 60: RMSE Train Loss: 1.5438, RMSE Test Loss: 1.8753\n",
            "Epoch 30 of 60: RMSE Train Loss: 1.5312, RMSE Test Loss: 1.8754\n",
            "Epoch 31 of 60: RMSE Train Loss: 1.5178, RMSE Test Loss: 1.8681\n",
            "Epoch 32 of 60: RMSE Train Loss: 1.5055, RMSE Test Loss: 1.8668\n",
            "Epoch 33 of 60: RMSE Train Loss: 1.4937, RMSE Test Loss: 1.8598\n",
            "Epoch 34 of 60: RMSE Train Loss: 1.4811, RMSE Test Loss: 1.8593\n",
            "Epoch 35 of 60: RMSE Train Loss: 1.4695, RMSE Test Loss: 1.8572\n",
            "Epoch 36 of 60: RMSE Train Loss: 1.4579, RMSE Test Loss: 1.8521\n",
            "Epoch 37 of 60: RMSE Train Loss: 1.4468, RMSE Test Loss: 1.8517\n",
            "Epoch 38 of 60: RMSE Train Loss: 1.4357, RMSE Test Loss: 1.8539\n",
            "Epoch 39 of 60: RMSE Train Loss: 1.4256, RMSE Test Loss: 1.8522\n",
            "Epoch 40 of 60: RMSE Train Loss: 1.4149, RMSE Test Loss: 1.8511\n",
            "Epoch 41 of 60: RMSE Train Loss: 1.4051, RMSE Test Loss: 1.8485\n",
            "Epoch 42 of 60: RMSE Train Loss: 1.3947, RMSE Test Loss: 1.8499\n",
            "Epoch 43 of 60: RMSE Train Loss: 1.3855, RMSE Test Loss: 1.8462\n",
            "Epoch 44 of 60: RMSE Train Loss: 1.3763, RMSE Test Loss: 1.8484\n",
            "Epoch 45 of 60: RMSE Train Loss: 1.3670, RMSE Test Loss: 1.8497\n",
            "Epoch 46 of 60: RMSE Train Loss: 1.3583, RMSE Test Loss: 1.8461\n",
            "Epoch 47 of 60: RMSE Train Loss: 1.3499, RMSE Test Loss: 1.8474\n",
            "Epoch 48 of 60: RMSE Train Loss: 1.3412, RMSE Test Loss: 1.8479\n",
            "Epoch 49 of 60: RMSE Train Loss: 1.3332, RMSE Test Loss: 1.8473\n",
            "Epoch 50 of 60: RMSE Train Loss: 1.3244, RMSE Test Loss: 1.8523\n",
            "Epoch 51 of 60: RMSE Train Loss: 1.3172, RMSE Test Loss: 1.8519\n",
            "Epoch 52 of 60: RMSE Train Loss: 1.3082, RMSE Test Loss: 1.8515\n",
            "Epoch 53 of 60: RMSE Train Loss: 1.3008, RMSE Test Loss: 1.8555\n",
            "Epoch 54 of 60: RMSE Train Loss: 1.2940, RMSE Test Loss: 1.8522\n",
            "Epoch 55 of 60: RMSE Train Loss: 1.2871, RMSE Test Loss: 1.8567\n",
            "Epoch 56 of 60: RMSE Train Loss: 1.2792, RMSE Test Loss: 1.8573\n",
            "Epoch 57 of 60: RMSE Train Loss: 1.2721, RMSE Test Loss: 1.8597\n",
            "Epoch 58 of 60: RMSE Train Loss: 1.2657, RMSE Test Loss: 1.8617\n",
            "Epoch 59 of 60: RMSE Train Loss: 1.2586, RMSE Test Loss: 1.8614\n",
            "Epoch 60 of 60: RMSE Train Loss: 1.2525, RMSE Test Loss: 1.8595\n"
          ]
        },
        {
          "output_type": "display_data",
          "data": {
            "text/plain": [
              "<Figure size 640x480 with 1 Axes>"
            ],
            "image/png": "[encoded data removed]"
          },
          "metadata": {}
        }
      ]
    },
    {
      "cell_type": "code",
      "source": [
        "with open(\"./P_NCF_NeuMF.pickle\", \"wb\") as f1:\n",
        "  pickle.dump(P_NCF_NeuMF, f1)\n",
        "with open(\"./Q_NCF_NeuMF.pickle\", \"wb\") as f2:\n",
        "  pickle.dump(Q_NCF_NeuMF, f2)"
      ],
      "metadata": {
        "id": "eEUKUrfb_SUn"
      },
      "execution_count": 65,
      "outputs": []
    },
    {
      "cell_type": "code",
      "source": [],
      "metadata": {
        "id": "AXxsw2ROAj-M"
      },
      "execution_count": null,
      "outputs": []
    }
  ],
  "metadata": {
    "colab": {
      "provenance": []
    },
    "kernelspec": {
      "display_name": "Python 3",
      "name": "python3"
    },
    "language_info": {
      "name": "python"
    }
  },
  "nbformat": 4,
  "nbformat_minor": 0
}